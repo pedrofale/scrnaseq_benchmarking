{
 "cells": [
  {
   "cell_type": "markdown",
   "metadata": {
    "toc": true
   },
   "source": [
    "<h1>Table of Contents<span class=\"tocSkip\"></span></h1>\n",
    "<div class=\"toc\"><ul class=\"toc-item\"><li><span><a href=\"#Initialization\" data-toc-modified-id=\"Initialization-1\"><span class=\"toc-item-num\">1&nbsp;&nbsp;</span>Initialization</a></span><ul class=\"toc-item\"><li><span><a href=\"#Imports-and-configurations\" data-toc-modified-id=\"Imports-and-configurations-1.1\"><span class=\"toc-item-num\">1.1&nbsp;&nbsp;</span>Imports and configurations</a></span></li><li><span><a href=\"#Data-set-preparation:-ZEISEL\" data-toc-modified-id=\"Data-set-preparation:-ZEISEL-1.2\"><span class=\"toc-item-num\">1.2&nbsp;&nbsp;</span>Data set preparation: ZEISEL</a></span></li></ul></li><li><span><a href=\"#Run-models\" data-toc-modified-id=\"Run-models-2\"><span class=\"toc-item-num\">2&nbsp;&nbsp;</span>Run models</a></span><ul class=\"toc-item\"><li><span><a href=\"#Factor-Analysis\" data-toc-modified-id=\"Factor-Analysis-2.1\"><span class=\"toc-item-num\">2.1&nbsp;&nbsp;</span>Factor Analysis</a></span></li><li><span><a href=\"#ZIFA\" data-toc-modified-id=\"ZIFA-2.2\"><span class=\"toc-item-num\">2.2&nbsp;&nbsp;</span>ZIFA</a></span></li><li><span><a href=\"#pCMF\" data-toc-modified-id=\"pCMF-2.3\"><span class=\"toc-item-num\">2.3&nbsp;&nbsp;</span>pCMF</a></span></li><li><span><a href=\"#ZINB-WaVE\" data-toc-modified-id=\"ZINB-WaVE-2.4\"><span class=\"toc-item-num\">2.4&nbsp;&nbsp;</span>ZINB-WaVE</a></span></li><li><span><a href=\"#scVI\" data-toc-modified-id=\"scVI-2.5\"><span class=\"toc-item-num\">2.5&nbsp;&nbsp;</span>scVI</a></span></li><li><span><a href=\"#m-pCMF\" data-toc-modified-id=\"m-pCMF-2.6\"><span class=\"toc-item-num\">2.6&nbsp;&nbsp;</span>m-pCMF</a></span></li><li><span><a href=\"#ZINBayes\" data-toc-modified-id=\"ZINBayes-2.7\"><span class=\"toc-item-num\">2.7&nbsp;&nbsp;</span>ZINBayes</a></span></li></ul></li><li><span><a href=\"#Plot-results\" data-toc-modified-id=\"Plot-results-3\"><span class=\"toc-item-num\">3&nbsp;&nbsp;</span>Plot results</a></span><ul class=\"toc-item\"><li><span><a href=\"#Latent-space-clustering\" data-toc-modified-id=\"Latent-space-clustering-3.1\"><span class=\"toc-item-num\">3.1&nbsp;&nbsp;</span>Latent space clustering</a></span></li><li><span><a href=\"#Held-out-data-log-likelihood\" data-toc-modified-id=\"Held-out-data-log-likelihood-3.2\"><span class=\"toc-item-num\">3.2&nbsp;&nbsp;</span>Held-out data log-likelihood</a></span></li><li><span><a href=\"#Imputation-error\" data-toc-modified-id=\"Imputation-error-3.3\"><span class=\"toc-item-num\">3.3&nbsp;&nbsp;</span>Imputation error</a></span></li><li><span><a href=\"#Technical-variability\" data-toc-modified-id=\"Technical-variability-3.4\"><span class=\"toc-item-num\">3.4&nbsp;&nbsp;</span>Technical variability</a></span></li><li><span><a href=\"#Gene-groups\" data-toc-modified-id=\"Gene-groups-3.5\"><span class=\"toc-item-num\">3.5&nbsp;&nbsp;</span>Gene groups</a></span></li><li><span><a href=\"#Differential-Expression\" data-toc-modified-id=\"Differential-Expression-3.6\"><span class=\"toc-item-num\">3.6&nbsp;&nbsp;</span>Differential Expression</a></span></li></ul></li></ul></div>"
   ]
  },
  {
   "cell_type": "markdown",
   "metadata": {},
   "source": [
    "# Initialization"
   ]
  },
  {
   "cell_type": "markdown",
   "metadata": {},
   "source": [
    "## Imports and configurations"
   ]
  },
  {
   "cell_type": "code",
   "execution_count": 1,
   "metadata": {},
   "outputs": [],
   "source": [
    "%load_ext autoreload\n",
    "%autoreload 2"
   ]
  },
  {
   "cell_type": "code",
   "execution_count": 2,
   "metadata": {},
   "outputs": [],
   "source": [
    "# %matplotlib inline\n",
    "\n",
    "from zinbayes.zinbayes import ZINBayes\n",
    "\n",
    "from pCMF import mpCMF\n",
    "\n",
    "from state_of_art.scVI.scvi import scVI\n",
    "from state_of_art.ZIFA.zifa import ZIFA\n",
    "from state_of_art.ZINB_WaVE.zinb_wave import ZINB_WaVE\n",
    "from state_of_art.pCMF.pcmf import pCMF\n",
    "\n",
    "from misc.model_wrapper import ModelWrapper\n",
    "from misc import print_utils, plot_utils\n",
    "\n",
    "import edward as ed\n",
    "import matplotlib.pyplot as plt\n",
    "import seaborn as sns\n",
    "import numpy as np\n",
    "import tensorflow as tf\n",
    "from scipy.stats import gaussian_kde, pearsonr\n",
    "import pandas as pd\n",
    "from sklearn.decomposition import FactorAnalysis\n",
    "from sklearn.manifold import TSNE\n",
    "from sklearn.metrics import silhouette_score\n",
    "from sklearn.model_selection import train_test_split, KFold\n",
    "from sklearn.metrics import confusion_matrix\n",
    "from sklearn.metrics import classification_report\n",
    "from sklearn.cluster import KMeans\n",
    "from sklearn.metrics import normalized_mutual_info_score, adjusted_rand_score\n",
    "\n",
    "from edward.models import Beta, RelaxedBernoulli, Gamma, Poisson, Dirichlet, Mixture, Categorical, TransformedDistribution, Normal, PointMass\n",
    "\n",
    "plt.style.use('seaborn-whitegrid')"
   ]
  },
  {
   "cell_type": "code",
   "execution_count": 3,
   "metadata": {},
   "outputs": [],
   "source": [
    "# scatter plots style\n",
    "s = 30\n",
    "alpha = 0.5"
   ]
  },
  {
   "cell_type": "markdown",
   "metadata": {},
   "source": [
    "## Data set preparation: ZEISEL"
   ]
  },
  {
   "cell_type": "code",
   "execution_count": 7,
   "metadata": {
    "scrolled": true
   },
   "outputs": [
    {
     "name": "stdout",
     "output_type": "stream",
     "text": [
      "Data shape:\n",
      "3005 cells, 558 genes\n",
      "\n",
      "7 cell types: ['astrocytes_ependymal' 'endothelial-mural' 'interneurons' 'microglia'\n",
      " 'oligodendrocytes' 'pyramidal CA1' 'pyramidal SS']\n",
      "\n",
      "Percentage of zeros in the data set:\n",
      "29.01%\n"
     ]
    }
   ],
   "source": [
    "# Data retrieved from \n",
    "# https://storage.googleapis.com/linnarsson-lab-www-blobs/blobs/cortex/expression_mRNA_17-Aug-2014.txt\n",
    "\n",
    "data_path = '../../data/Zeisel/expression_mRNA_17-Aug-2014.txt'\n",
    "X = pd.read_csv(data_path, sep='\\t', low_memory=False).T\n",
    "\n",
    "clusters = np.array(X[7], dtype=str)[2:]\n",
    "precise_clusters = np.array(X[0], dtype=str)[2:]\n",
    "celltypes, labels = np.unique(clusters, return_inverse=True)\n",
    "_, precise_labels = np.unique(precise_clusters, return_inverse=True)\n",
    "gene_names = np.array(X.iloc[0], dtype=str)[10:]\n",
    "X = X.loc[:, 10:]\n",
    "X = X.drop(X.index[0])\n",
    "expression = np.array(X, dtype=np.int)[1:]\n",
    "\n",
    "var_genes = np.var(expression, axis=0)\n",
    "X = expression[:, np.argsort(var_genes)[-558:]]\n",
    "\n",
    "n_cells = X.shape[0]\n",
    "n_genes = X.shape[1]\n",
    "\n",
    "print('Data shape:')\n",
    "print('{} cells, {} genes\\n'.format(X.shape[0], X.shape[1]))\n",
    "print('{} cell types: {}\\n'.format(celltypes.size, celltypes))\n",
    "print('Percentage of zeros in the data set:')\n",
    "print('{:.2f}%'.format(np.count_nonzero(X==0) / X.size * 100))"
   ]
  },
  {
   "cell_type": "code",
   "execution_count": null,
   "metadata": {},
   "outputs": [],
   "source": [
    "X_train, X_test, c_train, c_test, = train_test_split(X, labels, test_size=0.3, shuffle=True) "
   ]
  },
  {
   "cell_type": "code",
   "execution_count": null,
   "metadata": {},
   "outputs": [],
   "source": [
    "N = X_train.shape[0]\n",
    "N_test = X_test.shape[0]\n",
    "P = n_genes\n",
    "C = np.unique(labels).size"
   ]
  },
  {
   "cell_type": "markdown",
   "metadata": {},
   "source": [
    "# Run models\n",
    "For each model, we need:\n",
    "* 5 repetitions on the full data set, for clustering benchmarking. \n",
    "    - Keep the best run and:\n",
    "         - perform t-SNE;\n",
    "         - get m-pCMF and ZINBayes' cell scalings.\n",
    "* 5-fold cross-validation to compute the held-out data log-likelihood.\n",
    "* Run on 5 different corrupted full data sets for imputation benchmarking.\n",
    "\n",
    "(ensure scVI does not separate the data more than we want it to.)"
   ]
  },
  {
   "cell_type": "code",
   "execution_count": 5,
   "metadata": {},
   "outputs": [],
   "source": [
    "K = 10"
   ]
  },
  {
   "cell_type": "markdown",
   "metadata": {},
   "source": [
    "## Factor Analysis"
   ]
  },
  {
   "cell_type": "code",
   "execution_count": null,
   "metadata": {},
   "outputs": [],
   "source": [
    "obj = FactorAnalysis(n_components=K)\n",
    "fa = ModelWrapper(obj, X_train, c_train=c_train, X_test=X_test, name='FA', do_imp=False, log_data=True)\n",
    "fa.run(max_iter=1000, do_silh=True, do_dll=True, do_holl=True, do_tsne=False, verbose=True)"
   ]
  },
  {
   "cell_type": "code",
   "execution_count": null,
   "metadata": {},
   "outputs": [],
   "source": [
    "# 5 repetitions on the full data set\n",
    "fa_full_reps = []\n",
    "\n",
    "for i in range(5):\n",
    "    print('Run {}...'.format(i))\n",
    "    obj = FactorAnalysis(n_components=K)\n",
    "    fa = ModelWrapper(obj, X, c_train=labels, name='FA', do_imp=False, log_data=True)\n",
    "    fa.run(do_silh=True, do_dll=False, do_holl=False, do_tsne=False, verbose=True)\n",
    "    \n",
    "    fa_full_reps.append(fa)\n",
    "    print('Done.\\n')"
   ]
  },
  {
   "cell_type": "code",
   "execution_count": null,
   "metadata": {},
   "outputs": [],
   "source": [
    "# 5-fold cross-validation \n",
    "fa_cv = []\n",
    "\n",
    "kf = KFold(n_splits=5, shuffle=True, random_state=42)\n",
    "fold = 0\n",
    "for train_idx, test_idx in kf.split(X, labels):\n",
    "    fold = fold + 1\n",
    "    print('Fold {}...'.format(fold))\n",
    "    Y_train = X[train_idx]\n",
    "    c_train = labels[train_idx]\n",
    "    Y_test = X[test_idx]\n",
    "\n",
    "    obj = FactorAnalysis(n_components=K)\n",
    "    fa = ModelWrapper(obj, Y_train, c_train=c_train, X_test=Y_test, name='FA', log_data=True, do_imp=False)\n",
    "    fa.run(do_silh=False, do_dll=True, do_holl=True, do_tsne=False, verbose=True)\n",
    "    \n",
    "    fa_cv.append(fa)\n",
    "    print('Done.\\n')"
   ]
  },
  {
   "cell_type": "markdown",
   "metadata": {},
   "source": [
    "## ZIFA"
   ]
  },
  {
   "cell_type": "code",
   "execution_count": null,
   "metadata": {},
   "outputs": [],
   "source": [
    "obj = ZIFA(n_components=K)\n",
    "zifa = ModelWrapper(obj, X_train, c_train=c_train, X_test=X_test, name='ZIFA', log_data=True, do_imp=False)\n",
    "zifa.run(max_iter=1000, do_silh=True, do_dll=True, do_holl=True, do_tsne=False, verbose=True)"
   ]
  },
  {
   "cell_type": "code",
   "execution_count": null,
   "metadata": {},
   "outputs": [],
   "source": [
    "# 5 repetitions on the full data set\n",
    "zifa_full_reps = []\n",
    "\n",
    "for i in range(5):\n",
    "    print('Run {}...'.format(i))\n",
    "    obj = ZIFA(n_components=K)\n",
    "    zifa = ModelWrapper(obj, X, c_train=labels, name='ZIFA', log_data=True, do_imp=False)\n",
    "    zifa.run(max_iter=1000, do_silh=True, max_time=60*60, do_dll=False, do_holl=False, do_tsne=False, verbose=True)\n",
    "    \n",
    "    zifa_full_reps.append(zifa)\n",
    "    print('Done.\\n')"
   ]
  },
  {
   "cell_type": "code",
   "execution_count": null,
   "metadata": {},
   "outputs": [],
   "source": [
    "# 5-fold cross-validation \n",
    "zifa_cv = []\n",
    "\n",
    "kf = KFold(n_splits=5, shuffle=True, random_state=42)\n",
    "fold = 0\n",
    "for train_idx, test_idx in kf.split(X, labels):\n",
    "    fold = fold + 1\n",
    "    print('Fold {}...'.format(fold))\n",
    "    X_train = X[train_idx]\n",
    "    c_train = labels[train_idx]\n",
    "    X_test = X[test_idx]\n",
    "\n",
    "    obj = ZIFA(n_components=K)\n",
    "    zifa = ModelWrapper(obj, X_train, c_train=c_train, X_test=X_test, log_data=True, name='ZIFA')\n",
    "    zifa.run(max_time=60*60, max_iter=100, do_silh=False, do_dll=True, do_holl=True, do_tsne=False, verbose=True)\n",
    "    \n",
    "    zifa_cv.append(zifa)\n",
    "    print('Done.\\n')"
   ]
  },
  {
   "cell_type": "code",
   "execution_count": null,
   "metadata": {},
   "outputs": [],
   "source": [
    "# 5 corrupted data sets\n",
    "zifa_imputation = []\n",
    "\n",
    "for i in range(5):\n",
    "    print('Run {}...'.format(i))\n",
    "    obj = ZIFA(n_components=K)\n",
    "    zifa = ModelWrapper(obj, X, c_train=labels, X_test=None, log_data=True, name='ZIFA', do_imp=True)\n",
    "    zifa.run(max_time=60*60, max_iter=100, do_silh=False, do_dll=False, do_holl=False, do_tsne=False, verbose=True)\n",
    "    \n",
    "    zifa_imputation.append(zifa)\n",
    "    print('Done.\\n')"
   ]
  },
  {
   "cell_type": "markdown",
   "metadata": {},
   "source": [
    "## pCMF"
   ]
  },
  {
   "cell_type": "code",
   "execution_count": null,
   "metadata": {},
   "outputs": [],
   "source": [
    "obj = pCMF(n_components=K)\n",
    "pcmf = ModelWrapper(obj, X, c_train=labels, name='pCMF', log_data=False, do_imp=False)\n",
    "pcmf.run(max_iter=100, do_silh=True, do_dll=False, do_holl=False, do_tsne=False, verbose=True)"
   ]
  },
  {
   "cell_type": "code",
   "execution_count": null,
   "metadata": {},
   "outputs": [],
   "source": [
    "plt.plot(pcmf.model_inst.train_ll_it/X.shape[0])"
   ]
  },
  {
   "cell_type": "code",
   "execution_count": null,
   "metadata": {
    "scrolled": true
   },
   "outputs": [],
   "source": [
    "# 5 repetitions on the full data set\n",
    "pcmf_full_reps = []\n",
    "\n",
    "for i in range(5):\n",
    "    print('Run {}...'.format(i))\n",
    "    obj = pCMF(n_components=K)\n",
    "    pcmf = ModelWrapper(obj, X, c_train=labels, name='pCMF', log_data=False, do_imp=False)\n",
    "    pcmf.run(max_iter=500, do_silh=True, do_dll=False, do_holl=False, do_tsne=False, verbose=True)\n",
    "    \n",
    "    pcmf_full_reps.append(pcmf)\n",
    "    print('Done.\\n')"
   ]
  },
  {
   "cell_type": "code",
   "execution_count": null,
   "metadata": {},
   "outputs": [],
   "source": [
    "# 5 repetitions on the full data set\n",
    "pcmf_imputation = []\n",
    "\n",
    "for i in range(5):\n",
    "    print('Run {}...'.format(i))\n",
    "    obj = pCMF(n_components=K)\n",
    "    pcmf = ModelWrapper(obj, X, c_train=labels, name='pCMF', log_data=False, do_imp=True)\n",
    "    pcmf.run(max_iter=500, do_silh=False, do_dll=False, do_holl=False, do_tsne=False, verbose=True)\n",
    "    \n",
    "    pcmf_imputation.append(pcmf)\n",
    "    print('Done.\\n')"
   ]
  },
  {
   "cell_type": "code",
   "execution_count": null,
   "metadata": {},
   "outputs": [],
   "source": [
    "pcmf_imputation[0].dropimp_err"
   ]
  },
  {
   "cell_type": "markdown",
   "metadata": {},
   "source": [
    "## ZINB-WaVE"
   ]
  },
  {
   "cell_type": "code",
   "execution_count": null,
   "metadata": {},
   "outputs": [],
   "source": [
    "obj = ZINB_WaVE(n_components=K)\n",
    "zinbwave = ModelWrapper(obj, X_train, c_train=c_train, X_test=X_test, name='ZINB-WaVE', log_data=False, do_imp=False)\n",
    "zinbwave.run(max_iter=1000, do_silh=True, do_dll=True, do_holl=True, do_tsne=False, verbose=True)"
   ]
  },
  {
   "cell_type": "code",
   "execution_count": null,
   "metadata": {},
   "outputs": [],
   "source": [
    "# 5 repetitions on the full data set\n",
    "zinbwave_full_reps = []\n",
    "\n",
    "for i in range(5):\n",
    "    print('Run {}...'.format(i))\n",
    "    obj = ZINB_WaVE(n_components=K)\n",
    "    zinbwave = ModelWrapper(obj, X, c_train=labels, name='ZINB-WaVE', log_data=False, do_imp=False)\n",
    "    zinbwave.run(do_silh=True, do_dll=False, do_holl=False, do_tsne=False, verbose=True)\n",
    "    \n",
    "    zinbwave_full_reps.append(zinbwave)\n",
    "    print('Done.\\n')"
   ]
  },
  {
   "cell_type": "code",
   "execution_count": null,
   "metadata": {},
   "outputs": [],
   "source": [
    "# 5-fold cross-validation \n",
    "zinbwave_cv = []\n",
    "\n",
    "kf = KFold(n_splits=5, shuffle=True, random_state=42)\n",
    "fold = 0\n",
    "for train_idx, test_idx in kf.split(X, labels):\n",
    "    fold = fold + 1\n",
    "    print('Fold {}...'.format(fold))\n",
    "    X_train = X[train_idx]\n",
    "    c_train = labels[train_idx]\n",
    "    X_test = X[test_idx]\n",
    "\n",
    "    obj = ZINB_WaVE(n_components=K)\n",
    "    zinbwave = ModelWrapper(obj, X_train, c_train=c_train, X_test=X_test, name='ZINB-WaVE', log_data=False, do_imp=False)\n",
    "    zinbwave.run(do_silh=False, do_dll=True, do_holl=True, do_tsne=False, verbose=True)\n",
    "    \n",
    "    zinbwave_cv.append(zinbwave)\n",
    "    print('Done.\\n')"
   ]
  },
  {
   "cell_type": "code",
   "execution_count": null,
   "metadata": {},
   "outputs": [],
   "source": [
    "# 5 repetitions on the full data set\n",
    "zinbwave_imputation = []\n",
    "\n",
    "for i in range(5):\n",
    "    print('Run {}...'.format(i))\n",
    "    obj = ZINB_WaVE(n_components=K)\n",
    "    zinbwave = ModelWrapper(obj, X, c_train=labels, X_test=None, name='ZINB-WaVE', log_data=False, do_imp=True)\n",
    "    zinbwave.run(max_iter=1000, do_silh=False, do_dll=False, do_holl=False, do_tsne=False, verbose=True)\n",
    "    \n",
    "    zinbwave_imputation.append(zinbwave)\n",
    "    print('Done.\\n')"
   ]
  },
  {
   "cell_type": "markdown",
   "metadata": {},
   "source": [
    "## scVI"
   ]
  },
  {
   "cell_type": "code",
   "execution_count": null,
   "metadata": {},
   "outputs": [],
   "source": [
    "obj = scVI(n_components=K, n_hidden=128, n_layers=1, batch_size=128, validation=True, X_test=X_test)\n",
    "scvi = ModelWrapper(obj, X_train, c_train=c_train, X_test=X_test, name='scVI', do_imp=False)\n",
    "scvi.run(max_iter=1000, do_silh=True, max_time=60*5, do_dll=True, do_holl=True, do_tsne=False, verbose=True)"
   ]
  },
  {
   "cell_type": "code",
   "execution_count": null,
   "metadata": {},
   "outputs": [],
   "source": [
    "plt.plot(scvi.model_inst.result['t_loss'][:250])\n",
    "plt.plot(scvi.model_inst.result['v_loss'][:250])"
   ]
  },
  {
   "cell_type": "code",
   "execution_count": null,
   "metadata": {},
   "outputs": [],
   "source": [
    "scvi.asw, scvi.ari, scvi.nmi, scvi.train_ll, scvi.test_ll"
   ]
  },
  {
   "cell_type": "code",
   "execution_count": null,
   "metadata": {},
   "outputs": [],
   "source": [
    "# 5 repetitions on the full data set\n",
    "scvi_full_reps = []\n",
    "\n",
    "for i in range(5):\n",
    "    print('Run {}...'.format(i))\n",
    "    obj = scVI(n_components=K, n_hidden=128, n_layers=1, batch_size=128)\n",
    "    scvi = ModelWrapper(obj, X, c_train=labels, name='scVI', do_imp=False)\n",
    "    scvi.run(max_iter=250, max_time=60*60, do_silh=True, do_dll=False, do_holl=False, do_tsne=False, verbose=True)\n",
    "    \n",
    "    scvi_full_reps.append(scvi)\n",
    "    print('Done.\\n')"
   ]
  },
  {
   "cell_type": "code",
   "execution_count": null,
   "metadata": {},
   "outputs": [],
   "source": [
    "# 5-fold cross-validation \n",
    "scvi_cv = []\n",
    "\n",
    "kf = KFold(n_splits=5, shuffle=True, random_state=42)\n",
    "fold = 0\n",
    "for train_idx, test_idx in kf.split(X, labels):\n",
    "    fold = fold + 1\n",
    "    print('Fold {}...'.format(fold))\n",
    "    X_train = X[train_idx]\n",
    "    c_train = labels[train_idx]\n",
    "    X_test = X[test_idx]\n",
    "\n",
    "    obj = scVI(n_components=K, n_hidden=128, batch_size=128)\n",
    "    scvi = ModelWrapper(obj, X_train, c_train=c_train, X_test=X_test, name='scVI')\n",
    "    scvi.run(max_iter=250, max_time=60*60, do_silh=False, do_dll=True, do_holl=True, do_tsne=False, verbose=True)\n",
    "    \n",
    "    scvi_cv.append(scvi)\n",
    "    print('Done.\\n')"
   ]
  },
  {
   "cell_type": "code",
   "execution_count": null,
   "metadata": {},
   "outputs": [],
   "source": [
    "# 5 corrupted data sets\n",
    "scvi_imputation = []\n",
    "\n",
    "for i in range(5):\n",
    "    print('Run {}...'.format(i))\n",
    "    obj = scVI(n_components=K, n_hidden=128, n_layers=1, batch_size=128)\n",
    "    scvi = ModelWrapper(obj, X, c_train=labels, X_test=None, name='scVI', do_imp=True)\n",
    "    scvi.run(max_iter=250, max_time=60*60, do_silh=False, do_dll=False, do_holl=False, do_tsne=False, verbose=True)\n",
    "    \n",
    "    scvi_imputation.append(scvi)\n",
    "    print('Done.\\n')"
   ]
  },
  {
   "cell_type": "markdown",
   "metadata": {},
   "source": [
    "## m-pCMF"
   ]
  },
  {
   "cell_type": "code",
   "execution_count": null,
   "metadata": {},
   "outputs": [],
   "source": [
    "np.sum(X_train, axis=1).max() / np.sum(X_train, axis=1).min()"
   ]
  },
  {
   "cell_type": "code",
   "execution_count": null,
   "metadata": {},
   "outputs": [],
   "source": [
    "# 5-fold cross-validation \n",
    "mpcmf_poi_cv = []\n",
    "\n",
    "kf = KFold(n_splits=5, shuffle=True, random_state=42)\n",
    "fold = 0\n",
    "for train_idx, test_idx in kf.split(X, labels):\n",
    "    fold = fold + 1\n",
    "    print('Fold {}...'.format(fold))\n",
    "    X_train = X[train_idx]\n",
    "    c_train = labels[train_idx]\n",
    "    X_test = X[test_idx]\n",
    "\n",
    "    mpcmf = mpCMF(X_train, Y_test=X_test, n_components=K, scalings=True, sparsity=False, \n",
    "                  zero_inflation=True, empirical_bayes=False, do_imp=False, name=\"m-pCMF\", minibatch_size=None, \n",
    "                  nb=False)\n",
    "    mpcmf.run(max_iter=1000, max_time=60*30, do_silh=False, do_holl=True, do_dll=True, tol=0.00005,\n",
    "              do_tsne=False, calc_test=False, verbose=True, calc_silh=False)\n",
    "    \n",
    "    mpcmf_poi_cv.append(mpcmf)\n",
    "    print('Done.\\n')"
   ]
  },
  {
   "cell_type": "code",
   "execution_count": 10,
   "metadata": {},
   "outputs": [
    {
     "name": "stdout",
     "output_type": "stream",
     "text": [
      "m-pCMF:\n",
      "Considering cell-specific scalings.\n",
      "Considering NB structure.\n",
      "Considering zero-inflated counts.\n",
      "Running m-pCMF...\n",
      "Iteration 123/1000. ELBO: -1798.7259679. Improvement: 0.0000496. Elapsed: 0h5m36s\n",
      "Convergence criterion reached.\n",
      "\n",
      "Done.\n"
     ]
    },
    {
     "name": "stderr",
     "output_type": "stream",
     "text": [
      "/home/ubuntu/thesis/venv/lib/python3.6/site-packages/sklearn/metrics/cluster/supervised.py:844: FutureWarning: The behavior of NMI will change in version 0.22. To match the behavior of 'v_measure_score', NMI will use average_method='arithmetic' by default.\n",
      "  FutureWarning)\n"
     ]
    }
   ],
   "source": [
    "mpcmf = mpCMF(X, c_train=labels, n_components=K, scalings=True, sparsity=False, \n",
    "                  zero_inflation=True, empirical_bayes=False, do_imp=False, name=\"m-pCMF\", minibatch_size=None, \n",
    "                  nb=True)\n",
    "mpcmf.run(max_iter=1000, max_time=60*30, do_silh=True, do_holl=False, do_dll=False, tol=0.00005,\n",
    "          do_tsne=False, calc_test=False, verbose=True)"
   ]
  },
  {
   "cell_type": "code",
   "execution_count": null,
   "metadata": {},
   "outputs": [],
   "source": [
    "x = np.linspace(0, 100, num=100)\n",
    "plt.plot(x, mpcmf.inf.elbo_it, 'k-')\n",
    "# pl.fill_between(x, y-error, y+error)"
   ]
  },
  {
   "cell_type": "code",
   "execution_count": null,
   "metadata": {},
   "outputs": [],
   "source": [
    "mpcmf.dropimp_err"
   ]
  },
  {
   "cell_type": "code",
   "execution_count": null,
   "metadata": {},
   "outputs": [],
   "source": [
    "mpcmf.asw, mpcmf.ari, mpcmf.nmi"
   ]
  },
  {
   "cell_type": "code",
   "execution_count": null,
   "metadata": {},
   "outputs": [],
   "source": [
    "mpcmf.test_ll"
   ]
  },
  {
   "cell_type": "code",
   "execution_count": null,
   "metadata": {},
   "outputs": [],
   "source": [
    "plt.plot(mpcmf.inf.silh_it)"
   ]
  },
  {
   "cell_type": "code",
   "execution_count": null,
   "metadata": {},
   "outputs": [],
   "source": [
    "plt.plot(mpcmf.inf.elbo_it)"
   ]
  },
  {
   "cell_type": "code",
   "execution_count": null,
   "metadata": {},
   "outputs": [],
   "source": [
    "# 5 repetitions on the full data set\n",
    "mpcmf_full_reps = []\n",
    "\n",
    "for i in range(5):\n",
    "    print('Run {}...'.format(i))\n",
    "    mpcmf = mpCMF(X, c_train=labels, n_components=K, scalings=True, sparsity=False, \n",
    "                  zero_inflation=True, empirical_bayes=False, do_imp=False, name=\"m-pCMF\", minibatch_size=None, \n",
    "                  nb=True)\n",
    "    mpcmf.run(max_iter=1000, max_time=60*30, do_silh=True, do_holl=False, do_dll=False, tol=0.00005,\n",
    "              do_tsne=False, calc_test=False, verbose=True, calc_silh=False)\n",
    "    \n",
    "    mpcmf_full_reps.append(mpcmf)\n",
    "    print('Done.\\n')"
   ]
  },
  {
   "cell_type": "code",
   "execution_count": null,
   "metadata": {},
   "outputs": [],
   "source": [
    "# 5-fold cross-validation \n",
    "mpcmf_cv = []\n",
    "\n",
    "kf = KFold(n_splits=5, shuffle=True, random_state=42)\n",
    "fold = 0\n",
    "for train_idx, test_idx in kf.split(X, labels):\n",
    "    fold = fold + 1\n",
    "    print('Fold {}...'.format(fold))\n",
    "    X_train = X[train_idx]\n",
    "    c_train = labels[train_idx]\n",
    "    X_test = X[test_idx]\n",
    "\n",
    "    mpcmf = mpCMF(X_train, Y_test=X_test, n_components=K, scalings=True, sparsity=False, \n",
    "                  zero_inflation=True, empirical_bayes=False, do_imp=False, name=\"m-pCMF\", minibatch_size=None, \n",
    "                  nb=True)\n",
    "    mpcmf.run(max_iter=1000, max_time=60*30, do_silh=False, do_holl=True, do_dll=True, tol=0.00005,\n",
    "              do_tsne=False, calc_test=False, verbose=True, calc_silh=False)\n",
    "    \n",
    "    mpcmf_cv.append(mpcmf)\n",
    "    print('Done.\\n')"
   ]
  },
  {
   "cell_type": "code",
   "execution_count": null,
   "metadata": {},
   "outputs": [],
   "source": [
    "# 5 corrupted data sets\n",
    "mpcmf_imputation = []\n",
    "\n",
    "for i in range(5):\n",
    "    print('Run {}...'.format(i))\n",
    "    mpcmf = mpCMF(X, n_components=K, scalings=True, sparsity=False, \n",
    "                  zero_inflation=True, empirical_bayes=False, do_imp=True, name=\"m-pCMF\", minibatch_size=None, \n",
    "                  nb=True)\n",
    "    mpcmf.run(max_iter=1000, max_time=60*30, do_silh=False, do_holl=False, do_dll=False, tol=0.00005,\n",
    "              do_tsne=False, calc_test=False, verbose=True, calc_silh=False)\n",
    "    \n",
    "    mpcmf_imputation.append(mpcmf)\n",
    "    print('Done.\\n')"
   ]
  },
  {
   "cell_type": "markdown",
   "metadata": {},
   "source": [
    "## ZINBayes"
   ]
  },
  {
   "cell_type": "code",
   "execution_count": 28,
   "metadata": {},
   "outputs": [
    {
     "name": "stdout",
     "output_type": "stream",
     "text": [
      "Considering zero-inflation.\n",
      "Considering cell-specific scalings.\n",
      "Running ZINBayes...\n",
      "500/500 [100%] ██████████████████████████████ Elapsed: 685s | Loss: 1306.187\n",
      "Done.\n"
     ]
    },
    {
     "name": "stderr",
     "output_type": "stream",
     "text": [
      "/home/ubuntu/thesis/venv/lib/python3.6/site-packages/sklearn/metrics/cluster/supervised.py:844: FutureWarning: The behavior of NMI will change in version 0.22. To match the behavior of 'v_measure_score', NMI will use average_method='arithmetic' by default.\n",
      "  FutureWarning)\n"
     ]
    }
   ],
   "source": [
    "obj = ZINBayes(n_components=K, n_mc_samples=5, test_iterations=500)\n",
    "zinbayes = ModelWrapper(obj, X, c_train=labels, name='ZINBayes', do_imp=False)\n",
    "zinbayes.run(max_iter=500, do_silh=True, do_dll=False, do_holl=False, do_tsne=False, verbose=True)"
   ]
  },
  {
   "cell_type": "code",
   "execution_count": 29,
   "metadata": {},
   "outputs": [
    {
     "data": {
      "text/plain": [
       "(0.3063508, 0.6363616927082137, 0.7170680553575632)"
      ]
     },
     "execution_count": 29,
     "metadata": {},
     "output_type": "execute_result"
    }
   ],
   "source": [
    "zinbayes.asw, zinbayes.ari, zinbayes.nmi"
   ]
  },
  {
   "cell_type": "code",
   "execution_count": null,
   "metadata": {},
   "outputs": [],
   "source": [
    "zinbayes.train_ll, zinbayes.test_ll"
   ]
  },
  {
   "cell_type": "code",
   "execution_count": null,
   "metadata": {},
   "outputs": [],
   "source": [
    "plt.plot(zinbayes.model_inst.loss_dict['t_loss'])"
   ]
  },
  {
   "cell_type": "code",
   "execution_count": null,
   "metadata": {},
   "outputs": [],
   "source": [
    "# 5 repetitions on the full data set\n",
    "zinbayes_full_reps = []\n",
    "\n",
    "for i in range(5):\n",
    "    print('Run {}...'.format(i))\n",
    "    obj = ZINBayes(n_components=K, n_mc_samples=5, test_iterations=500)\n",
    "    zinbayes = ModelWrapper(obj, X, c_train=labels, name='ZINBayes', do_imp=False)\n",
    "    zinbayes.run(max_iter=1000, do_silh=True, do_dll=False, do_holl=False, do_tsne=False, verbose=True)\n",
    "    \n",
    "    zinbayes_full_reps.append(zinbayes)\n",
    "    print('Done.\\n')"
   ]
  },
  {
   "cell_type": "code",
   "execution_count": null,
   "metadata": {},
   "outputs": [],
   "source": [
    "# 5-fold cross-validation \n",
    "zinbayes_cv = []\n",
    "\n",
    "kf = KFold(n_splits=5, shuffle=True, random_state=42)\n",
    "fold = 0\n",
    "for train_idx, test_idx in kf.split(X, labels):\n",
    "    fold = fold + 1\n",
    "    print('Fold {}...'.format(fold))\n",
    "    X_train = X[train_idx]\n",
    "    c_train = labels[train_idx]\n",
    "    X_test = X[test_idx]\n",
    "\n",
    "    obj = ZINBayes(n_components=K, n_mc_samples=5, test_iterations=500)\n",
    "    zinbayes = ModelWrapper(obj, X_train, c_train=c_train, X_test=X_test, name='ZINBayes', do_imp=False)\n",
    "    zinbayes.run(max_iter=1000, do_silh=False, do_dll=True, do_holl=True, do_tsne=False, verbose=True)\n",
    "    \n",
    "    zinbayes_cv.append(zinbayes)\n",
    "    print('Done.\\n')"
   ]
  },
  {
   "cell_type": "code",
   "execution_count": null,
   "metadata": {},
   "outputs": [],
   "source": [
    "# 5 repetitions on the full data set\n",
    "zinbayes_imputation = []\n",
    "\n",
    "for i in range(5):\n",
    "    print('Run {}...'.format(i))\n",
    "    obj = ZINBayes(n_components=K, n_mc_samples=5, test_iterations=500)\n",
    "    zinbayes = ModelWrapper(obj, X, c_train=c_train, X_test=X_test, name='ZINBayes', do_imp=True)\n",
    "    zinbayes.run(max_iter=1000, do_silh=False, do_dll=False, do_holl=False, do_tsne=False, verbose=True)\n",
    "    \n",
    "    zinbayes_imputation.append(zinbayes)\n",
    "    print('Done.\\n')"
   ]
  },
  {
   "cell_type": "code",
   "execution_count": null,
   "metadata": {},
   "outputs": [],
   "source": [
    "obj = ZINBayes(n_components=K, n_mc_samples=1)\n",
    "zinbayes = ModelWrapper(obj, X_train, c_train=c_train, X_test=X_test, name='ZINBayes', do_imp=False)\n",
    "zinbayes.run(max_iter=1000, do_silh=True, do_dll=False, do_holl=False, do_tsne=False, verbose=True)"
   ]
  },
  {
   "cell_type": "code",
   "execution_count": null,
   "metadata": {},
   "outputs": [],
   "source": [
    "zinbayes.asw, zinbayes.ari, zinbayes.nmi"
   ]
  },
  {
   "cell_type": "code",
   "execution_count": null,
   "metadata": {},
   "outputs": [],
   "source": [
    "zinbayes.model_inst.loss[-1] / X_train.shape[0]"
   ]
  },
  {
   "cell_type": "code",
   "execution_count": null,
   "metadata": {},
   "outputs": [],
   "source": [
    "zinbayes.model_inst.evaluate_loglikelihood(X_test, n_iter=500)"
   ]
  },
  {
   "cell_type": "markdown",
   "metadata": {},
   "source": [
    "# Plot results"
   ]
  },
  {
   "cell_type": "code",
   "execution_count": null,
   "metadata": {},
   "outputs": [],
   "source": [
    "colors = sns.color_palette(\"Set1\", 10, desat=.7) # this is a list of 10 colors\n",
    "\n",
    "# We must choose what color to assign to each model\n",
    "model_list_clustering = [mpcmf_full_reps, zinbayes_full_reps, zinbwave_full_reps, scvi_full_reps, pcmf_full_reps, zifa_full_reps, fa_full_reps]\n",
    "model_list_ll = [mpcmf_cv, zinbayes_cv, zinbwave_cv, scvi_cv, zifa_cv, fa_cv]\n",
    "model_list_imp = [mpcmf_imputation, zinbayes_imputation, zinbwave_imputation, scvi_imputation, pcmf_imputation, zifa_imputation]\n",
    "\n",
    "# Colors\n",
    "color_list_clustering = [colors[0], colors[1], colors[2], colors[4], colors[3], colors[5], colors[6]]\n",
    "hatch_list_clustering = ['//', '//', None, None, None, None, None]\n",
    "color_list_ll = [colors[0], colors[1], colors[2], colors[4], colors[5], colors[6]]\n",
    "hatch_list_ll = ['//', '//', None, None, None, None]\n",
    "color_list_imp = [colors[0], colors[1], colors[2], colors[4], colors[3], colors[5]]\n",
    "hatch_list_imp = ['//', '//', None, None, None, None, None]"
   ]
  },
  {
   "cell_type": "markdown",
   "metadata": {},
   "source": [
    "## Latent space clustering"
   ]
  },
  {
   "cell_type": "code",
   "execution_count": 30,
   "metadata": {},
   "outputs": [],
   "source": [
    "mpcmf.do_tsne()\n",
    "zinbayes.do_tsne()\n",
    "model_list_2d = [mpcmf, zinbayes]"
   ]
  },
  {
   "cell_type": "code",
   "execution_count": 38,
   "metadata": {},
   "outputs": [
    {
     "data": {
      "image/png": "[encoded data removed]",
      "text/plain": [
       "<Figure size 864x360 with 2 Axes>"
      ]
     },
     "metadata": {
      "needs_background": "light"
     },
     "output_type": "display_data"
    }
   ],
   "source": [
    "fig = plt.figure(figsize=(12, 5))\n",
    "\n",
    "ax = plt.subplot(1, 2, 1)\n",
    "plot_utils.plot_tsne(model_list_2d[0].proj_2d, labels, ax=ax, title=model_list_2d[0].name, s=10)\n",
    "plt.figtext(0.38, .15, 'ASW: {:.3f}'.format(mpcmf.asw), fontsize=12, bbox=dict(facecolor='white', edgecolor='none', pad=5.0))\n",
    "\n",
    "ax = plt.subplot(1, 2, 2)\n",
    "plot_utils.plot_tsne(model_list_2d[1].proj_2d, labels, ax=ax, title=model_list_2d[1].name, s=10, legend=True, labels=clusters, ncol=1)\n",
    "plt.figtext(0.81, .15, 'ASW: {:.3f}'.format(model_list_2d[1].asw), fontsize=12, bbox=dict(facecolor='white', edgecolor='none', pad=5.0))\n",
    "\n",
    "plt.savefig('ZEISEL_2d_mpcmf_zinbayes.png', dpi=300, bbox_inches='tight')"
   ]
  },
  {
   "cell_type": "code",
   "execution_count": null,
   "metadata": {},
   "outputs": [],
   "source": [
    "fig = plt.figure(figsize=(10, 6))\n",
    "ax = plt.axes()\n",
    "ax  = plot_utils.clustering_cv(model_list_clustering, colors=color_list_clustering, show_legend=True, ylim=[-0.1, 1],\n",
    "                            title=None, ax=ax, box=False, hatches=None);\n",
    "ax.figure.savefig('ZEISEL_clustering_bars_legend.png', dpi=300, bbox_inches='tight')"
   ]
  },
  {
   "cell_type": "code",
   "execution_count": null,
   "metadata": {},
   "outputs": [],
   "source": [
    "mpcmf_full_reps[0].ari"
   ]
  },
  {
   "cell_type": "code",
   "execution_count": null,
   "metadata": {},
   "outputs": [],
   "source": [
    "model_list_2d = [mpcmf_full_reps[0], zinbayes_full_reps[0], zinbwave_full_reps[0], scvi_full_reps[0], \n",
    "                 pcmf_full_reps[0], zifa_full_reps[0], fa_full_reps[0]]"
   ]
  },
  {
   "cell_type": "code",
   "execution_count": null,
   "metadata": {},
   "outputs": [],
   "source": [
    "for model in model_list_2d:\n",
    "    model.do_tsne()"
   ]
  },
  {
   "cell_type": "code",
   "execution_count": null,
   "metadata": {},
   "outputs": [],
   "source": [
    "fig = plt.figure(figsize=(17, 8))\n",
    "ax = plt.axes()\n",
    "plot_utils.plot_2d(model_list_2d, labels, nrows=2, ncols=4, ax=ax, \n",
    "                          labels=clusters, legend=True, bbox_to_anchor=[1.2, 1.], titles=True, filename='ZEISEL_2d_all.png')"
   ]
  },
  {
   "cell_type": "code",
   "execution_count": null,
   "metadata": {},
   "outputs": [],
   "source": [
    "fig = plt.figure(figsize=(8, 6))\n",
    "ax = plt.axes()\n",
    "plot_utils.plot_2d([model_list_2d[1]], labels, nrows=1, ncols=1, ax=ax, \n",
    "                          labels=clusters, legend=True, bbox_to_anchor=[1., 1.], titles=True, filename='ZEISEL_2d_ZINBayes.png')"
   ]
  },
  {
   "cell_type": "markdown",
   "metadata": {},
   "source": [
    "## Held-out data log-likelihood"
   ]
  },
  {
   "cell_type": "code",
   "execution_count": null,
   "metadata": {},
   "outputs": [],
   "source": [
    "plt.figure(figsize=(10, 6))\n",
    "ax = plt.axes()\n",
    "ax = plot_utils.loglikelihood_cv(model_list_ll, colors=color_list_ll, show_legend=True, hatches=None,\n",
    "                            title=None, ax=ax, box=False);\n",
    "ax.figure.savefig('ZEISEL_ll_legend.png', dpi=300, bbox_inches='tight')"
   ]
  },
  {
   "cell_type": "markdown",
   "metadata": {},
   "source": [
    "## Imputation error"
   ]
  },
  {
   "cell_type": "code",
   "execution_count": null,
   "metadata": {},
   "outputs": [],
   "source": [
    "plt.figure(figsize=(5, 6))\n",
    "ax = plt.axes()\n",
    "ax, _, _ = plot_utils.imputationerr_boxplot(model_list_imp, colors=color_list_imp, \n",
    "                                 show_legend=False, ax=ax, box=False, hatches=None);\n",
    "ax.figure.savefig('ZEISEL_imp.png', dpi=300, bbox_inches='tight')"
   ]
  },
  {
   "cell_type": "markdown",
   "metadata": {},
   "source": [
    "## Technical variability"
   ]
  },
  {
   "cell_type": "code",
   "execution_count": null,
   "metadata": {},
   "outputs": [],
   "source": [
    "log_library_size = np.log(np.sum(X, axis=1))"
   ]
  },
  {
   "cell_type": "code",
   "execution_count": null,
   "metadata": {},
   "outputs": [],
   "source": [
    "from scipy.stats import pearsonr"
   ]
  },
  {
   "cell_type": "code",
   "execution_count": null,
   "metadata": {},
   "outputs": [],
   "source": [
    "fig = plt.figure(figsize=(10,4))\n",
    "\n",
    "ax = plt.subplot(1, 2, 1)\n",
    "est_l = mpcmf_full_reps[1].est_L\n",
    "plt.scatter(np.log(est_l.ravel()), log_library_size, alpha=0.5, s=30)\n",
    "plt.ylabel('log library size', fontsize=14)\n",
    "plt.xlabel('log cell scaling', fontsize=14)\n",
    "plt.title('m-pCMF (corr={:.4f})'.format(pearsonr(np.log(est_l).ravel(), log_library_size.ravel())[0]), fontsize=14)\n",
    "# plt.xlim(log_library_size.min(), log_library_size.max())\n",
    "\n",
    "ax = plt.subplot(1, 2, 2, sharey=ax)\n",
    "est_l = zinbayes_full_reps[1].model_inst.est_L\n",
    "plt.scatter(np.log(est_l.ravel()), log_library_size, alpha=0.5, s=30)\n",
    "# plt.ylabel('log-library size')\n",
    "plt.xlabel('log cell scaling', fontsize=14)\n",
    "plt.title('ZINBayes (corr={:.4f})'.format(pearsonr(np.log(est_l).ravel(), log_library_size.ravel())[0]), fontsize=14)\n",
    "# plt.xlim(log_library_size.min(), log_library_size.max())\n",
    "\n",
    "# ax = plt.subplot(1, 3, 3, sharey=ax)\n",
    "# est_l = scvi_full_reps[1].model_inst.est_L\n",
    "# plt.scatter(est_l.ravel(), log_library_size, alpha=0.5, s=30)\n",
    "# # plt.ylabel('log-library size')\n",
    "# plt.xlabel('log cell scaling', fontsize=14)\n",
    "# plt.title('scVI (corr={:.4f})'.format(pearsonr(np.log(est_l).ravel(), log_library_size.ravel())[0]), fontsize=14)\n",
    "# plt.xlim(log_library_size.min(), log_library_size.max())\n",
    "fig.savefig('ZEISEL_scalings.png', dpi=300, bbox_inches='tight')\n",
    "plt.show()"
   ]
  },
  {
   "cell_type": "code",
   "execution_count": null,
   "metadata": {},
   "outputs": [],
   "source": [
    "def sigmoid(x):\n",
    "    return 1./(1+np.exp(-x))"
   ]
  },
  {
   "cell_type": "code",
   "execution_count": null,
   "metadata": {},
   "outputs": [],
   "source": [
    "est_pi = np.mean(sigmoid(np.matmul(zinbayes_full_reps[3].model_inst.est_Z, zinbayes.model_inst.est_W1)), axis=1)\n",
    "est_nb_mean = np.copy(zinbayes_full_reps[3].model_inst.est_X)\n",
    "est_r = zinbayes_full_reps[3].model_inst.est_r\n",
    "\n",
    "# est_zero_prob_zinb = np.mean(est_pi, axis=0) + np.mean(1. - est_pi, axis=0) * (est_r/(est_nb_mean + est_r))**est_r\n",
    "est_zero_prob_nb = (est_r/(est_nb_mean + est_r))**est_r"
   ]
  },
  {
   "cell_type": "code",
   "execution_count": null,
   "metadata": {},
   "outputs": [],
   "source": [
    "mean_est_zero_prob_nb = np.mean(est_zero_prob_nb, axis=1)\n",
    "zero_prop = np.sum(X==0, axis=1) / X.shape[1]"
   ]
  },
  {
   "cell_type": "code",
   "execution_count": null,
   "metadata": {},
   "outputs": [],
   "source": [
    "fig = plt.figure(figsize=(6, 5))\n",
    "plt.scatter(mean_est_zero_prob_nb, zero_prop, alpha=0.5)\n",
    "plt.ylabel('Proportion of zeros in each cell', fontsize=14)\n",
    "plt.xlabel('Zero probability from Negative Binomial', fontsize=14)\n",
    "fig.savefig('zinbayes_nb_zeros.png', dpi=300, bbox_inches='tight')"
   ]
  },
  {
   "cell_type": "code",
   "execution_count": null,
   "metadata": {},
   "outputs": [],
   "source": [
    "mean_est_zero_prob_ber = np.mean(est_pi, axis=0)\n",
    "fig = plt.figure(figsize=(6, 5))\n",
    "plt.scatter(est_pi, zero_prop, alpha=0.5)\n",
    "plt.ylabel('Proportion of zeros in each cell', fontsize=14)\n",
    "plt.xlabel('Zero probability from Bernoulli', fontsize=14)\n",
    "fig.savefig('zinbayes_nb_zeros.png', dpi=300, bbox_inches='tight')"
   ]
  },
  {
   "cell_type": "code",
   "execution_count": null,
   "metadata": {},
   "outputs": [],
   "source": [
    "# DETECTION RATE: the proportion of genes in a cell reporting the expression levels \n",
    "# greater than a predetermined threshold delta\n",
    "delta = 0\n",
    "detection_rate = np.sum(X > delta, axis=1) / X.shape[1]\n",
    "\n",
    "# LIBRARY SIZE: number of molecules detected in a cell\n",
    "library_size = np.sum(X, axis=1)"
   ]
  },
  {
   "cell_type": "code",
   "execution_count": null,
   "metadata": {},
   "outputs": [],
   "source": [
    "pearsonr(detection_rate, library_size)"
   ]
  },
  {
   "cell_type": "code",
   "execution_count": null,
   "metadata": {},
   "outputs": [],
   "source": [
    "plt.scatter(detection_rate, zero_prop)\n",
    "plt.show()"
   ]
  },
  {
   "cell_type": "code",
   "execution_count": null,
   "metadata": {},
   "outputs": [],
   "source": [
    "est_l = zinbayes_full_reps[1].model_inst.est_L\n",
    "plt.scatter(detection_rate, est_l.ravel(), alpha=0.5, s=30)"
   ]
  },
  {
   "cell_type": "code",
   "execution_count": null,
   "metadata": {},
   "outputs": [],
   "source": [
    "from sklearn.decomposition import PCA"
   ]
  },
  {
   "cell_type": "code",
   "execution_count": null,
   "metadata": {},
   "outputs": [],
   "source": [
    "fa_2d = PCA(n_components=K).fit_transform(X)\n",
    "print(pearsonr(fa_2d[:, 0], library_size)[0])\n",
    "print(pearsonr(fa_2d[:, 1], library_size)[0])\n",
    "print(pearsonr(fa_2d[:, 0], detection_rate)[0])\n",
    "print(pearsonr(fa_2d[:, 1], detection_rate)[0])"
   ]
  },
  {
   "cell_type": "markdown",
   "metadata": {},
   "source": [
    "## Gene groups"
   ]
  },
  {
   "cell_type": "code",
   "execution_count": null,
   "metadata": {},
   "outputs": [],
   "source": [
    "pearsonr(np.log(est_l).ravel(), log_library_size.ravel())"
   ]
  },
  {
   "cell_type": "markdown",
   "metadata": {},
   "source": [
    "## Differential Expression"
   ]
  },
  {
   "cell_type": "code",
   "execution_count": null,
   "metadata": {},
   "outputs": [],
   "source": []
  }
 ],
 "metadata": {
  "kernelspec": {
   "display_name": "Thesis",
   "language": "python",
   "name": "venv"
  },
  "language_info": {
   "codemirror_mode": {
    "name": "ipython",
    "version": 3
   },
   "file_extension": ".py",
   "mimetype": "text/x-python",
   "name": "python",
   "nbconvert_exporter": "python",
   "pygments_lexer": "ipython3",
   "version": "3.6.5"
  },
  "toc": {
   "base_numbering": 1,
   "nav_menu": {},
   "number_sections": true,
   "sideBar": true,
   "skip_h1_title": false,
   "title_cell": "Table of Contents",
   "title_sidebar": "Contents",
   "toc_cell": true,
   "toc_position": {},
   "toc_section_display": true,
   "toc_window_display": false
  }
 },
 "nbformat": 4,
 "nbformat_minor": 2
}
