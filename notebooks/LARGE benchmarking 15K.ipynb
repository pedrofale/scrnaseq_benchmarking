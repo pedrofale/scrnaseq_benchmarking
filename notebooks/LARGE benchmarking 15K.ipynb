{
 "cells": [
  {
   "cell_type": "markdown",
   "metadata": {
    "toc": true
   },
   "source": [
    "<h1>Table of Contents<span class=\"tocSkip\"></span></h1>\n",
    "<div class=\"toc\"><ul class=\"toc-item\"><li><span><a href=\"#Initialization\" data-toc-modified-id=\"Initialization-1\"><span class=\"toc-item-num\">1&nbsp;&nbsp;</span>Initialization</a></span><ul class=\"toc-item\"><li><span><a href=\"#Imports-and-configurations\" data-toc-modified-id=\"Imports-and-configurations-1.1\"><span class=\"toc-item-num\">1.1&nbsp;&nbsp;</span>Imports and configurations</a></span></li><li><span><a href=\"#Data-set-preparation:-LARGE\" data-toc-modified-id=\"Data-set-preparation:-LARGE-1.2\"><span class=\"toc-item-num\">1.2&nbsp;&nbsp;</span>Data set preparation: LARGE</a></span></li></ul></li><li><span><a href=\"#Run-models\" data-toc-modified-id=\"Run-models-2\"><span class=\"toc-item-num\">2&nbsp;&nbsp;</span>Run models</a></span><ul class=\"toc-item\"><li><span><a href=\"#Factor-Analysis\" data-toc-modified-id=\"Factor-Analysis-2.1\"><span class=\"toc-item-num\">2.1&nbsp;&nbsp;</span>Factor Analysis</a></span></li><li><span><a href=\"#scVI\" data-toc-modified-id=\"scVI-2.2\"><span class=\"toc-item-num\">2.2&nbsp;&nbsp;</span>scVI</a></span></li><li><span><a href=\"#m-pCMF\" data-toc-modified-id=\"m-pCMF-2.3\"><span class=\"toc-item-num\">2.3&nbsp;&nbsp;</span>m-pCMF</a></span></li><li><span><a href=\"#ZINBayes\" data-toc-modified-id=\"ZINBayes-2.4\"><span class=\"toc-item-num\">2.4&nbsp;&nbsp;</span>ZINBayes</a></span></li></ul></li><li><span><a href=\"#Plot-results\" data-toc-modified-id=\"Plot-results-3\"><span class=\"toc-item-num\">3&nbsp;&nbsp;</span>Plot results</a></span></li></ul></div>"
   ]
  },
  {
   "cell_type": "markdown",
   "metadata": {},
   "source": [
    "# Initialization"
   ]
  },
  {
   "cell_type": "markdown",
   "metadata": {},
   "source": [
    "## Imports and configurations"
   ]
  },
  {
   "cell_type": "code",
   "execution_count": 1,
   "metadata": {},
   "outputs": [],
   "source": [
    "%load_ext autoreload\n",
    "%autoreload 2"
   ]
  },
  {
   "cell_type": "code",
   "execution_count": 2,
   "metadata": {},
   "outputs": [],
   "source": [
    "# %matplotlib inline\n",
    "\n",
    "from zinbayes.zinbayes import ZINBayes\n",
    "\n",
    "from pCMF import mpCMF\n",
    "\n",
    "from state_of_art.scVI.scvi import scVI\n",
    "from state_of_art.ZIFA.zifa import ZIFA\n",
    "from state_of_art.ZINB_WaVE.zinb_wave import ZINB_WaVE\n",
    "from state_of_art.pCMF.pcmf import pCMF\n",
    "\n",
    "from misc.model_wrapper import ModelWrapper\n",
    "from misc import print_utils, plot_utils\n",
    "\n",
    "import edward as ed\n",
    "import matplotlib.pyplot as plt\n",
    "import seaborn as sns\n",
    "import numpy as np\n",
    "import tensorflow as tf\n",
    "from scipy.stats import gaussian_kde, pearsonr\n",
    "import pandas as pd\n",
    "from sklearn.decomposition import FactorAnalysis\n",
    "from sklearn.manifold import TSNE\n",
    "from sklearn.metrics import silhouette_score\n",
    "from sklearn.model_selection import train_test_split, KFold\n",
    "from sklearn.metrics import confusion_matrix\n",
    "from sklearn.metrics import classification_report\n",
    "from sklearn.cluster import KMeans\n",
    "from sklearn.metrics import normalized_mutual_info_score, adjusted_rand_score\n",
    "\n",
    "from edward.models import Beta, RelaxedBernoulli, Gamma, Poisson, Dirichlet, Mixture, Categorical, TransformedDistribution, Normal, PointMass\n",
    "\n",
    "plt.style.use('seaborn-whitegrid')"
   ]
  },
  {
   "cell_type": "code",
   "execution_count": 3,
   "metadata": {},
   "outputs": [],
   "source": [
    "# scatter plots style\n",
    "s = 30\n",
    "alpha = 0.5"
   ]
  },
  {
   "cell_type": "markdown",
   "metadata": {},
   "source": [
    "## Data set preparation: LARGE"
   ]
  },
  {
   "cell_type": "code",
   "execution_count": 4,
   "metadata": {},
   "outputs": [],
   "source": [
    "from scvi.dataset import BrainLargeDataset"
   ]
  },
  {
   "cell_type": "code",
   "execution_count": 6,
   "metadata": {},
   "outputs": [
    {
     "name": "stdout",
     "output_type": "stream",
     "text": [
      "File data/genomics.h5 already downloaded\n",
      "Preprocessing Brain Large data\n",
      "720 genes subsampled\n",
      "1306127 cells subsampled\n",
      "Finished preprocessing data\n"
     ]
    }
   ],
   "source": [
    "brain_large = BrainLargeDataset(subsample_size=15000 + 10000)"
   ]
  },
  {
   "cell_type": "code",
   "execution_count": 7,
   "metadata": {},
   "outputs": [],
   "source": [
    "X = brain_large.X"
   ]
  },
  {
   "cell_type": "code",
   "execution_count": 8,
   "metadata": {},
   "outputs": [],
   "source": [
    "X_train, X_test = train_test_split(X, test_size=10000, shuffle=True) "
   ]
  },
  {
   "cell_type": "markdown",
   "metadata": {},
   "source": [
    "# Run models\n",
    "For each model, we need:\n",
    "* 5-fold cross-validation to compute the held-out data log-likelihood"
   ]
  },
  {
   "cell_type": "code",
   "execution_count": 9,
   "metadata": {},
   "outputs": [],
   "source": [
    "K = 10"
   ]
  },
  {
   "cell_type": "markdown",
   "metadata": {},
   "source": [
    "## Factor Analysis"
   ]
  },
  {
   "cell_type": "code",
   "execution_count": 10,
   "metadata": {},
   "outputs": [
    {
     "name": "stdout",
     "output_type": "stream",
     "text": [
      "Running FA...\n",
      "Some arguments were ignored by FactorAnalysis.\n",
      "Running .fit_transform() without keyword arguments.\n",
      "Evaluating train-data log-likelihood...\n",
      "Evaluating test-data log-likelihood...\n",
      "Done.\n"
     ]
    }
   ],
   "source": [
    "obj = FactorAnalysis(n_components=K)\n",
    "fa = ModelWrapper(obj, X_train, X_test=X_test, name='FA', do_imp=False, log_data=True)\n",
    "fa.run(do_dll=True, do_holl=True, verbose=True)"
   ]
  },
  {
   "cell_type": "code",
   "execution_count": 11,
   "metadata": {},
   "outputs": [
    {
     "data": {
      "text/plain": [
       "-1196.0277973890247"
      ]
     },
     "execution_count": 11,
     "metadata": {},
     "output_type": "execute_result"
    }
   ],
   "source": [
    "fa.test_ll"
   ]
  },
  {
   "cell_type": "markdown",
   "metadata": {},
   "source": [
    "## ZIFA"
   ]
  },
  {
   "cell_type": "code",
   "execution_count": 16,
   "metadata": {},
   "outputs": [
    {
     "name": "stdout",
     "output_type": "stream",
     "text": [
      "Running ZIFA...\n",
      "Some arguments were ignored by ZIFA.\n",
      "Param change below threshold 1.000e-02 after 4 iterations\n",
      "Evaluating train-data log-likelihood...\n",
      "Evaluating test-data log-likelihood...\n",
      "Done.\n"
     ]
    }
   ],
   "source": [
    "obj = ZIFA(n_components=K)\n",
    "zifa = ModelWrapper(obj, X_train, X_test=X_test, log_data=True, name='ZIFA')\n",
    "zifa.run(max_time=60*60, max_iter=100, do_silh=False, do_dll=True, do_holl=True, do_tsne=False, verbose=True)"
   ]
  },
  {
   "cell_type": "markdown",
   "metadata": {},
   "source": [
    "## ZINB-WaVE"
   ]
  },
  {
   "cell_type": "code",
   "execution_count": 17,
   "metadata": {},
   "outputs": [
    {
     "name": "stderr",
     "output_type": "stream",
     "text": [
      "/home/ubuntu/thesis/venv/lib/python3.6/site-packages/rpy2/rinterface/__init__.py:146: RRuntimeWarning: Loading required package: SummarizedExperiment\n",
      "\n",
      "  warnings.warn(x, RRuntimeWarning)\n",
      "/home/ubuntu/thesis/venv/lib/python3.6/site-packages/rpy2/rinterface/__init__.py:146: RRuntimeWarning: Loading required package: GenomicRanges\n",
      "\n",
      "  warnings.warn(x, RRuntimeWarning)\n",
      "/home/ubuntu/thesis/venv/lib/python3.6/site-packages/rpy2/rinterface/__init__.py:146: RRuntimeWarning: Loading required package: stats4\n",
      "\n",
      "  warnings.warn(x, RRuntimeWarning)\n",
      "/home/ubuntu/thesis/venv/lib/python3.6/site-packages/rpy2/rinterface/__init__.py:146: RRuntimeWarning: Loading required package: BiocGenerics\n",
      "\n",
      "  warnings.warn(x, RRuntimeWarning)\n",
      "/home/ubuntu/thesis/venv/lib/python3.6/site-packages/rpy2/rinterface/__init__.py:146: RRuntimeWarning: Loading required package: parallel\n",
      "\n",
      "  warnings.warn(x, RRuntimeWarning)\n",
      "/home/ubuntu/thesis/venv/lib/python3.6/site-packages/rpy2/rinterface/__init__.py:146: RRuntimeWarning: \n",
      "Attaching package: ‘BiocGenerics’\n",
      "\n",
      "\n",
      "  warnings.warn(x, RRuntimeWarning)\n",
      "/home/ubuntu/thesis/venv/lib/python3.6/site-packages/rpy2/rinterface/__init__.py:146: RRuntimeWarning: The following objects are masked from ‘package:parallel’:\n",
      "\n",
      "    clusterApply, clusterApplyLB, clusterCall, clusterEvalQ,\n",
      "    clusterExport, clusterMap, parApply, parCapply, parLapply,\n",
      "    parLapplyLB, parRapply, parSapply, parSapplyLB\n",
      "\n",
      "\n",
      "  warnings.warn(x, RRuntimeWarning)\n",
      "/home/ubuntu/thesis/venv/lib/python3.6/site-packages/rpy2/rinterface/__init__.py:146: RRuntimeWarning: The following objects are masked from ‘package:stats’:\n",
      "\n",
      "    IQR, mad, sd, var, xtabs\n",
      "\n",
      "\n",
      "  warnings.warn(x, RRuntimeWarning)\n",
      "/home/ubuntu/thesis/venv/lib/python3.6/site-packages/rpy2/rinterface/__init__.py:146: RRuntimeWarning: The following objects are masked from ‘package:base’:\n",
      "\n",
      "    anyDuplicated, append, as.data.frame, cbind, colMeans, colnames,\n",
      "    colSums, do.call, duplicated, eval, evalq, Filter, Find, get, grep,\n",
      "    grepl, intersect, is.unsorted, lapply, lengths, Map, mapply, match,\n",
      "    mget, order, paste, pmax, pmax.int, pmin, pmin.int, Position, rank,\n",
      "    rbind, Reduce, rowMeans, rownames, rowSums, sapply, setdiff, sort,\n",
      "    table, tapply, union, unique, unsplit, which, which.max, which.min\n",
      "\n",
      "\n",
      "  warnings.warn(x, RRuntimeWarning)\n",
      "/home/ubuntu/thesis/venv/lib/python3.6/site-packages/rpy2/rinterface/__init__.py:146: RRuntimeWarning: Loading required package: S4Vectors\n",
      "\n",
      "  warnings.warn(x, RRuntimeWarning)\n",
      "/home/ubuntu/thesis/venv/lib/python3.6/site-packages/rpy2/rinterface/__init__.py:146: RRuntimeWarning: \n",
      "Attaching package: ‘S4Vectors’\n",
      "\n",
      "\n",
      "  warnings.warn(x, RRuntimeWarning)\n",
      "/home/ubuntu/thesis/venv/lib/python3.6/site-packages/rpy2/rinterface/__init__.py:146: RRuntimeWarning: The following object is masked from ‘package:base’:\n",
      "\n",
      "    expand.grid\n",
      "\n",
      "\n",
      "  warnings.warn(x, RRuntimeWarning)\n",
      "/home/ubuntu/thesis/venv/lib/python3.6/site-packages/rpy2/rinterface/__init__.py:146: RRuntimeWarning: Loading required package: IRanges\n",
      "\n",
      "  warnings.warn(x, RRuntimeWarning)\n",
      "/home/ubuntu/thesis/venv/lib/python3.6/site-packages/rpy2/rinterface/__init__.py:146: RRuntimeWarning: Loading required package: GenomeInfoDb\n",
      "\n",
      "  warnings.warn(x, RRuntimeWarning)\n",
      "/home/ubuntu/thesis/venv/lib/python3.6/site-packages/rpy2/rinterface/__init__.py:146: RRuntimeWarning: Loading required package: Biobase\n",
      "\n",
      "  warnings.warn(x, RRuntimeWarning)\n",
      "/home/ubuntu/thesis/venv/lib/python3.6/site-packages/rpy2/rinterface/__init__.py:146: RRuntimeWarning: Welcome to Bioconductor\n",
      "\n",
      "    Vignettes contain introductory material; view with\n",
      "    'browseVignettes()'. To cite Bioconductor, see\n",
      "    'citation(\"Biobase\")', and for packages 'citation(\"pkgname\")'.\n",
      "\n",
      "\n",
      "  warnings.warn(x, RRuntimeWarning)\n",
      "/home/ubuntu/thesis/venv/lib/python3.6/site-packages/rpy2/rinterface/__init__.py:146: RRuntimeWarning: Loading required package: DelayedArray\n",
      "\n",
      "  warnings.warn(x, RRuntimeWarning)\n",
      "/home/ubuntu/thesis/venv/lib/python3.6/site-packages/rpy2/rinterface/__init__.py:146: RRuntimeWarning: Loading required package: matrixStats\n",
      "\n",
      "  warnings.warn(x, RRuntimeWarning)\n",
      "/home/ubuntu/thesis/venv/lib/python3.6/site-packages/rpy2/rinterface/__init__.py:146: RRuntimeWarning: \n",
      "Attaching package: ‘matrixStats’\n",
      "\n",
      "\n",
      "  warnings.warn(x, RRuntimeWarning)\n",
      "/home/ubuntu/thesis/venv/lib/python3.6/site-packages/rpy2/rinterface/__init__.py:146: RRuntimeWarning: The following objects are masked from ‘package:Biobase’:\n",
      "\n",
      "    anyMissing, rowMedians\n",
      "\n",
      "\n",
      "  warnings.warn(x, RRuntimeWarning)\n",
      "/home/ubuntu/thesis/venv/lib/python3.6/site-packages/rpy2/rinterface/__init__.py:146: RRuntimeWarning: \n",
      "Attaching package: ‘DelayedArray’\n",
      "\n",
      "\n",
      "  warnings.warn(x, RRuntimeWarning)\n",
      "/home/ubuntu/thesis/venv/lib/python3.6/site-packages/rpy2/rinterface/__init__.py:146: RRuntimeWarning: The following objects are masked from ‘package:matrixStats’:\n",
      "\n",
      "    colMaxs, colMins, colRanges, rowMaxs, rowMins, rowRanges\n",
      "\n",
      "\n",
      "  warnings.warn(x, RRuntimeWarning)\n",
      "/home/ubuntu/thesis/venv/lib/python3.6/site-packages/rpy2/rinterface/__init__.py:146: RRuntimeWarning: The following object is masked from ‘package:base’:\n",
      "\n",
      "    apply\n",
      "\n",
      "\n",
      "  warnings.warn(x, RRuntimeWarning)\n",
      "/home/ubuntu/thesis/venv/lib/python3.6/site-packages/rpy2/rinterface/__init__.py:146: RRuntimeWarning: Loading required package: SingleCellExperiment\n",
      "\n",
      "  warnings.warn(x, RRuntimeWarning)\n"
     ]
    },
    {
     "name": "stdout",
     "output_type": "stream",
     "text": [
      "Running ZINB-WaVE...\n",
      "Some arguments were ignored by ZINB_WaVE.\n",
      "Running .fit_transform() without keyword arguments.\n",
      "Evaluating train-data log-likelihood...\n",
      "Evaluating test-data log-likelihood...\n",
      "Done.\n"
     ]
    }
   ],
   "source": [
    "obj = ZINB_WaVE(n_components=K)\n",
    "zinbwave = ModelWrapper(obj, X_train, X_test=X_test, name='ZINB-WaVE', log_data=False, do_imp=False)\n",
    "zinbwave.run(do_silh=False, do_dll=True, do_holl=True, do_tsne=False, verbose=True)"
   ]
  },
  {
   "cell_type": "markdown",
   "metadata": {},
   "source": [
    "## scVI"
   ]
  },
  {
   "cell_type": "code",
   "execution_count": 12,
   "metadata": {},
   "outputs": [
    {
     "name": "stdout",
     "output_type": "stream",
     "text": [
      "Running scVI...\n",
      "Running scVI on 720 genes\n",
      "scVI will run without batch correction\n",
      "Will work on mode numeric for incorporating library size\n",
      "Will work on mode gene for modeling inverse dispersion param\n",
      "Will apply zero inflation\n",
      "Will apply cell-specific scalings\n",
      "1 hidden layers at 128 each for a final 10 latent space\n",
      "Evaluating train-data log-likelihood....108. Elapsed: 0h4m14s\n",
      "Evaluating test-data log-likelihood...\n",
      "Done.\n"
     ]
    }
   ],
   "source": [
    "obj = scVI(n_components=K, n_hidden=128, batch_size=128, lr=0.001, X_test=X_test, validation=True)\n",
    "scvi = ModelWrapper(obj, X_train, X_test=X_test, name='scVI')\n",
    "scvi.run(max_iter=120, max_time=60*60, do_silh=False, do_dll=True, do_holl=True, do_tsne=False, verbose=True)"
   ]
  },
  {
   "cell_type": "markdown",
   "metadata": {},
   "source": [
    "## m-pCMF"
   ]
  },
  {
   "cell_type": "code",
   "execution_count": 13,
   "metadata": {},
   "outputs": [
    {
     "name": "stdout",
     "output_type": "stream",
     "text": [
      "m-pCMF:\n",
      "Considering cell-specific scalings.\n",
      "Considering NB structure.\n",
      "Considering zero-inflated counts.\n",
      "Running m-pCMF...\n",
      "Iteration 18/1000. Train/Test ELBO: -1484.2724031/-1463.1341631. Improvement: 0.0045200. Elapsed: 0h10m20s\n",
      "Evaluating train-data log-likelihood...\n",
      "Evaluating test-data log-likelihood...\n",
      "Done.\n"
     ]
    }
   ],
   "source": [
    "mpcmf = mpCMF(X_train, Y_test=X_test, n_components=K, scalings=True, sparsity=False, \n",
    "                  zero_inflation=True, empirical_bayes=True, do_imp=False, name=\"m-pCMF\", minibatch_size=None, \n",
    "                  nb=True)\n",
    "mpcmf.run(max_iter=1000, max_time=60*30, do_holl=True, do_dll=True, tol=0.00005,\n",
    "          do_tsne=False, calc_test=True, verbose=True)"
   ]
  },
  {
   "cell_type": "markdown",
   "metadata": {},
   "source": [
    "## ZINBayes"
   ]
  },
  {
   "cell_type": "code",
   "execution_count": 15,
   "metadata": {},
   "outputs": [
    {
     "name": "stdout",
     "output_type": "stream",
     "text": [
      "Considering zero-inflation.\n",
      "Considering cell-specific scalings.\n",
      "Running ZINBayes...\n",
      "1000/1000 [100%] ██████████████████████████████ Elapsed: 3955s | Loss: 1238.474\n",
      "Evaluating train-data log-likelihood...\n",
      "Evaluating test-data log-likelihood...\n",
      "500/500 [100%] ██████████████████████████████ Elapsed: 1847s | Loss: 12592694.000\n",
      "Done.\n"
     ]
    }
   ],
   "source": [
    "obj = ZINBayes(n_components=K, zero_inflation=True, n_mc_samples=5, test_iterations=500, \n",
    "               optimizer=None)\n",
    "zinbayes = ModelWrapper(obj, X_train, X_test=X_test, name='ZINBayes', do_imp=False)\n",
    "zinbayes.run(max_iter=1000, do_silh=True, do_tsne=False, do_dll=True, do_holl=True, verbose=True)"
   ]
  },
  {
   "cell_type": "markdown",
   "metadata": {},
   "source": [
    "# Plot results"
   ]
  },
  {
   "cell_type": "code",
   "execution_count": 19,
   "metadata": {},
   "outputs": [
    {
     "name": "stdout",
     "output_type": "stream",
     "text": [
      "\u001b[1mModel results:\u001b[0m\n",
      "\n",
      "Train data log-likelihood:\n",
      "\u001b[1m- ZINB-WaVE: -1174.85\u001b[0m\n",
      "- scVI: -1188.5\n",
      "- FA: -1195.05\n",
      "- ZINBayes: -1238.47\n",
      "- ZIFA: -1271.47\n",
      "- m-pCMF: -1484.27\n",
      "\n",
      "Test data log-likelihood:\n",
      "\u001b[1m- ZINB-WaVE: -1177.71\u001b[0m\n",
      "- scVI: -1193.54\n",
      "- FA: -1196.03\n",
      "- ZINBayes: -1259.32\n",
      "- ZIFA: -1272.46\n",
      "- m-pCMF: -1462.68\n"
     ]
    }
   ],
   "source": [
    "print_utils.print_full_report([fa, zifa, zinbwave, scvi, mpcmf, zinbayes], test_ll=True)"
   ]
  },
  {
   "cell_type": "code",
   "execution_count": null,
   "metadata": {},
   "outputs": [],
   "source": [
    "colors = sns.color_palette(\"Set1\", 10, desat=.7) # this is a list of 10 colors\n",
    "\n",
    "# We must choose what color to assign to each model\n",
    "model_list_ll = [zinbayes, scvi, mpcmf, fa]\n",
    "\n",
    "# Colors\n",
    "color_list_ll = [colors[0], colors[2], colors[4], colors[6]]\n",
    "hatch_list_ll = ['//', None, '//', None]"
   ]
  },
  {
   "cell_type": "code",
   "execution_count": null,
   "metadata": {},
   "outputs": [],
   "source": [
    "plt.figure(figsize=(10, 6))\n",
    "ax = plt.axes()\n",
    "ax = plot_utils.loglikelihood_barplot(model_list_ll, colors=color_list_ll, show_legend=True, hatches=hatch_list_ll,\n",
    "                            title=None, ax=ax);"
   ]
  }
 ],
 "metadata": {
  "kernelspec": {
   "display_name": "Python 3",
   "language": "python",
   "name": "python3"
  },
  "language_info": {
   "codemirror_mode": {
    "name": "ipython",
    "version": 3
   },
   "file_extension": ".py",
   "mimetype": "text/x-python",
   "name": "python",
   "nbconvert_exporter": "python",
   "pygments_lexer": "ipython3",
   "version": "3.6.5"
  },
  "toc": {
   "base_numbering": 1,
   "nav_menu": {},
   "number_sections": true,
   "sideBar": true,
   "skip_h1_title": false,
   "title_cell": "Table of Contents",
   "title_sidebar": "Contents",
   "toc_cell": true,
   "toc_position": {},
   "toc_section_display": true,
   "toc_window_display": false
  }
 },
 "nbformat": 4,
 "nbformat_minor": 2
}
