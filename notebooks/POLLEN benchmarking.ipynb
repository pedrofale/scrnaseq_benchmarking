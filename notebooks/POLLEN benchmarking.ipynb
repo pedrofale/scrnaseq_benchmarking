{
 "cells": [
  {
   "cell_type": "markdown",
   "metadata": {
    "toc": true
   },
   "source": [
    "<h1>Table of Contents<span class=\"tocSkip\"></span></h1>\n",
    "<div class=\"toc\"><ul class=\"toc-item\"><li><span><a href=\"#Initialization\" data-toc-modified-id=\"Initialization-1\"><span class=\"toc-item-num\">1&nbsp;&nbsp;</span>Initialization</a></span><ul class=\"toc-item\"><li><span><a href=\"#Imports-and-configurations\" data-toc-modified-id=\"Imports-and-configurations-1.1\"><span class=\"toc-item-num\">1.1&nbsp;&nbsp;</span>Imports and configurations</a></span></li><li><span><a href=\"#Data-set-preparation:-POLLEN\" data-toc-modified-id=\"Data-set-preparation:-POLLEN-1.2\"><span class=\"toc-item-num\">1.2&nbsp;&nbsp;</span>Data set preparation: POLLEN</a></span></li></ul></li><li><span><a href=\"#Run-models\" data-toc-modified-id=\"Run-models-2\"><span class=\"toc-item-num\">2&nbsp;&nbsp;</span>Run models</a></span><ul class=\"toc-item\"><li><span><a href=\"#Factor-Analysis\" data-toc-modified-id=\"Factor-Analysis-2.1\"><span class=\"toc-item-num\">2.1&nbsp;&nbsp;</span>Factor Analysis</a></span></li><li><span><a href=\"#ZIFA\" data-toc-modified-id=\"ZIFA-2.2\"><span class=\"toc-item-num\">2.2&nbsp;&nbsp;</span>ZIFA</a></span></li><li><span><a href=\"#pCMF\" data-toc-modified-id=\"pCMF-2.3\"><span class=\"toc-item-num\">2.3&nbsp;&nbsp;</span>pCMF</a></span></li><li><span><a href=\"#ZINB-WaVE\" data-toc-modified-id=\"ZINB-WaVE-2.4\"><span class=\"toc-item-num\">2.4&nbsp;&nbsp;</span>ZINB-WaVE</a></span></li><li><span><a href=\"#scVI\" data-toc-modified-id=\"scVI-2.5\"><span class=\"toc-item-num\">2.5&nbsp;&nbsp;</span>scVI</a></span></li><li><span><a href=\"#m-pCMF\" data-toc-modified-id=\"m-pCMF-2.6\"><span class=\"toc-item-num\">2.6&nbsp;&nbsp;</span>m-pCMF</a></span></li><li><span><a href=\"#ZINBayes\" data-toc-modified-id=\"ZINBayes-2.7\"><span class=\"toc-item-num\">2.7&nbsp;&nbsp;</span>ZINBayes</a></span></li></ul></li><li><span><a href=\"#Plot-results\" data-toc-modified-id=\"Plot-results-3\"><span class=\"toc-item-num\">3&nbsp;&nbsp;</span>Plot results</a></span><ul class=\"toc-item\"><li><span><a href=\"#Latent-space-clustering\" data-toc-modified-id=\"Latent-space-clustering-3.1\"><span class=\"toc-item-num\">3.1&nbsp;&nbsp;</span>Latent space clustering</a></span><ul class=\"toc-item\"><li><span><a href=\"#Correlation-with-quality-metrics\" data-toc-modified-id=\"Correlation-with-quality-metrics-3.1.1\"><span class=\"toc-item-num\">3.1.1&nbsp;&nbsp;</span>Correlation with quality metrics</a></span></li></ul></li><li><span><a href=\"#Held-out-data-log-likelihood\" data-toc-modified-id=\"Held-out-data-log-likelihood-3.2\"><span class=\"toc-item-num\">3.2&nbsp;&nbsp;</span>Held-out data log-likelihood</a></span></li><li><span><a href=\"#Imputation-error\" data-toc-modified-id=\"Imputation-error-3.3\"><span class=\"toc-item-num\">3.3&nbsp;&nbsp;</span>Imputation error</a></span></li><li><span><a href=\"#Technical-variability\" data-toc-modified-id=\"Technical-variability-3.4\"><span class=\"toc-item-num\">3.4&nbsp;&nbsp;</span>Technical variability</a></span></li><li><span><a href=\"#Gene-groups\" data-toc-modified-id=\"Gene-groups-3.5\"><span class=\"toc-item-num\">3.5&nbsp;&nbsp;</span>Gene groups</a></span></li><li><span><a href=\"#Differential-Expression\" data-toc-modified-id=\"Differential-Expression-3.6\"><span class=\"toc-item-num\">3.6&nbsp;&nbsp;</span>Differential Expression</a></span></li></ul></li></ul></div>"
   ]
  },
  {
   "cell_type": "markdown",
   "metadata": {},
   "source": [
    "# Initialization"
   ]
  },
  {
   "cell_type": "markdown",
   "metadata": {},
   "source": [
    "## Imports and configurations"
   ]
  },
  {
   "cell_type": "code",
   "execution_count": 2,
   "metadata": {},
   "outputs": [],
   "source": [
    "%load_ext autoreload\n",
    "%autoreload 2"
   ]
  },
  {
   "cell_type": "code",
   "execution_count": 2,
   "metadata": {},
   "outputs": [],
   "source": [
    "# %matplotlib inline\n",
    "\n",
    "from zinbayes.zinbayes import ZINBayes\n",
    "\n",
    "from pCMF import mpCMF\n",
    "\n",
    "from state_of_art.scVI.scvi import scVI\n",
    "from state_of_art.ZIFA.zifa import ZIFA\n",
    "from state_of_art.ZINB_WaVE.zinb_wave import ZINB_WaVE\n",
    "from state_of_art.pCMF.pcmf import pCMF\n",
    "\n",
    "from misc.model_wrapper import ModelWrapper\n",
    "from misc import print_utils, plot_utils\n",
    "\n",
    "import edward as ed\n",
    "import matplotlib.pyplot as plt\n",
    "import seaborn as sns\n",
    "import numpy as np\n",
    "import tensorflow as tf\n",
    "from scipy.stats import gaussian_kde, pearsonr\n",
    "import pandas as pd\n",
    "from sklearn.decomposition import FactorAnalysis\n",
    "from sklearn.manifold import TSNE\n",
    "from sklearn.metrics import silhouette_score\n",
    "from sklearn.model_selection import train_test_split, KFold\n",
    "from sklearn.metrics import confusion_matrix\n",
    "from sklearn.metrics import classification_report\n",
    "from sklearn.cluster import KMeans\n",
    "from sklearn.metrics import normalized_mutual_info_score, adjusted_rand_score\n",
    "from sklearn.preprocessing import OneHotEncoder\n",
    "\n",
    "from edward.models import Beta, RelaxedBernoulli, Gamma, Poisson, Dirichlet, Mixture, Categorical, TransformedDistribution, Normal, PointMass\n",
    "\n",
    "plt.style.use('seaborn-whitegrid')"
   ]
  },
  {
   "cell_type": "code",
   "execution_count": 3,
   "metadata": {},
   "outputs": [],
   "source": [
    "# scatter plots style\n",
    "s = 30\n",
    "alpha = 0.5"
   ]
  },
  {
   "cell_type": "markdown",
   "metadata": {},
   "source": [
    "## Data set preparation: POLLEN"
   ]
  },
  {
   "cell_type": "code",
   "execution_count": 4,
   "metadata": {
    "scrolled": true
   },
   "outputs": [
    {
     "name": "stdout",
     "output_type": "stream",
     "text": [
      "Data shape:\n",
      "130 cells, 1000 genes\n",
      "\n",
      "4 cell types\n",
      "\n",
      "2 experimental batches\n",
      "\n",
      "Percentage of zeros in the data set:\n",
      "32.84%\n"
     ]
    },
    {
     "name": "stderr",
     "output_type": "stream",
     "text": [
      "/home/ubuntu/thesis/venv/lib/python3.6/site-packages/sklearn/preprocessing/_encoders.py:363: FutureWarning: The handling of integer data will change in version 0.22. Currently, the categories are determined based on the range [0, max(values)], while in the future they will be determined based on the unique values.\n",
      "If you want the future behaviour and silence this warning, you can specify \"categories='auto'\".\n",
      "In case you used a LabelEncoder before this OneHotEncoder to convert the categories to integers, then you can now use the OneHotEncoder directly.\n",
      "  warnings.warn(msg, FutureWarning)\n"
     ]
    }
   ],
   "source": [
    "data_path = '../../data/Pollen'\n",
    "X = pd.read_csv(data_path + '/counts.csv').T\n",
    "y = pd.read_csv(data_path + '/labels.csv')\n",
    "b = pd.read_csv(data_path + '/batches.csv')\n",
    "\n",
    "\n",
    "y = np.array(y)[:, 1]\n",
    "y_names, y_id = np.unique(y, return_inverse=True)\n",
    "celltypes = y_names\n",
    "\n",
    "b = np.array(b)[:, 1]\n",
    "b_names, b_id = np.unique(b, return_inverse=True)\n",
    "coverage = b_names\n",
    "\n",
    "b_onehot = OneHotEncoder().fit_transform(b_id.reshape(-1, 1)).toarray()\n",
    "\n",
    "X = np.array(X)\n",
    "gene_names = X[0, :]\n",
    "X = np.array(X[1:, :], dtype=np.float32)\n",
    "var_genes = np.var(X, axis=0)\n",
    "X = X[:, np.argsort(var_genes)[-1000:]]\n",
    "\n",
    "n_cells = X.shape[0]\n",
    "n_genes = X.shape[1]\n",
    "n_types = np.unique(y).size\n",
    "n_batches = np.unique(b).size\n",
    "\n",
    "print('Data shape:')\n",
    "print('{} cells, {} genes\\n'.format(X.shape[0], X.shape[1]))\n",
    "print('{} cell types\\n'.format(n_types))\n",
    "print('{} experimental batches\\n'.format(n_batches))\n",
    "print('Percentage of zeros in the data set:')\n",
    "print('{:.2f}%'.format(np.count_nonzero(X==0) / X.size * 100))"
   ]
  },
  {
   "cell_type": "code",
   "execution_count": 5,
   "metadata": {},
   "outputs": [],
   "source": [
    "labels = y_id\n",
    "clusters = y"
   ]
  },
  {
   "cell_type": "code",
   "execution_count": 6,
   "metadata": {},
   "outputs": [],
   "source": [
    "X_train, X_test, c_train, c_test = train_test_split(X, labels, test_size=0.3)"
   ]
  },
  {
   "cell_type": "code",
   "execution_count": 7,
   "metadata": {},
   "outputs": [],
   "source": [
    "N = X_train.shape[0]\n",
    "N_test = X_test.shape[0]\n",
    "P = n_genes\n",
    "C = n_types"
   ]
  },
  {
   "cell_type": "code",
   "execution_count": 11,
   "metadata": {},
   "outputs": [
    {
     "data": {
      "image/png": "[encoded data removed]",
      "text/plain": [
       "<Figure size 1008x288 with 2 Axes>"
      ]
     },
     "metadata": {
      "needs_background": "light"
     },
     "output_type": "display_data"
    }
   ],
   "source": [
    "n_cells = X.shape[0]\n",
    "n_genes = X.shape[1]\n",
    "\n",
    "genecounts_mean = np.mean(X, axis=0)\n",
    "genecounts_var = np.var(X, axis=0)\n",
    "\n",
    "x = np.linspace(genecounts_mean.min(), genecounts_mean.max(), num=100000)\n",
    "r_ = .1\n",
    "\n",
    "s = 30\n",
    "alpha = 0.5\n",
    "\n",
    "fig = plt.figure(figsize=(14, 4))\n",
    "ax = plt.subplot(1, 2, 1)\n",
    "plt.xscale('log')\n",
    "plt.yscale('log')\n",
    "plt.scatter(genecounts_mean, genecounts_var, s=s, alpha=alpha)\n",
    "plt.plot(x, x, color='red')\n",
    "# plt.plot(x, x + 1/r_ * x**2, color='red')\n",
    "plt.xlabel('mean of gene expression')\n",
    "plt.ylabel('variance of gene expression')\n",
    "plt.ylim(min(genecounts_mean.min(), genecounts_var.min()), max(genecounts_mean.max(), genecounts_var.max()))\n",
    "\n",
    "# Dropout probability of each gene: number of cells with zero count of that gene / total number of cells\n",
    "dropout_prob = np.sum(X==0, axis=0) / n_cells\n",
    "\n",
    "x = np.linspace(genecounts_mean.min(), genecounts_mean.max(), num=100000)\n",
    "poi_zeros = np.exp(-x)\n",
    "nb_zeros = (r_/(x + r_))**r_\n",
    "\n",
    "ax = plt.subplot(1, 2, 2)\n",
    "plt.xscale('log')\n",
    "plt.scatter(genecounts_mean, dropout_prob, label='genes', s=s, alpha=alpha)\n",
    "plt.plot(x, poi_zeros, color='red', label='Poisson')\n",
    "# plt.plot(x, nb_zeros, color='red', label='NB (r={})'.format(r_))\n",
    "plt.xlabel('mean of gene expression')\n",
    "plt.ylabel('probability of zero')\n",
    "plt.legend(scatterpoints=2, frameon=True, bbox_to_anchor=[1.25, 1.0])\n",
    "\n",
    "plt.suptitle('POLLEN data', fontsize=14)\n",
    "# plt.savefig('PBMC_Poisson.pdf', dpi=300, bbox_inches='tight')\n",
    "plt.show()"
   ]
  },
  {
   "cell_type": "markdown",
   "metadata": {},
   "source": [
    "# Run models\n",
    "For each model, we need:\n",
    "* 5 repetitions on the full data set, for clustering benchmarking. \n",
    "    - Keep the best run and:\n",
    "         - perform t-SNE;\n",
    "         - get m-pCMF and ZINBayes' cell scalings.\n",
    "* 5-fold cross-validation to compute the held-out data log-likelihood.\n",
    "* Run on 5 different corrupted full data sets for imputation benchmarking.\n",
    "\n",
    "(ensure scVI does not separate the data more than we want it to.)"
   ]
  },
  {
   "cell_type": "code",
   "execution_count": 8,
   "metadata": {},
   "outputs": [],
   "source": [
    "K = 10"
   ]
  },
  {
   "cell_type": "markdown",
   "metadata": {},
   "source": [
    "## Factor Analysis"
   ]
  },
  {
   "cell_type": "code",
   "execution_count": 9,
   "metadata": {},
   "outputs": [
    {
     "name": "stdout",
     "output_type": "stream",
     "text": [
      "Running FA...\n",
      "Some arguments were ignored by FactorAnalysis.\n",
      "Running .fit_transform() without keyword arguments.\n",
      "Done.\n"
     ]
    },
    {
     "name": "stderr",
     "output_type": "stream",
     "text": [
      "/home/ubuntu/thesis/venv/lib/python3.6/site-packages/sklearn/metrics/cluster/supervised.py:844: FutureWarning: The behavior of NMI will change in version 0.22. To match the behavior of 'v_measure_score', NMI will use average_method='arithmetic' by default.\n",
      "  FutureWarning)\n"
     ]
    }
   ],
   "source": [
    "obj = FactorAnalysis(n_components=K)\n",
    "fa = ModelWrapper(obj, X, c_train=labels, b_train=b_onehot, name='FA', do_imp=False, log_data=True)\n",
    "fa.run(do_silh=True, do_dll=False, do_holl=False, do_tsne=False, do_batch=True, verbose=True)"
   ]
  },
  {
   "cell_type": "code",
   "execution_count": 10,
   "metadata": {},
   "outputs": [
    {
     "data": {
      "text/plain": [
       "(0.12577307792643763,\n",
       " -0.0016889155176846458,\n",
       " 0.10645635522135452,\n",
       " 0.14871482170551875)"
      ]
     },
     "execution_count": 10,
     "metadata": {},
     "output_type": "execute_result"
    }
   ],
   "source": [
    "fa.asw, fa.ari, fa.nmi, fa.batch_asw"
   ]
  },
  {
   "cell_type": "code",
   "execution_count": 13,
   "metadata": {},
   "outputs": [
    {
     "name": "stdout",
     "output_type": "stream",
     "text": [
      "Run 0...\n",
      "Running FA...\n",
      "Some arguments were ignored by FactorAnalysis.\n",
      "Running .fit_transform() without keyword arguments.\n"
     ]
    },
    {
     "name": "stderr",
     "output_type": "stream",
     "text": [
      "/home/ubuntu/thesis/venv/lib/python3.6/site-packages/sklearn/metrics/cluster/supervised.py:844: FutureWarning: The behavior of NMI will change in version 0.22. To match the behavior of 'v_measure_score', NMI will use average_method='arithmetic' by default.\n",
      "  FutureWarning)\n"
     ]
    },
    {
     "name": "stdout",
     "output_type": "stream",
     "text": [
      "Done.\n",
      "Done.\n",
      "\n",
      "Run 1...\n",
      "Running FA...\n",
      "Some arguments were ignored by FactorAnalysis.\n",
      "Running .fit_transform() without keyword arguments.\n"
     ]
    },
    {
     "name": "stderr",
     "output_type": "stream",
     "text": [
      "/home/ubuntu/thesis/venv/lib/python3.6/site-packages/sklearn/metrics/cluster/supervised.py:844: FutureWarning: The behavior of NMI will change in version 0.22. To match the behavior of 'v_measure_score', NMI will use average_method='arithmetic' by default.\n",
      "  FutureWarning)\n"
     ]
    },
    {
     "name": "stdout",
     "output_type": "stream",
     "text": [
      "Done.\n",
      "Done.\n",
      "\n",
      "Run 2...\n",
      "Running FA...\n",
      "Some arguments were ignored by FactorAnalysis.\n",
      "Running .fit_transform() without keyword arguments.\n"
     ]
    },
    {
     "name": "stderr",
     "output_type": "stream",
     "text": [
      "/home/ubuntu/thesis/venv/lib/python3.6/site-packages/sklearn/metrics/cluster/supervised.py:844: FutureWarning: The behavior of NMI will change in version 0.22. To match the behavior of 'v_measure_score', NMI will use average_method='arithmetic' by default.\n",
      "  FutureWarning)\n"
     ]
    },
    {
     "name": "stdout",
     "output_type": "stream",
     "text": [
      "Done.\n",
      "Done.\n",
      "\n",
      "Run 3...\n",
      "Running FA...\n",
      "Some arguments were ignored by FactorAnalysis.\n",
      "Running .fit_transform() without keyword arguments.\n"
     ]
    },
    {
     "name": "stderr",
     "output_type": "stream",
     "text": [
      "/home/ubuntu/thesis/venv/lib/python3.6/site-packages/sklearn/metrics/cluster/supervised.py:844: FutureWarning: The behavior of NMI will change in version 0.22. To match the behavior of 'v_measure_score', NMI will use average_method='arithmetic' by default.\n",
      "  FutureWarning)\n"
     ]
    },
    {
     "name": "stdout",
     "output_type": "stream",
     "text": [
      "Done.\n",
      "Done.\n",
      "\n",
      "Run 4...\n",
      "Running FA...\n",
      "Some arguments were ignored by FactorAnalysis.\n",
      "Running .fit_transform() without keyword arguments.\n",
      "Done.\n",
      "Done.\n",
      "\n"
     ]
    },
    {
     "name": "stderr",
     "output_type": "stream",
     "text": [
      "/home/ubuntu/thesis/venv/lib/python3.6/site-packages/sklearn/metrics/cluster/supervised.py:844: FutureWarning: The behavior of NMI will change in version 0.22. To match the behavior of 'v_measure_score', NMI will use average_method='arithmetic' by default.\n",
      "  FutureWarning)\n"
     ]
    }
   ],
   "source": [
    "# 5 repetitions on the full data set\n",
    "fa_full_reps = []\n",
    "\n",
    "for i in range(5):\n",
    "    print('Run {}...'.format(i))\n",
    "    obj = FactorAnalysis(n_components=K)\n",
    "    fa = ModelWrapper(obj, X, c_train=labels, b_train=b_onehot, name='FA', do_imp=False, log_data=True)\n",
    "    fa.run(do_silh=True, do_dll=False, do_holl=False, do_tsne=False, do_batch=True, verbose=True)\n",
    "    \n",
    "    fa_full_reps.append(fa)\n",
    "    print('Done.\\n')"
   ]
  },
  {
   "cell_type": "code",
   "execution_count": 14,
   "metadata": {},
   "outputs": [
    {
     "name": "stdout",
     "output_type": "stream",
     "text": [
      "Fold 1...\n",
      "Running FA...\n",
      "Some arguments were ignored by FactorAnalysis.\n",
      "Running .fit_transform() without keyword arguments.\n",
      "Evaluating train-data log-likelihood...\n",
      "Evaluating test-data log-likelihood...\n",
      "Done.\n",
      "Done.\n",
      "\n",
      "Fold 2...\n",
      "Running FA...\n",
      "Some arguments were ignored by FactorAnalysis.\n",
      "Running .fit_transform() without keyword arguments.\n",
      "Evaluating train-data log-likelihood...\n",
      "Evaluating test-data log-likelihood...\n",
      "Done.\n",
      "Done.\n",
      "\n",
      "Fold 3...\n",
      "Running FA...\n",
      "Some arguments were ignored by FactorAnalysis.\n",
      "Running .fit_transform() without keyword arguments.\n",
      "Evaluating train-data log-likelihood...\n",
      "Evaluating test-data log-likelihood...\n",
      "Done.\n",
      "Done.\n",
      "\n",
      "Fold 4...\n",
      "Running FA...\n",
      "Some arguments were ignored by FactorAnalysis.\n",
      "Running .fit_transform() without keyword arguments.\n",
      "Evaluating train-data log-likelihood...\n",
      "Evaluating test-data log-likelihood...\n",
      "Done.\n",
      "Done.\n",
      "\n",
      "Fold 5...\n",
      "Running FA...\n",
      "Some arguments were ignored by FactorAnalysis.\n",
      "Running .fit_transform() without keyword arguments.\n",
      "Evaluating train-data log-likelihood...\n",
      "Evaluating test-data log-likelihood...\n",
      "Done.\n",
      "Done.\n",
      "\n"
     ]
    }
   ],
   "source": [
    "# 5-fold cross-validation \n",
    "fa_cv = []\n",
    "\n",
    "kf = KFold(n_splits=5, shuffle=True, random_state=42)\n",
    "fold = 0\n",
    "for train_idx, test_idx in kf.split(X):\n",
    "    fold = fold + 1\n",
    "    print('Fold {}...'.format(fold))\n",
    "    X_train = X[train_idx]\n",
    "    X_test = X[test_idx]\n",
    "\n",
    "    obj = FactorAnalysis(n_components=K)\n",
    "    fa = ModelWrapper(obj, X_train, X_test=X_test, name='FA', log_data=True, do_imp=False)\n",
    "    fa.run(do_silh=False, do_dll=True, do_holl=True, do_tsne=False, verbose=True)\n",
    "    \n",
    "    fa_cv.append(fa)\n",
    "    print('Done.\\n')"
   ]
  },
  {
   "cell_type": "markdown",
   "metadata": {},
   "source": [
    "## ZIFA"
   ]
  },
  {
   "cell_type": "code",
   "execution_count": null,
   "metadata": {},
   "outputs": [],
   "source": [
    "obj = ZIFA(n_components=K)\n",
    "zifa = ModelWrapper(obj, X, c_train=labels, b_train=b_onehot, name='ZIFA', log_data=True, do_imp=False)\n",
    "zifa.run(max_iter=1000, do_silh=True, max_time=60*60, do_dll=False, do_holl=False, do_tsne=False, do_batch=True, verbose=True)"
   ]
  },
  {
   "cell_type": "code",
   "execution_count": null,
   "metadata": {},
   "outputs": [],
   "source": [
    "zifa.asw, zifa.ari, zifa.nmi, zifa.batch_asw"
   ]
  },
  {
   "cell_type": "code",
   "execution_count": 15,
   "metadata": {},
   "outputs": [
    {
     "name": "stdout",
     "output_type": "stream",
     "text": [
      "Run 0...\n",
      "Running ZIFA...\n",
      "Some arguments were ignored by ZIFA.\n"
     ]
    },
    {
     "name": "stderr",
     "output_type": "stream",
     "text": [
      "/home/ubuntu/thesis/venv/lib/python3.6/site-packages/scipy/optimize/minpack.py:794: OptimizeWarning: Covariance of the parameters could not be estimated\n",
      "  category=OptimizeWarning)\n"
     ]
    },
    {
     "name": "stdout",
     "output_type": "stream",
     "text": [
      "Param change below threshold 1.000e-02 after 8 iterations\n"
     ]
    },
    {
     "name": "stderr",
     "output_type": "stream",
     "text": [
      "/home/ubuntu/thesis/venv/lib/python3.6/site-packages/sklearn/metrics/cluster/supervised.py:844: FutureWarning: The behavior of NMI will change in version 0.22. To match the behavior of 'v_measure_score', NMI will use average_method='arithmetic' by default.\n",
      "  FutureWarning)\n"
     ]
    },
    {
     "name": "stdout",
     "output_type": "stream",
     "text": [
      "Done.\n",
      "Done.\n",
      "\n",
      "Run 1...\n",
      "Running ZIFA...\n",
      "Some arguments were ignored by ZIFA.\n"
     ]
    },
    {
     "name": "stderr",
     "output_type": "stream",
     "text": [
      "/home/ubuntu/thesis/venv/lib/python3.6/site-packages/scipy/optimize/minpack.py:794: OptimizeWarning: Covariance of the parameters could not be estimated\n",
      "  category=OptimizeWarning)\n"
     ]
    },
    {
     "name": "stdout",
     "output_type": "stream",
     "text": [
      "Param change below threshold 1.000e-02 after 8 iterations\n"
     ]
    },
    {
     "name": "stderr",
     "output_type": "stream",
     "text": [
      "/home/ubuntu/thesis/venv/lib/python3.6/site-packages/sklearn/metrics/cluster/supervised.py:844: FutureWarning: The behavior of NMI will change in version 0.22. To match the behavior of 'v_measure_score', NMI will use average_method='arithmetic' by default.\n",
      "  FutureWarning)\n",
      "/home/ubuntu/thesis/venv/lib/python3.6/site-packages/scipy/optimize/minpack.py:794: OptimizeWarning: Covariance of the parameters could not be estimated\n",
      "  category=OptimizeWarning)\n"
     ]
    },
    {
     "name": "stdout",
     "output_type": "stream",
     "text": [
      "Done.\n",
      "Done.\n",
      "\n",
      "Run 2...\n",
      "Running ZIFA...\n",
      "Some arguments were ignored by ZIFA.\n",
      "Param change below threshold 1.000e-02 after 8 iterations\n"
     ]
    },
    {
     "name": "stderr",
     "output_type": "stream",
     "text": [
      "/home/ubuntu/thesis/venv/lib/python3.6/site-packages/sklearn/metrics/cluster/supervised.py:844: FutureWarning: The behavior of NMI will change in version 0.22. To match the behavior of 'v_measure_score', NMI will use average_method='arithmetic' by default.\n",
      "  FutureWarning)\n"
     ]
    },
    {
     "name": "stdout",
     "output_type": "stream",
     "text": [
      "Done.\n",
      "Done.\n",
      "\n",
      "Run 3...\n",
      "Running ZIFA...\n",
      "Some arguments were ignored by ZIFA.\n"
     ]
    },
    {
     "name": "stderr",
     "output_type": "stream",
     "text": [
      "/home/ubuntu/thesis/venv/lib/python3.6/site-packages/scipy/optimize/minpack.py:794: OptimizeWarning: Covariance of the parameters could not be estimated\n",
      "  category=OptimizeWarning)\n"
     ]
    },
    {
     "name": "stdout",
     "output_type": "stream",
     "text": [
      "Param change below threshold 1.000e-02 after 8 iterations\n"
     ]
    },
    {
     "name": "stderr",
     "output_type": "stream",
     "text": [
      "/home/ubuntu/thesis/venv/lib/python3.6/site-packages/sklearn/metrics/cluster/supervised.py:844: FutureWarning: The behavior of NMI will change in version 0.22. To match the behavior of 'v_measure_score', NMI will use average_method='arithmetic' by default.\n",
      "  FutureWarning)\n"
     ]
    },
    {
     "name": "stdout",
     "output_type": "stream",
     "text": [
      "Done.\n",
      "Done.\n",
      "\n",
      "Run 4...\n",
      "Running ZIFA...\n",
      "Some arguments were ignored by ZIFA.\n"
     ]
    },
    {
     "name": "stderr",
     "output_type": "stream",
     "text": [
      "/home/ubuntu/thesis/venv/lib/python3.6/site-packages/scipy/optimize/minpack.py:794: OptimizeWarning: Covariance of the parameters could not be estimated\n",
      "  category=OptimizeWarning)\n"
     ]
    },
    {
     "name": "stdout",
     "output_type": "stream",
     "text": [
      "Param change below threshold 1.000e-02 after 8 iterations\n",
      "Done.\n",
      "Done.\n",
      "\n"
     ]
    },
    {
     "name": "stderr",
     "output_type": "stream",
     "text": [
      "/home/ubuntu/thesis/venv/lib/python3.6/site-packages/sklearn/metrics/cluster/supervised.py:844: FutureWarning: The behavior of NMI will change in version 0.22. To match the behavior of 'v_measure_score', NMI will use average_method='arithmetic' by default.\n",
      "  FutureWarning)\n"
     ]
    }
   ],
   "source": [
    "# 5 repetitions on the full data set\n",
    "zifa_full_reps = []\n",
    "\n",
    "for i in range(5):\n",
    "    print('Run {}...'.format(i))\n",
    "    obj = ZIFA(n_components=K)\n",
    "    zifa = ModelWrapper(obj, X, c_train=labels, b_train=b_onehot, name='ZIFA', log_data=True, do_imp=False)\n",
    "    zifa.run(max_iter=1000, do_silh=True, max_time=60*60, do_dll=False, do_holl=False, do_tsne=False, do_batch=True, verbose=True)\n",
    "    \n",
    "    zifa_full_reps.append(zifa)\n",
    "    print('Done.\\n')"
   ]
  },
  {
   "cell_type": "code",
   "execution_count": 16,
   "metadata": {},
   "outputs": [
    {
     "name": "stdout",
     "output_type": "stream",
     "text": [
      "Fold 1...\n",
      "Running ZIFA...\n",
      "Some arguments were ignored by ZIFA.\n"
     ]
    },
    {
     "name": "stderr",
     "output_type": "stream",
     "text": [
      "/home/ubuntu/thesis/venv/lib/python3.6/site-packages/scipy/optimize/minpack.py:794: OptimizeWarning: Covariance of the parameters could not be estimated\n",
      "  category=OptimizeWarning)\n"
     ]
    },
    {
     "name": "stdout",
     "output_type": "stream",
     "text": [
      "Param change below threshold 1.000e-02 after 8 iterations\n",
      "Evaluating train-data log-likelihood...\n",
      "Evaluating test-data log-likelihood...\n",
      "Done.\n",
      "Done.\n",
      "\n",
      "Fold 2...\n",
      "Running ZIFA...\n",
      "Some arguments were ignored by ZIFA.\n"
     ]
    },
    {
     "name": "stderr",
     "output_type": "stream",
     "text": [
      "/home/ubuntu/thesis/venv/lib/python3.6/site-packages/scipy/optimize/minpack.py:794: OptimizeWarning: Covariance of the parameters could not be estimated\n",
      "  category=OptimizeWarning)\n"
     ]
    },
    {
     "name": "stdout",
     "output_type": "stream",
     "text": [
      "Param change below threshold 1.000e-02 after 8 iterations\n",
      "Evaluating train-data log-likelihood...\n"
     ]
    },
    {
     "ename": "KeyboardInterrupt",
     "evalue": "",
     "output_type": "error",
     "traceback": [
      "\u001b[0;31m---------------------------------------------------------------------------\u001b[0m",
      "\u001b[0;31mAttributeError\u001b[0m                            Traceback (most recent call last)",
      "\u001b[0;32m~/thesis/venv/lib/python3.6/site-packages/misc/model_wrapper.py\u001b[0m in \u001b[0;36mrun\u001b[0;34m(self, max_iter, max_time, do_tsne, do_dll, do_holl, do_silh, do_batch, verbose)\u001b[0m\n\u001b[1;32m    167\u001b[0m                                 \u001b[0;32mtry\u001b[0m\u001b[0;34m:\u001b[0m\u001b[0;34m\u001b[0m\u001b[0m\n\u001b[0;32m--> 168\u001b[0;31m                                         \u001b[0mself\u001b[0m\u001b[0;34m.\u001b[0m\u001b[0mtrain_ll\u001b[0m \u001b[0;34m=\u001b[0m \u001b[0;34m-\u001b[0m\u001b[0mself\u001b[0m\u001b[0;34m.\u001b[0m\u001b[0mmodel_inst\u001b[0m\u001b[0;34m.\u001b[0m\u001b[0mloss_dict\u001b[0m\u001b[0;34m[\u001b[0m\u001b[0;34m't_loss'\u001b[0m\u001b[0;34m]\u001b[0m\u001b[0;34m[\u001b[0m\u001b[0;34m-\u001b[0m\u001b[0;36m1\u001b[0m\u001b[0;34m]\u001b[0m\u001b[0;34m\u001b[0m\u001b[0m\n\u001b[0m\u001b[1;32m    169\u001b[0m                                 \u001b[0;32mexcept\u001b[0m \u001b[0mAttributeError\u001b[0m\u001b[0;34m:\u001b[0m\u001b[0;34m\u001b[0m\u001b[0m\n",
      "\u001b[0;31mAttributeError\u001b[0m: 'ZIFA' object has no attribute 'loss_dict'",
      "\nDuring handling of the above exception, another exception occurred:\n",
      "\u001b[0;31mTypeError\u001b[0m                                 Traceback (most recent call last)",
      "\u001b[0;32m~/thesis/venv/lib/python3.6/site-packages/misc/model_wrapper.py\u001b[0m in \u001b[0;36mrun\u001b[0;34m(self, max_iter, max_time, do_tsne, do_dll, do_holl, do_silh, do_batch, verbose)\u001b[0m\n\u001b[1;32m    170\u001b[0m                                         \u001b[0;32mtry\u001b[0m\u001b[0;34m:\u001b[0m\u001b[0;34m\u001b[0m\u001b[0m\n\u001b[0;32m--> 171\u001b[0;31m                                                 \u001b[0mself\u001b[0m\u001b[0;34m.\u001b[0m\u001b[0mtrain_ll\u001b[0m \u001b[0;34m=\u001b[0m \u001b[0mself\u001b[0m\u001b[0;34m.\u001b[0m\u001b[0mmodel_inst\u001b[0m\u001b[0;34m.\u001b[0m\u001b[0mscore\u001b[0m\u001b[0;34m(\u001b[0m\u001b[0mself\u001b[0m\u001b[0;34m.\u001b[0m\u001b[0mX_train\u001b[0m\u001b[0;34m,\u001b[0m \u001b[0mbatch_idx\u001b[0m\u001b[0;34m=\u001b[0m\u001b[0mself\u001b[0m\u001b[0;34m.\u001b[0m\u001b[0mb_train\u001b[0m\u001b[0;34m)\u001b[0m\u001b[0;34m\u001b[0m\u001b[0m\n\u001b[0m\u001b[1;32m    172\u001b[0m                                         \u001b[0;32mexcept\u001b[0m \u001b[0mTypeError\u001b[0m\u001b[0;34m:\u001b[0m\u001b[0;34m\u001b[0m\u001b[0m\n",
      "\u001b[0;31mTypeError\u001b[0m: score() got an unexpected keyword argument 'batch_idx'",
      "\nDuring handling of the above exception, another exception occurred:\n",
      "\u001b[0;31mKeyboardInterrupt\u001b[0m                         Traceback (most recent call last)",
      "\u001b[0;32m<ipython-input-16-edb0124e269b>\u001b[0m in \u001b[0;36m<module>\u001b[0;34m\u001b[0m\n\u001b[1;32m     12\u001b[0m     \u001b[0mobj\u001b[0m \u001b[0;34m=\u001b[0m \u001b[0mZIFA\u001b[0m\u001b[0;34m(\u001b[0m\u001b[0mn_components\u001b[0m\u001b[0;34m=\u001b[0m\u001b[0mK\u001b[0m\u001b[0;34m)\u001b[0m\u001b[0;34m\u001b[0m\u001b[0m\n\u001b[1;32m     13\u001b[0m     \u001b[0mzifa\u001b[0m \u001b[0;34m=\u001b[0m \u001b[0mModelWrapper\u001b[0m\u001b[0;34m(\u001b[0m\u001b[0mobj\u001b[0m\u001b[0;34m,\u001b[0m \u001b[0mX_train\u001b[0m\u001b[0;34m,\u001b[0m \u001b[0mX_test\u001b[0m\u001b[0;34m=\u001b[0m\u001b[0mX_test\u001b[0m\u001b[0;34m,\u001b[0m \u001b[0mlog_data\u001b[0m\u001b[0;34m=\u001b[0m\u001b[0;32mTrue\u001b[0m\u001b[0;34m,\u001b[0m \u001b[0mname\u001b[0m\u001b[0;34m=\u001b[0m\u001b[0;34m'ZIFA'\u001b[0m\u001b[0;34m)\u001b[0m\u001b[0;34m\u001b[0m\u001b[0m\n\u001b[0;32m---> 14\u001b[0;31m     \u001b[0mzifa\u001b[0m\u001b[0;34m.\u001b[0m\u001b[0mrun\u001b[0m\u001b[0;34m(\u001b[0m\u001b[0mmax_time\u001b[0m\u001b[0;34m=\u001b[0m\u001b[0;36m60\u001b[0m\u001b[0;34m*\u001b[0m\u001b[0;36m60\u001b[0m\u001b[0;34m,\u001b[0m \u001b[0mmax_iter\u001b[0m\u001b[0;34m=\u001b[0m\u001b[0;36m100\u001b[0m\u001b[0;34m,\u001b[0m \u001b[0mdo_silh\u001b[0m\u001b[0;34m=\u001b[0m\u001b[0;32mFalse\u001b[0m\u001b[0;34m,\u001b[0m \u001b[0mdo_dll\u001b[0m\u001b[0;34m=\u001b[0m\u001b[0;32mTrue\u001b[0m\u001b[0;34m,\u001b[0m \u001b[0mdo_holl\u001b[0m\u001b[0;34m=\u001b[0m\u001b[0;32mTrue\u001b[0m\u001b[0;34m,\u001b[0m \u001b[0mdo_tsne\u001b[0m\u001b[0;34m=\u001b[0m\u001b[0;32mFalse\u001b[0m\u001b[0;34m,\u001b[0m \u001b[0mverbose\u001b[0m\u001b[0;34m=\u001b[0m\u001b[0;32mTrue\u001b[0m\u001b[0;34m)\u001b[0m\u001b[0;34m\u001b[0m\u001b[0m\n\u001b[0m\u001b[1;32m     15\u001b[0m \u001b[0;34m\u001b[0m\u001b[0m\n\u001b[1;32m     16\u001b[0m     \u001b[0mzifa_cv\u001b[0m\u001b[0;34m.\u001b[0m\u001b[0mappend\u001b[0m\u001b[0;34m(\u001b[0m\u001b[0mzifa\u001b[0m\u001b[0;34m)\u001b[0m\u001b[0;34m\u001b[0m\u001b[0m\n",
      "\u001b[0;32m~/thesis/venv/lib/python3.6/site-packages/misc/model_wrapper.py\u001b[0m in \u001b[0;36mrun\u001b[0;34m(self, max_iter, max_time, do_tsne, do_dll, do_holl, do_silh, do_batch, verbose)\u001b[0m\n\u001b[1;32m    171\u001b[0m                                                 \u001b[0mself\u001b[0m\u001b[0;34m.\u001b[0m\u001b[0mtrain_ll\u001b[0m \u001b[0;34m=\u001b[0m \u001b[0mself\u001b[0m\u001b[0;34m.\u001b[0m\u001b[0mmodel_inst\u001b[0m\u001b[0;34m.\u001b[0m\u001b[0mscore\u001b[0m\u001b[0;34m(\u001b[0m\u001b[0mself\u001b[0m\u001b[0;34m.\u001b[0m\u001b[0mX_train\u001b[0m\u001b[0;34m,\u001b[0m \u001b[0mbatch_idx\u001b[0m\u001b[0;34m=\u001b[0m\u001b[0mself\u001b[0m\u001b[0;34m.\u001b[0m\u001b[0mb_train\u001b[0m\u001b[0;34m)\u001b[0m\u001b[0;34m\u001b[0m\u001b[0m\n\u001b[1;32m    172\u001b[0m                                         \u001b[0;32mexcept\u001b[0m \u001b[0mTypeError\u001b[0m\u001b[0;34m:\u001b[0m\u001b[0;34m\u001b[0m\u001b[0m\n\u001b[0;32m--> 173\u001b[0;31m                                                 \u001b[0mself\u001b[0m\u001b[0;34m.\u001b[0m\u001b[0mtrain_ll\u001b[0m \u001b[0;34m=\u001b[0m \u001b[0mself\u001b[0m\u001b[0;34m.\u001b[0m\u001b[0mmodel_inst\u001b[0m\u001b[0;34m.\u001b[0m\u001b[0mscore\u001b[0m\u001b[0;34m(\u001b[0m\u001b[0mself\u001b[0m\u001b[0;34m.\u001b[0m\u001b[0mX_train\u001b[0m\u001b[0;34m)\u001b[0m\u001b[0;34m\u001b[0m\u001b[0m\n\u001b[0m\u001b[1;32m    174\u001b[0m                                 \u001b[0;32mif\u001b[0m \u001b[0mself\u001b[0m\u001b[0;34m.\u001b[0m\u001b[0mlog_data\u001b[0m\u001b[0;34m:\u001b[0m\u001b[0;34m\u001b[0m\u001b[0m\n\u001b[1;32m    175\u001b[0m                                         \u001b[0mself\u001b[0m\u001b[0;34m.\u001b[0m\u001b[0mtrain_ll\u001b[0m \u001b[0;34m=\u001b[0m \u001b[0mself\u001b[0m\u001b[0;34m.\u001b[0m\u001b[0mtrain_ll\u001b[0m \u001b[0;34m-\u001b[0m \u001b[0mnp\u001b[0m\u001b[0;34m.\u001b[0m\u001b[0mmean\u001b[0m\u001b[0;34m(\u001b[0m\u001b[0mnp\u001b[0m\u001b[0;34m.\u001b[0m\u001b[0msum\u001b[0m\u001b[0;34m(\u001b[0m\u001b[0mself\u001b[0m\u001b[0;34m.\u001b[0m\u001b[0mX_train\u001b[0m\u001b[0;34m,\u001b[0m \u001b[0maxis\u001b[0m\u001b[0;34m=\u001b[0m\u001b[0;34m-\u001b[0m\u001b[0;36m1\u001b[0m\u001b[0;34m)\u001b[0m\u001b[0;34m)\u001b[0m\u001b[0;34m\u001b[0m\u001b[0m\n",
      "\u001b[0;32m~/thesis/venv/lib/python3.6/site-packages/state_of_art/ZIFA/zifa.py\u001b[0m in \u001b[0;36mscore\u001b[0;34m(self, X)\u001b[0m\n\u001b[1;32m    507\u001b[0m         \u001b[0mMean\u001b[0m \u001b[0mper\u001b[0m \u001b[0msample\u001b[0m \u001b[0mlikelihood\u001b[0m \u001b[0mof\u001b[0m \u001b[0mthe\u001b[0m \u001b[0mdata\u001b[0m\u001b[0;34m\u001b[0m\u001b[0m\n\u001b[1;32m    508\u001b[0m         \"\"\"\n\u001b[0;32m--> 509\u001b[0;31m         \u001b[0m_\u001b[0m\u001b[0;34m,\u001b[0m \u001b[0mres\u001b[0m \u001b[0;34m=\u001b[0m \u001b[0mcrossValidate\u001b[0m\u001b[0;34m(\u001b[0m\u001b[0mX\u001b[0m\u001b[0;34m,\u001b[0m \u001b[0mself\u001b[0m\u001b[0;34m.\u001b[0m\u001b[0mparams\u001b[0m\u001b[0;34m)\u001b[0m\u001b[0;34m\u001b[0m\u001b[0m\n\u001b[0m\u001b[1;32m    510\u001b[0m         \u001b[0;32mreturn\u001b[0m \u001b[0mres\u001b[0m\u001b[0;34m\u001b[0m\u001b[0m\n\u001b[1;32m    511\u001b[0m \u001b[0;34m\u001b[0m\u001b[0m\n",
      "\u001b[0;32m~/thesis/venv/lib/python3.6/site-packages/state_of_art/ZIFA/zifa.py\u001b[0m in \u001b[0;36mcrossValidate\u001b[0;34m(test_set, params)\u001b[0m\n\u001b[1;32m    426\u001b[0m     \u001b[0mA\u001b[0m\u001b[0;34m,\u001b[0m \u001b[0mmus\u001b[0m\u001b[0;34m,\u001b[0m \u001b[0msigmas\u001b[0m\u001b[0;34m,\u001b[0m \u001b[0mdecay_coef\u001b[0m \u001b[0;34m=\u001b[0m \u001b[0mparams\u001b[0m\u001b[0;34m[\u001b[0m\u001b[0;34m\"A\"\u001b[0m\u001b[0;34m]\u001b[0m\u001b[0;34m,\u001b[0m \u001b[0mparams\u001b[0m\u001b[0;34m[\u001b[0m\u001b[0;34m\"mus\"\u001b[0m\u001b[0;34m]\u001b[0m\u001b[0;34m,\u001b[0m \u001b[0mparams\u001b[0m\u001b[0;34m[\u001b[0m\u001b[0;34m\"sigmas\"\u001b[0m\u001b[0;34m]\u001b[0m\u001b[0;34m,\u001b[0m \u001b[0mparams\u001b[0m\u001b[0;34m[\u001b[0m\u001b[0;34m\"decay_coef\"\u001b[0m\u001b[0;34m]\u001b[0m\u001b[0;34m\u001b[0m\u001b[0m\n\u001b[1;32m    427\u001b[0m     \u001b[0mY\u001b[0m \u001b[0;34m=\u001b[0m \u001b[0mnp\u001b[0m\u001b[0;34m.\u001b[0m\u001b[0marray\u001b[0m\u001b[0;34m(\u001b[0m\u001b[0mtest_set\u001b[0m\u001b[0;34m)\u001b[0m\u001b[0;34m\u001b[0m\u001b[0m\n\u001b[0;32m--> 428\u001b[0;31m     \u001b[0mEZ\u001b[0m\u001b[0;34m,\u001b[0m \u001b[0mEZZT\u001b[0m\u001b[0;34m,\u001b[0m \u001b[0mEX\u001b[0m\u001b[0;34m,\u001b[0m \u001b[0mEXZ\u001b[0m\u001b[0;34m,\u001b[0m \u001b[0mEX2\u001b[0m \u001b[0;34m=\u001b[0m \u001b[0mEstep\u001b[0m\u001b[0;34m(\u001b[0m\u001b[0mY\u001b[0m\u001b[0;34m,\u001b[0m \u001b[0mA\u001b[0m\u001b[0;34m,\u001b[0m \u001b[0mmus\u001b[0m\u001b[0;34m,\u001b[0m \u001b[0msigmas\u001b[0m\u001b[0;34m,\u001b[0m \u001b[0mdecay_coef\u001b[0m\u001b[0;34m)\u001b[0m\u001b[0;34m\u001b[0m\u001b[0m\n\u001b[0m\u001b[1;32m    429\u001b[0m     \u001b[0my_squared\u001b[0m \u001b[0;34m=\u001b[0m \u001b[0mY\u001b[0m \u001b[0;34m**\u001b[0m \u001b[0;36m2\u001b[0m\u001b[0;34m\u001b[0m\u001b[0m\n\u001b[1;32m    430\u001b[0m     \u001b[0mY_is_zero\u001b[0m \u001b[0;34m=\u001b[0m \u001b[0mnp\u001b[0m\u001b[0;34m.\u001b[0m\u001b[0mabs\u001b[0m\u001b[0;34m(\u001b[0m\u001b[0mY\u001b[0m\u001b[0;34m)\u001b[0m \u001b[0;34m<\u001b[0m \u001b[0;36m1e-6\u001b[0m\u001b[0;34m\u001b[0m\u001b[0m\n",
      "\u001b[0;32m~/thesis/venv/lib/python3.6/site-packages/state_of_art/ZIFA/zifa.py\u001b[0m in \u001b[0;36mEstep\u001b[0;34m(Y, A, mus, sigmas, decay_coef)\u001b[0m\n\u001b[1;32m     99\u001b[0m         \u001b[0;31m#3. compute P(Z, X_0 | Y_+, Y_0)\u001b[0m\u001b[0;34m\u001b[0m\u001b[0;34m\u001b[0m\u001b[0m\n\u001b[1;32m    100\u001b[0m         \u001b[0mdim\u001b[0m \u001b[0;34m=\u001b[0m \u001b[0mlen\u001b[0m\u001b[0;34m(\u001b[0m\u001b[0msigma_c\u001b[0m\u001b[0;34m)\u001b[0m\u001b[0;34m\u001b[0m\u001b[0m\n\u001b[0;32m--> 101\u001b[0;31m         \u001b[0mmatrixToInvert\u001b[0m \u001b[0;34m=\u001b[0m \u001b[0mcomputeMatrixInLastStep\u001b[0m\u001b[0;34m(\u001b[0m\u001b[0mA\u001b[0m\u001b[0;34m,\u001b[0m \u001b[0mnp\u001b[0m\u001b[0;34m.\u001b[0m\u001b[0mabs\u001b[0m\u001b[0;34m(\u001b[0m\u001b[0mY\u001b[0m\u001b[0;34m[\u001b[0m\u001b[0mi\u001b[0m\u001b[0;34m,\u001b[0m \u001b[0;34m:\u001b[0m\u001b[0;34m]\u001b[0m\u001b[0;34m)\u001b[0m \u001b[0;34m<\u001b[0m \u001b[0;36m1e-6\u001b[0m\u001b[0;34m,\u001b[0m \u001b[0msigmas\u001b[0m\u001b[0;34m,\u001b[0m \u001b[0mK\u001b[0m\u001b[0;34m,\u001b[0m \u001b[0msigma_c\u001b[0m\u001b[0;34m,\u001b[0m \u001b[0mdecay_coef\u001b[0m\u001b[0;34m,\u001b[0m \u001b[0msigma_22_inv\u001b[0m\u001b[0;34m)\u001b[0m\u001b[0;34m\u001b[0m\u001b[0m\n\u001b[0m\u001b[1;32m    102\u001b[0m         \u001b[0;32mif\u001b[0m \u001b[0;34m(\u001b[0m\u001b[0mY_is_zero\u001b[0m\u001b[0;34m)\u001b[0m\u001b[0;34m.\u001b[0m\u001b[0msum\u001b[0m\u001b[0;34m(\u001b[0m\u001b[0;34m)\u001b[0m \u001b[0;34m<\u001b[0m \u001b[0mD\u001b[0m\u001b[0;34m:\u001b[0m\u001b[0;34m\u001b[0m\u001b[0m\n\u001b[1;32m    103\u001b[0m             \u001b[0mmagical_matrix\u001b[0m \u001b[0;34m=\u001b[0m \u001b[0;36m2\u001b[0m \u001b[0;34m*\u001b[0m \u001b[0mdecay_coef\u001b[0m \u001b[0;34m*\u001b[0m \u001b[0;34m(\u001b[0m\u001b[0mmult_diag\u001b[0m\u001b[0;34m(\u001b[0m\u001b[0maugmented_D\u001b[0m\u001b[0;34m,\u001b[0m \u001b[0mmatrixToInvert\u001b[0m\u001b[0;34m)\u001b[0m \u001b[0;34m+\u001b[0m \u001b[0maugmentedA_0\u001b[0m \u001b[0;34m*\u001b[0m \u001b[0;34m(\u001b[0m\u001b[0mnp\u001b[0m\u001b[0;34m.\u001b[0m\u001b[0meye\u001b[0m\u001b[0;34m(\u001b[0m\u001b[0mK\u001b[0m\u001b[0;34m)\u001b[0m\u001b[0;34m-\u001b[0m\u001b[0maugmentedA_plus\u001b[0m\u001b[0;34m.\u001b[0m\u001b[0mT\u001b[0m \u001b[0;34m*\u001b[0m \u001b[0msigma_22_inv\u001b[0m \u001b[0;34m*\u001b[0m \u001b[0maugmentedA_plus\u001b[0m\u001b[0;34m)\u001b[0m \u001b[0;34m*\u001b[0m \u001b[0;34m(\u001b[0m\u001b[0maugmentedA_0\u001b[0m\u001b[0;34m.\u001b[0m\u001b[0mT\u001b[0m \u001b[0;34m*\u001b[0m \u001b[0mmatrixToInvert\u001b[0m\u001b[0;34m)\u001b[0m\u001b[0;34m)\u001b[0m\u001b[0;34m\u001b[0m\u001b[0m\n",
      "\u001b[0;32m~/thesis/venv/lib/python3.6/site-packages/state_of_art/ZIFA/zifa.py\u001b[0m in \u001b[0;36mcomputeMatrixInLastStep\u001b[0;34m(A, zero_indices, sigmas, K, sigma_c, decay_coef, sigma_22_inv)\u001b[0m\n\u001b[1;32m    140\u001b[0m     \u001b[0mE_xx\u001b[0m \u001b[0;34m=\u001b[0m \u001b[0msigma_c\u001b[0m\u001b[0;34m[\u001b[0m\u001b[0mK\u001b[0m\u001b[0;34m:\u001b[0m\u001b[0;34m,\u001b[0m \u001b[0;34m:\u001b[0m\u001b[0;34m]\u001b[0m\u001b[0;34m[\u001b[0m\u001b[0;34m:\u001b[0m\u001b[0;34m,\u001b[0m \u001b[0mK\u001b[0m\u001b[0;34m:\u001b[0m\u001b[0;34m]\u001b[0m\u001b[0;34m\u001b[0m\u001b[0m\n\u001b[1;32m    141\u001b[0m     \u001b[0mE_xz\u001b[0m \u001b[0;34m=\u001b[0m \u001b[0msigma_c\u001b[0m\u001b[0;34m[\u001b[0m\u001b[0mK\u001b[0m\u001b[0;34m:\u001b[0m\u001b[0;34m,\u001b[0m \u001b[0;34m:\u001b[0m\u001b[0;34m]\u001b[0m\u001b[0;34m[\u001b[0m\u001b[0;34m:\u001b[0m\u001b[0;34m,\u001b[0m \u001b[0;34m:\u001b[0m\u001b[0mK\u001b[0m\u001b[0;34m]\u001b[0m\u001b[0;34m\u001b[0m\u001b[0m\n\u001b[0;32m--> 142\u001b[0;31m     \u001b[0mE_00_prime_inv\u001b[0m \u001b[0;34m=\u001b[0m \u001b[0mnp\u001b[0m\u001b[0;34m.\u001b[0m\u001b[0mmatrix\u001b[0m\u001b[0;34m(\u001b[0m\u001b[0minvertFast\u001b[0m\u001b[0;34m(\u001b[0m\u001b[0mA_0\u001b[0m\u001b[0;34m,\u001b[0m \u001b[0msigmas_0\u001b[0m \u001b[0;34m**\u001b[0m \u001b[0;36m2\u001b[0m \u001b[0;34m+\u001b[0m \u001b[0;36m1\u001b[0m \u001b[0;34m/\u001b[0m \u001b[0;34m(\u001b[0m\u001b[0;36m2.\u001b[0m \u001b[0;34m*\u001b[0m \u001b[0mdecay_coef\u001b[0m\u001b[0;34m)\u001b[0m\u001b[0;34m)\u001b[0m\u001b[0;34m)\u001b[0m\u001b[0;34m\u001b[0m\u001b[0m\n\u001b[0m\u001b[1;32m    143\u001b[0m     \u001b[0mE_plusplus_inv\u001b[0m \u001b[0;34m=\u001b[0m \u001b[0msigma_22_inv\u001b[0m\u001b[0;34m\u001b[0m\u001b[0m\n\u001b[1;32m    144\u001b[0m     \u001b[0mE_0plus\u001b[0m \u001b[0;34m=\u001b[0m \u001b[0mA_0\u001b[0m\u001b[0;34m*\u001b[0m\u001b[0mA_plus\u001b[0m\u001b[0;34m.\u001b[0m\u001b[0mT\u001b[0m\u001b[0;34m;\u001b[0m\u001b[0;34m\u001b[0m\u001b[0m\n",
      "\u001b[0;32m~/thesis/venv/lib/python3.6/site-packages/state_of_art/ZIFA/zifa.py\u001b[0m in \u001b[0;36minvertFast\u001b[0;34m(A, d)\u001b[0m\n\u001b[1;32m     64\u001b[0m     \u001b[0md_inv\u001b[0m \u001b[0;34m=\u001b[0m \u001b[0mnp\u001b[0m\u001b[0;34m.\u001b[0m\u001b[0marray\u001b[0m\u001b[0;34m(\u001b[0m\u001b[0;36m1\u001b[0m\u001b[0;34m/\u001b[0m\u001b[0md_vec\u001b[0m\u001b[0;34m[\u001b[0m\u001b[0;34m:\u001b[0m\u001b[0;34m,\u001b[0m \u001b[0;36m0\u001b[0m\u001b[0;34m]\u001b[0m\u001b[0;34m)\u001b[0m\u001b[0;34m\u001b[0m\u001b[0m\n\u001b[1;32m     65\u001b[0m     \u001b[0minv_d_squared\u001b[0m \u001b[0;34m=\u001b[0m \u001b[0mnp\u001b[0m\u001b[0;34m.\u001b[0m\u001b[0mdot\u001b[0m\u001b[0;34m(\u001b[0m\u001b[0mnp\u001b[0m\u001b[0;34m.\u001b[0m\u001b[0matleast_2d\u001b[0m\u001b[0;34m(\u001b[0m\u001b[0md_inv\u001b[0m\u001b[0;34m)\u001b[0m\u001b[0;34m.\u001b[0m\u001b[0mT\u001b[0m\u001b[0;34m,\u001b[0m \u001b[0mnp\u001b[0m\u001b[0;34m.\u001b[0m\u001b[0matleast_2d\u001b[0m\u001b[0;34m(\u001b[0m\u001b[0md_inv\u001b[0m\u001b[0;34m)\u001b[0m\u001b[0;34m)\u001b[0m\u001b[0;34m\u001b[0m\u001b[0m\n\u001b[0;32m---> 66\u001b[0;31m     \u001b[0mM\u001b[0m \u001b[0;34m=\u001b[0m \u001b[0mnp\u001b[0m\u001b[0;34m.\u001b[0m\u001b[0mdiag\u001b[0m\u001b[0;34m(\u001b[0m\u001b[0md_inv\u001b[0m\u001b[0;34m)\u001b[0m \u001b[0;34m-\u001b[0m  \u001b[0minv_d_squared\u001b[0m \u001b[0;34m*\u001b[0m \u001b[0mnp\u001b[0m\u001b[0;34m.\u001b[0m\u001b[0mdot\u001b[0m\u001b[0;34m(\u001b[0m\u001b[0mnp\u001b[0m\u001b[0;34m.\u001b[0m\u001b[0mdot\u001b[0m\u001b[0;34m(\u001b[0m\u001b[0mA\u001b[0m\u001b[0;34m,\u001b[0m \u001b[0mnp\u001b[0m\u001b[0;34m.\u001b[0m\u001b[0mlinalg\u001b[0m\u001b[0;34m.\u001b[0m\u001b[0minv\u001b[0m\u001b[0;34m(\u001b[0m\u001b[0mnp\u001b[0m\u001b[0;34m.\u001b[0m\u001b[0meye\u001b[0m\u001b[0;34m(\u001b[0m\u001b[0mk\u001b[0m\u001b[0;34m,\u001b[0m \u001b[0mk\u001b[0m\u001b[0;34m)\u001b[0m \u001b[0;34m+\u001b[0m \u001b[0mnp\u001b[0m\u001b[0;34m.\u001b[0m\u001b[0mdot\u001b[0m\u001b[0;34m(\u001b[0m\u001b[0mA\u001b[0m\u001b[0;34m.\u001b[0m\u001b[0mT\u001b[0m\u001b[0;34m,\u001b[0m \u001b[0mmult_diag\u001b[0m\u001b[0;34m(\u001b[0m\u001b[0md_inv\u001b[0m\u001b[0;34m,\u001b[0m \u001b[0mA\u001b[0m\u001b[0;34m)\u001b[0m\u001b[0;34m)\u001b[0m\u001b[0;34m)\u001b[0m\u001b[0;34m)\u001b[0m\u001b[0;34m,\u001b[0m \u001b[0mA\u001b[0m\u001b[0;34m.\u001b[0m\u001b[0mT\u001b[0m\u001b[0;34m)\u001b[0m\u001b[0;34m\u001b[0m\u001b[0m\n\u001b[0m\u001b[1;32m     67\u001b[0m     \u001b[0;32mreturn\u001b[0m \u001b[0mM\u001b[0m\u001b[0;34m\u001b[0m\u001b[0m\n\u001b[1;32m     68\u001b[0m \u001b[0;32mdef\u001b[0m \u001b[0mEstep\u001b[0m\u001b[0;34m(\u001b[0m\u001b[0mY\u001b[0m\u001b[0;34m,\u001b[0m \u001b[0mA\u001b[0m\u001b[0;34m,\u001b[0m \u001b[0mmus\u001b[0m\u001b[0;34m,\u001b[0m \u001b[0msigmas\u001b[0m\u001b[0;34m,\u001b[0m \u001b[0mdecay_coef\u001b[0m\u001b[0;34m)\u001b[0m\u001b[0;34m:\u001b[0m\u001b[0;34m\u001b[0m\u001b[0m\n",
      "\u001b[0;31mKeyboardInterrupt\u001b[0m: "
     ]
    }
   ],
   "source": [
    "# 5-fold cross-validation \n",
    "zifa_cv = []\n",
    "\n",
    "kf = KFold(n_splits=5, shuffle=True, random_state=42)\n",
    "fold = 0\n",
    "for train_idx, test_idx in kf.split(X):\n",
    "    fold = fold + 1\n",
    "    print('Fold {}...'.format(fold))\n",
    "    X_train = X[train_idx]\n",
    "    X_test = X[test_idx]\n",
    "\n",
    "    obj = ZIFA(n_components=K)\n",
    "    zifa = ModelWrapper(obj, X_train, X_test=X_test, log_data=True, name='ZIFA')\n",
    "    zifa.run(max_time=60*60, max_iter=100, do_silh=False, do_dll=True, do_holl=True, do_tsne=False, verbose=True)\n",
    "    \n",
    "    zifa_cv.append(zifa)\n",
    "    print('Done.\\n')"
   ]
  },
  {
   "cell_type": "code",
   "execution_count": 17,
   "metadata": {},
   "outputs": [
    {
     "name": "stdout",
     "output_type": "stream",
     "text": [
      "Run 0...\n",
      "Running ZIFA...\n",
      "Some arguments were ignored by ZIFA.\n"
     ]
    },
    {
     "name": "stderr",
     "output_type": "stream",
     "text": [
      "/home/ubuntu/thesis/venv/lib/python3.6/site-packages/scipy/optimize/minpack.py:794: OptimizeWarning: Covariance of the parameters could not be estimated\n",
      "  category=OptimizeWarning)\n"
     ]
    },
    {
     "name": "stdout",
     "output_type": "stream",
     "text": [
      "Param change below threshold 1.000e-02 after 6 iterations\n",
      "Done.\n",
      "Done.\n",
      "\n",
      "Run 1...\n",
      "Running ZIFA...\n",
      "Some arguments were ignored by ZIFA.\n"
     ]
    },
    {
     "name": "stderr",
     "output_type": "stream",
     "text": [
      "/home/ubuntu/thesis/venv/lib/python3.6/site-packages/scipy/optimize/minpack.py:794: OptimizeWarning: Covariance of the parameters could not be estimated\n",
      "  category=OptimizeWarning)\n"
     ]
    },
    {
     "name": "stdout",
     "output_type": "stream",
     "text": [
      "Param change below threshold 1.000e-02 after 8 iterations\n",
      "Done.\n",
      "Done.\n",
      "\n",
      "Run 2...\n",
      "Running ZIFA...\n",
      "Some arguments were ignored by ZIFA.\n"
     ]
    },
    {
     "name": "stderr",
     "output_type": "stream",
     "text": [
      "/home/ubuntu/thesis/venv/lib/python3.6/site-packages/scipy/optimize/minpack.py:794: OptimizeWarning: Covariance of the parameters could not be estimated\n",
      "  category=OptimizeWarning)\n"
     ]
    },
    {
     "name": "stdout",
     "output_type": "stream",
     "text": [
      "Param change below threshold 1.000e-02 after 6 iterations\n",
      "Done.\n",
      "Done.\n",
      "\n",
      "Run 3...\n",
      "Running ZIFA...\n",
      "Some arguments were ignored by ZIFA.\n"
     ]
    },
    {
     "name": "stderr",
     "output_type": "stream",
     "text": [
      "/home/ubuntu/thesis/venv/lib/python3.6/site-packages/scipy/optimize/minpack.py:794: OptimizeWarning: Covariance of the parameters could not be estimated\n",
      "  category=OptimizeWarning)\n"
     ]
    },
    {
     "name": "stdout",
     "output_type": "stream",
     "text": [
      "Param change below threshold 1.000e-02 after 7 iterations\n",
      "Done.\n",
      "Done.\n",
      "\n",
      "Run 4...\n",
      "Running ZIFA...\n",
      "Some arguments were ignored by ZIFA.\n"
     ]
    },
    {
     "name": "stderr",
     "output_type": "stream",
     "text": [
      "/home/ubuntu/thesis/venv/lib/python3.6/site-packages/scipy/optimize/minpack.py:794: OptimizeWarning: Covariance of the parameters could not be estimated\n",
      "  category=OptimizeWarning)\n"
     ]
    },
    {
     "name": "stdout",
     "output_type": "stream",
     "text": [
      "Param change below threshold 1.000e-02 after 6 iterations\n",
      "Done.\n",
      "Done.\n",
      "\n"
     ]
    }
   ],
   "source": [
    "# 5 corrupted data sets\n",
    "zifa_imputation = []\n",
    "\n",
    "for i in range(5):\n",
    "    print('Run {}...'.format(i))\n",
    "    obj = ZIFA(n_components=K)\n",
    "    zifa = ModelWrapper(obj, X, X_test=None, log_data=True, name='ZIFA', do_imp=True)\n",
    "    zifa.run(max_time=60*60, max_iter=100, do_silh=False, do_dll=False, do_holl=False, do_tsne=False, verbose=True)\n",
    "    \n",
    "    zifa_imputation.append(zifa)\n",
    "    print('Done.\\n')"
   ]
  },
  {
   "cell_type": "markdown",
   "metadata": {},
   "source": [
    "## pCMF"
   ]
  },
  {
   "cell_type": "code",
   "execution_count": 22,
   "metadata": {
    "scrolled": true
   },
   "outputs": [
    {
     "name": "stdout",
     "output_type": "stream",
     "text": [
      "Run 0...\n",
      "Running pCMF...\n",
      "Some arguments were ignored by pCMF.\n",
      "Declaration\n",
      "\n",
      "\n",
      "Initialization\n",
      "\n",
      "\n",
      "Optimization\n",
      "\n",
      "\n",
      "iter \n",
      "0\n",
      "\n",
      "\n",
      "iter \n",
      "10\n",
      "\n",
      "\n",
      "iter \n",
      "20\n",
      "\n",
      "\n",
      "iter \n",
      "30\n",
      "\n",
      "\n",
      "iter \n",
      "40\n",
      "\n",
      "\n",
      "iter \n",
      "50\n",
      "\n",
      "\n",
      "iter \n",
      "60\n",
      "\n",
      "\n",
      "iter \n",
      "70\n",
      "\n",
      "\n",
      "iter \n",
      "80\n",
      "\n",
      "\n",
      "iter \n",
      "90\n",
      "\n",
      "\n",
      "iter \n",
      "100\n",
      "\n",
      "\n",
      "iter \n",
      "110\n",
      "\n",
      "\n",
      "iter \n",
      "120\n",
      "\n",
      "\n",
      "iter \n",
      "130\n",
      "\n",
      "\n",
      "iter \n",
      "140\n",
      "\n",
      "\n",
      "iter \n",
      "150\n",
      "\n",
      "\n",
      "iter \n",
      "160\n",
      "\n",
      "\n",
      "iter \n",
      "170\n",
      "\n",
      "\n",
      "iter \n",
      "180\n",
      "\n",
      "\n",
      "iter \n",
      "190\n",
      "\n",
      "\n",
      "iter \n",
      "200\n",
      "\n",
      "\n",
      "iter \n",
      "210\n",
      "\n",
      "\n",
      "iter \n",
      "220\n",
      "\n",
      "\n",
      "iter \n",
      "230\n",
      "\n",
      "\n",
      "iter \n",
      "240\n",
      "\n",
      "\n",
      "iter \n",
      "250\n",
      "\n",
      "\n",
      "Order factor\n",
      "\n",
      "\n",
      "Output\n",
      "\n",
      "\n",
      "Done.\n",
      "Done.\n",
      "\n",
      "Run 1...\n",
      "Running pCMF...\n",
      "Some arguments were ignored by pCMF.\n",
      "Declaration\n",
      "\n",
      "\n",
      "Initialization\n",
      "\n",
      "\n",
      "Optimization\n",
      "\n",
      "\n",
      "iter \n",
      "0\n",
      "\n",
      "\n"
     ]
    },
    {
     "name": "stderr",
     "output_type": "stream",
     "text": [
      "/home/ubuntu/thesis/venv/lib/python3.6/site-packages/sklearn/metrics/cluster/supervised.py:844: FutureWarning: The behavior of NMI will change in version 0.22. To match the behavior of 'v_measure_score', NMI will use average_method='arithmetic' by default.\n",
      "  FutureWarning)\n"
     ]
    },
    {
     "name": "stdout",
     "output_type": "stream",
     "text": [
      "iter \n",
      "10\n",
      "\n",
      "\n",
      "iter \n",
      "20\n",
      "\n",
      "\n",
      "iter \n",
      "30\n",
      "\n",
      "\n",
      "iter \n",
      "40\n",
      "\n",
      "\n",
      "iter \n",
      "50\n",
      "\n",
      "\n",
      "iter \n",
      "60\n",
      "\n",
      "\n",
      "iter \n",
      "70\n",
      "\n",
      "\n",
      "iter \n",
      "80\n",
      "\n",
      "\n",
      "iter \n",
      "90\n",
      "\n",
      "\n",
      "iter \n",
      "100\n",
      "\n",
      "\n",
      "iter \n",
      "110\n",
      "\n",
      "\n",
      "iter \n",
      "120\n",
      "\n",
      "\n",
      "iter \n",
      "130\n",
      "\n",
      "\n",
      "iter \n",
      "140\n",
      "\n",
      "\n",
      "iter \n",
      "150\n",
      "\n",
      "\n",
      "iter \n",
      "160\n",
      "\n",
      "\n",
      "iter \n",
      "170\n",
      "\n",
      "\n",
      "iter \n",
      "180\n",
      "\n",
      "\n",
      "iter \n",
      "190\n",
      "\n",
      "\n",
      "iter \n",
      "200\n",
      "\n",
      "\n",
      "iter \n",
      "210\n",
      "\n",
      "\n",
      "iter \n",
      "220\n",
      "\n",
      "\n",
      "iter \n",
      "230\n",
      "\n",
      "\n",
      "iter \n",
      "240\n",
      "\n",
      "\n",
      "iter \n",
      "250\n",
      "\n",
      "\n",
      "Order factor\n",
      "\n",
      "\n",
      "Output\n",
      "\n",
      "\n",
      "Done.\n",
      "Done.\n",
      "\n",
      "Run 2...\n",
      "Running pCMF...\n",
      "Some arguments were ignored by pCMF.\n",
      "Declaration\n",
      "\n",
      "\n",
      "Initialization\n",
      "\n",
      "\n",
      "Optimization\n",
      "\n",
      "\n",
      "iter \n",
      "0\n",
      "\n",
      "\n"
     ]
    },
    {
     "name": "stderr",
     "output_type": "stream",
     "text": [
      "/home/ubuntu/thesis/venv/lib/python3.6/site-packages/sklearn/metrics/cluster/supervised.py:844: FutureWarning: The behavior of NMI will change in version 0.22. To match the behavior of 'v_measure_score', NMI will use average_method='arithmetic' by default.\n",
      "  FutureWarning)\n"
     ]
    },
    {
     "name": "stdout",
     "output_type": "stream",
     "text": [
      "iter \n",
      "10\n",
      "\n",
      "\n",
      "iter \n",
      "20\n",
      "\n",
      "\n",
      "iter \n",
      "30\n",
      "\n",
      "\n",
      "iter \n",
      "40\n",
      "\n",
      "\n",
      "iter \n",
      "50\n",
      "\n",
      "\n",
      "iter \n",
      "60\n",
      "\n",
      "\n",
      "iter \n",
      "70\n",
      "\n",
      "\n",
      "iter \n",
      "80\n",
      "\n",
      "\n",
      "iter \n",
      "90\n",
      "\n",
      "\n",
      "iter \n",
      "100\n",
      "\n",
      "\n",
      "iter \n",
      "110\n",
      "\n",
      "\n",
      "iter \n",
      "120\n",
      "\n",
      "\n",
      "iter \n",
      "130\n",
      "\n",
      "\n",
      "iter \n",
      "140\n",
      "\n",
      "\n",
      "iter \n",
      "150\n",
      "\n",
      "\n",
      "iter \n",
      "160\n",
      "\n",
      "\n",
      "iter \n",
      "170\n",
      "\n",
      "\n",
      "iter \n",
      "180\n",
      "\n",
      "\n",
      "iter \n",
      "190\n",
      "\n",
      "\n",
      "iter \n",
      "200\n",
      "\n",
      "\n",
      "iter \n",
      "210\n",
      "\n",
      "\n",
      "iter \n",
      "220\n",
      "\n",
      "\n",
      "iter \n",
      "230\n",
      "\n",
      "\n",
      "iter \n",
      "240\n",
      "\n",
      "\n",
      "iter \n",
      "250\n",
      "\n",
      "\n",
      "Order factor\n",
      "\n",
      "\n",
      "Output\n",
      "\n",
      "\n",
      "Done.\n",
      "Done.\n",
      "\n",
      "Run 3...\n",
      "Running pCMF...\n",
      "Some arguments were ignored by pCMF.\n",
      "Declaration\n",
      "\n",
      "\n",
      "Initialization\n",
      "\n",
      "\n",
      "Optimization\n",
      "\n",
      "\n",
      "iter \n",
      "0\n",
      "\n",
      "\n"
     ]
    },
    {
     "name": "stderr",
     "output_type": "stream",
     "text": [
      "/home/ubuntu/thesis/venv/lib/python3.6/site-packages/sklearn/metrics/cluster/supervised.py:844: FutureWarning: The behavior of NMI will change in version 0.22. To match the behavior of 'v_measure_score', NMI will use average_method='arithmetic' by default.\n",
      "  FutureWarning)\n"
     ]
    },
    {
     "name": "stdout",
     "output_type": "stream",
     "text": [
      "iter \n",
      "10\n",
      "\n",
      "\n",
      "iter \n",
      "20\n",
      "\n",
      "\n",
      "iter \n",
      "30\n",
      "\n",
      "\n",
      "iter \n",
      "40\n",
      "\n",
      "\n",
      "iter \n",
      "50\n",
      "\n",
      "\n",
      "iter \n",
      "60\n",
      "\n",
      "\n",
      "iter \n",
      "70\n",
      "\n",
      "\n",
      "iter \n",
      "80\n",
      "\n",
      "\n",
      "iter \n",
      "90\n",
      "\n",
      "\n",
      "iter \n",
      "100\n",
      "\n",
      "\n",
      "iter \n",
      "110\n",
      "\n",
      "\n",
      "iter \n",
      "120\n",
      "\n",
      "\n",
      "iter \n",
      "130\n",
      "\n",
      "\n",
      "iter \n",
      "140\n",
      "\n",
      "\n",
      "iter \n",
      "150\n",
      "\n",
      "\n",
      "iter \n",
      "160\n",
      "\n",
      "\n",
      "iter \n",
      "170\n",
      "\n",
      "\n",
      "iter \n",
      "180\n",
      "\n",
      "\n",
      "iter \n",
      "190\n",
      "\n",
      "\n",
      "iter \n",
      "200\n",
      "\n",
      "\n",
      "iter \n",
      "210\n",
      "\n",
      "\n",
      "iter \n",
      "220\n",
      "\n",
      "\n",
      "iter \n",
      "230\n",
      "\n",
      "\n",
      "iter \n",
      "240\n",
      "\n",
      "\n",
      "iter \n",
      "250\n",
      "\n",
      "\n",
      "Order factor\n",
      "\n",
      "\n",
      "Output\n",
      "\n",
      "\n",
      "Done.\n",
      "Done.\n",
      "\n",
      "Run 4...\n",
      "Running pCMF...\n",
      "Some arguments were ignored by pCMF.\n",
      "Declaration\n",
      "\n",
      "\n",
      "Initialization\n",
      "\n",
      "\n",
      "Optimization\n",
      "\n",
      "\n",
      "iter \n",
      "0\n",
      "\n",
      "\n",
      "iter \n",
      "10\n",
      "\n",
      "\n"
     ]
    },
    {
     "name": "stderr",
     "output_type": "stream",
     "text": [
      "/home/ubuntu/thesis/venv/lib/python3.6/site-packages/sklearn/metrics/cluster/supervised.py:844: FutureWarning: The behavior of NMI will change in version 0.22. To match the behavior of 'v_measure_score', NMI will use average_method='arithmetic' by default.\n",
      "  FutureWarning)\n"
     ]
    },
    {
     "name": "stdout",
     "output_type": "stream",
     "text": [
      "iter \n",
      "20\n",
      "\n",
      "\n",
      "iter \n",
      "30\n",
      "\n",
      "\n",
      "iter \n",
      "40\n",
      "\n",
      "\n",
      "iter \n",
      "50\n",
      "\n",
      "\n",
      "iter \n",
      "60\n",
      "\n",
      "\n",
      "iter \n",
      "70\n",
      "\n",
      "\n",
      "iter \n",
      "80\n",
      "\n",
      "\n",
      "iter \n",
      "90\n",
      "\n",
      "\n",
      "iter \n",
      "100\n",
      "\n",
      "\n",
      "iter \n",
      "110\n",
      "\n",
      "\n",
      "iter \n",
      "120\n",
      "\n",
      "\n",
      "iter \n",
      "130\n",
      "\n",
      "\n",
      "iter \n",
      "140\n",
      "\n",
      "\n",
      "iter \n",
      "150\n",
      "\n",
      "\n",
      "iter \n",
      "160\n",
      "\n",
      "\n",
      "iter \n",
      "170\n",
      "\n",
      "\n",
      "iter \n",
      "180\n",
      "\n",
      "\n",
      "iter \n",
      "190\n",
      "\n",
      "\n",
      "iter \n",
      "200\n",
      "\n",
      "\n",
      "iter \n",
      "210\n",
      "\n",
      "\n",
      "iter \n",
      "220\n",
      "\n",
      "\n",
      "iter \n",
      "230\n",
      "\n",
      "\n",
      "iter \n",
      "240\n",
      "\n",
      "\n",
      "iter \n",
      "250\n",
      "\n",
      "\n",
      "Order factor\n",
      "\n",
      "\n",
      "Output\n",
      "\n",
      "\n",
      "Done.\n",
      "Done.\n",
      "\n"
     ]
    },
    {
     "name": "stderr",
     "output_type": "stream",
     "text": [
      "/home/ubuntu/thesis/venv/lib/python3.6/site-packages/sklearn/metrics/cluster/supervised.py:844: FutureWarning: The behavior of NMI will change in version 0.22. To match the behavior of 'v_measure_score', NMI will use average_method='arithmetic' by default.\n",
      "  FutureWarning)\n"
     ]
    }
   ],
   "source": [
    "# 5 repetitions on the full data set\n",
    "pcmf_full_reps = []\n",
    "\n",
    "for i in range(5):\n",
    "    print('Run {}...'.format(i))\n",
    "    obj = pCMF(n_components=K)\n",
    "    pcmf = ModelWrapper(obj, X, c_train=labels, b_train=b_onehot, name='pCMF', log_data=False, do_imp=False)\n",
    "    pcmf.run(max_iter=500, do_silh=True, do_dll=False, do_holl=False, do_tsne=False, verbose=True, do_batch=True)\n",
    "    \n",
    "    pcmf_full_reps.append(pcmf)\n",
    "    print('Done.\\n')"
   ]
  },
  {
   "cell_type": "code",
   "execution_count": null,
   "metadata": {},
   "outputs": [],
   "source": [
    "# No HOLL test"
   ]
  },
  {
   "cell_type": "code",
   "execution_count": 19,
   "metadata": {},
   "outputs": [
    {
     "name": "stdout",
     "output_type": "stream",
     "text": [
      "Run 0...\n",
      "Running pCMF...\n",
      "Some arguments were ignored by pCMF.\n",
      "Declaration\n",
      "\n",
      "\n",
      "Initialization\n",
      "\n",
      "\n",
      "Optimization\n",
      "\n",
      "\n",
      "iter \n",
      "0\n",
      "\n",
      "\n",
      "iter \n",
      "10\n",
      "\n",
      "\n",
      "iter \n",
      "20\n",
      "\n",
      "\n",
      "iter \n",
      "30\n",
      "\n",
      "\n",
      "iter \n",
      "40\n",
      "\n",
      "\n",
      "iter \n",
      "50\n",
      "\n",
      "\n",
      "iter \n",
      "60\n",
      "\n",
      "\n",
      "iter \n",
      "70\n",
      "\n",
      "\n",
      "iter \n",
      "80\n",
      "\n",
      "\n",
      "iter \n",
      "90\n",
      "\n",
      "\n",
      "iter \n",
      "100\n",
      "\n",
      "\n",
      "iter \n",
      "110\n",
      "\n",
      "\n",
      "iter \n",
      "120\n",
      "\n",
      "\n",
      "iter \n",
      "130\n",
      "\n",
      "\n",
      "iter \n",
      "140\n",
      "\n",
      "\n",
      "iter \n",
      "150\n",
      "\n",
      "\n",
      "iter \n",
      "160\n",
      "\n",
      "\n",
      "iter \n",
      "170\n",
      "\n",
      "\n",
      "iter \n",
      "180\n",
      "\n",
      "\n",
      "iter \n",
      "190\n",
      "\n",
      "\n",
      "iter \n",
      "200\n",
      "\n",
      "\n",
      "iter \n",
      "210\n",
      "\n",
      "\n",
      "iter \n",
      "220\n",
      "\n",
      "\n",
      "iter \n",
      "230\n",
      "\n",
      "\n",
      "iter \n",
      "240\n",
      "\n",
      "\n",
      "iter \n",
      "250\n",
      "\n",
      "\n",
      "Order factor\n",
      "\n",
      "\n",
      "Output\n",
      "\n",
      "\n",
      "Done.\n",
      "Done.\n",
      "\n",
      "Run 1...\n",
      "Running pCMF...\n",
      "Some arguments were ignored by pCMF.\n",
      "Declaration\n",
      "\n",
      "\n",
      "Initialization\n",
      "\n",
      "\n",
      "Optimization\n",
      "\n",
      "\n",
      "iter \n",
      "0\n",
      "\n",
      "\n",
      "iter \n",
      "10\n",
      "\n",
      "\n",
      "iter \n",
      "20\n",
      "\n",
      "\n",
      "iter \n",
      "30\n",
      "\n",
      "\n",
      "iter \n",
      "40\n",
      "\n",
      "\n",
      "iter \n",
      "50\n",
      "\n",
      "\n",
      "iter \n",
      "60\n",
      "\n",
      "\n",
      "iter \n",
      "70\n",
      "\n",
      "\n",
      "iter \n",
      "80\n",
      "\n",
      "\n",
      "iter \n",
      "90\n",
      "\n",
      "\n",
      "iter \n",
      "100\n",
      "\n",
      "\n",
      "iter \n",
      "110\n",
      "\n",
      "\n",
      "iter \n",
      "120\n",
      "\n",
      "\n",
      "iter \n",
      "130\n",
      "\n",
      "\n",
      "iter \n",
      "140\n",
      "\n",
      "\n",
      "iter \n",
      "150\n",
      "\n",
      "\n",
      "iter \n",
      "160\n",
      "\n",
      "\n",
      "iter \n",
      "170\n",
      "\n",
      "\n",
      "iter \n",
      "180\n",
      "\n",
      "\n",
      "iter \n",
      "190\n",
      "\n",
      "\n",
      "iter \n",
      "200\n",
      "\n",
      "\n",
      "iter \n",
      "210\n",
      "\n",
      "\n",
      "iter \n",
      "220\n",
      "\n",
      "\n",
      "iter \n",
      "230\n",
      "\n",
      "\n",
      "iter \n",
      "240\n",
      "\n",
      "\n",
      "iter \n",
      "250\n",
      "\n",
      "\n",
      "Order factor\n",
      "\n",
      "\n",
      "Output\n",
      "\n",
      "\n",
      "Done.\n",
      "Done.\n",
      "\n",
      "Run 2...\n",
      "Running pCMF...\n",
      "Some arguments were ignored by pCMF.\n",
      "Declaration\n",
      "\n",
      "\n",
      "Initialization\n",
      "\n",
      "\n",
      "Optimization\n",
      "\n",
      "\n",
      "iter \n",
      "0\n",
      "\n",
      "\n",
      "iter \n",
      "10\n",
      "\n",
      "\n",
      "iter \n",
      "20\n",
      "\n",
      "\n",
      "iter \n",
      "30\n",
      "\n",
      "\n",
      "iter \n",
      "40\n",
      "\n",
      "\n",
      "iter \n",
      "50\n",
      "\n",
      "\n",
      "iter \n",
      "60\n",
      "\n",
      "\n",
      "iter \n",
      "70\n",
      "\n",
      "\n",
      "iter \n",
      "80\n",
      "\n",
      "\n",
      "iter \n",
      "90\n",
      "\n",
      "\n",
      "iter \n",
      "100\n",
      "\n",
      "\n",
      "iter \n",
      "110\n",
      "\n",
      "\n",
      "iter \n",
      "120\n",
      "\n",
      "\n",
      "iter \n",
      "130\n",
      "\n",
      "\n",
      "iter \n",
      "140\n",
      "\n",
      "\n",
      "iter \n",
      "150\n",
      "\n",
      "\n",
      "iter \n",
      "160\n",
      "\n",
      "\n",
      "iter \n",
      "170\n",
      "\n",
      "\n",
      "iter \n",
      "180\n",
      "\n",
      "\n",
      "iter \n",
      "190\n",
      "\n",
      "\n",
      "iter \n",
      "200\n",
      "\n",
      "\n",
      "iter \n",
      "210\n",
      "\n",
      "\n",
      "iter \n",
      "220\n",
      "\n",
      "\n",
      "iter \n",
      "230\n",
      "\n",
      "\n",
      "iter \n",
      "240\n",
      "\n",
      "\n",
      "iter \n",
      "250\n",
      "\n",
      "\n",
      "Order factor\n",
      "\n",
      "\n",
      "Output\n",
      "\n",
      "\n",
      "Done.\n",
      "Done.\n",
      "\n",
      "Run 3...\n",
      "Running pCMF...\n",
      "Some arguments were ignored by pCMF.\n",
      "Declaration\n",
      "\n",
      "\n",
      "Initialization\n",
      "\n",
      "\n",
      "Optimization\n",
      "\n",
      "\n",
      "iter \n",
      "0\n",
      "\n",
      "\n",
      "iter \n",
      "10\n",
      "\n",
      "\n",
      "iter \n",
      "20\n",
      "\n",
      "\n",
      "iter \n",
      "30\n",
      "\n",
      "\n",
      "iter \n",
      "40\n",
      "\n",
      "\n",
      "iter \n",
      "50\n",
      "\n",
      "\n",
      "iter \n",
      "60\n",
      "\n",
      "\n",
      "iter \n",
      "70\n",
      "\n",
      "\n",
      "iter \n",
      "80\n",
      "\n",
      "\n",
      "iter \n",
      "90\n",
      "\n",
      "\n",
      "iter \n",
      "100\n",
      "\n",
      "\n",
      "iter \n",
      "110\n",
      "\n",
      "\n",
      "iter \n",
      "120\n",
      "\n",
      "\n",
      "iter \n",
      "130\n",
      "\n",
      "\n",
      "iter \n",
      "140\n",
      "\n",
      "\n",
      "iter \n",
      "150\n",
      "\n",
      "\n",
      "iter \n",
      "160\n",
      "\n",
      "\n",
      "iter \n",
      "170\n",
      "\n",
      "\n",
      "iter \n",
      "180\n",
      "\n",
      "\n",
      "iter \n",
      "190\n",
      "\n",
      "\n",
      "iter \n",
      "200\n",
      "\n",
      "\n",
      "iter \n",
      "210\n",
      "\n",
      "\n",
      "iter \n",
      "220\n",
      "\n",
      "\n",
      "iter \n",
      "230\n",
      "\n",
      "\n",
      "iter \n",
      "240\n",
      "\n",
      "\n",
      "iter \n",
      "250\n",
      "\n",
      "\n",
      "Order factor\n",
      "\n",
      "\n",
      "Output\n",
      "\n",
      "\n",
      "Done.\n",
      "Done.\n",
      "\n",
      "Run 4...\n",
      "Running pCMF...\n",
      "Some arguments were ignored by pCMF.\n",
      "Declaration\n",
      "\n",
      "\n",
      "Initialization\n",
      "\n",
      "\n",
      "Optimization\n",
      "\n",
      "\n",
      "iter \n",
      "0\n",
      "\n",
      "\n",
      "iter \n",
      "10\n",
      "\n",
      "\n",
      "iter \n",
      "20\n",
      "\n",
      "\n",
      "iter \n",
      "30\n",
      "\n",
      "\n",
      "iter \n",
      "40\n",
      "\n",
      "\n",
      "iter \n",
      "50\n",
      "\n",
      "\n",
      "iter \n",
      "60\n",
      "\n",
      "\n",
      "iter \n",
      "70\n",
      "\n",
      "\n",
      "iter \n",
      "80\n",
      "\n",
      "\n",
      "iter \n",
      "90\n",
      "\n",
      "\n",
      "iter \n",
      "100\n",
      "\n",
      "\n",
      "iter \n",
      "110\n",
      "\n",
      "\n",
      "iter \n",
      "120\n",
      "\n",
      "\n",
      "iter \n",
      "130\n",
      "\n",
      "\n",
      "iter \n",
      "140\n",
      "\n",
      "\n",
      "iter \n",
      "150\n",
      "\n",
      "\n",
      "iter \n",
      "160\n",
      "\n",
      "\n",
      "iter \n",
      "170\n",
      "\n",
      "\n",
      "iter \n",
      "180\n",
      "\n",
      "\n",
      "iter \n",
      "190\n",
      "\n",
      "\n",
      "iter \n",
      "200\n",
      "\n",
      "\n",
      "iter \n",
      "210\n",
      "\n",
      "\n",
      "iter \n",
      "220\n",
      "\n",
      "\n",
      "iter \n",
      "230\n",
      "\n",
      "\n",
      "iter \n",
      "240\n",
      "\n",
      "\n",
      "iter \n",
      "250\n",
      "\n",
      "\n",
      "Order factor\n",
      "\n",
      "\n",
      "Output\n",
      "\n",
      "\n",
      "Done.\n",
      "Done.\n",
      "\n"
     ]
    }
   ],
   "source": [
    "# 5 repetitions on the full data set\n",
    "pcmf_imputation = []\n",
    "\n",
    "for i in range(5):\n",
    "    print('Run {}...'.format(i))\n",
    "    obj = pCMF(n_components=K)\n",
    "    pcmf = ModelWrapper(obj, X, name='pCMF', log_data=False, do_imp=True)\n",
    "    pcmf.run(max_iter=500, do_silh=False, do_dll=False, do_holl=False, do_tsne=False, verbose=True)\n",
    "    \n",
    "    pcmf_imputation.append(pcmf)\n",
    "    print('Done.\\n')"
   ]
  },
  {
   "cell_type": "markdown",
   "metadata": {},
   "source": [
    "## ZINB-WaVE"
   ]
  },
  {
   "cell_type": "code",
   "execution_count": 48,
   "metadata": {},
   "outputs": [
    {
     "name": "stdout",
     "output_type": "stream",
     "text": [
      "Run 0...\n",
      "Running ZINB-WaVE...\n",
      "Some arguments were ignored by ZINB_WaVE.\n",
      "Running .fit_transform() without keyword arguments.\n"
     ]
    },
    {
     "name": "stderr",
     "output_type": "stream",
     "text": [
      "/home/ubuntu/thesis/venv/lib/python3.6/site-packages/sklearn/metrics/cluster/supervised.py:844: FutureWarning: The behavior of NMI will change in version 0.22. To match the behavior of 'v_measure_score', NMI will use average_method='arithmetic' by default.\n",
      "  FutureWarning)\n"
     ]
    },
    {
     "name": "stdout",
     "output_type": "stream",
     "text": [
      "Done.\n",
      "Done.\n",
      "\n",
      "Run 1...\n",
      "Running ZINB-WaVE...\n",
      "Some arguments were ignored by ZINB_WaVE.\n",
      "Running .fit_transform() without keyword arguments.\n"
     ]
    },
    {
     "name": "stderr",
     "output_type": "stream",
     "text": [
      "/home/ubuntu/thesis/venv/lib/python3.6/site-packages/sklearn/metrics/cluster/supervised.py:844: FutureWarning: The behavior of NMI will change in version 0.22. To match the behavior of 'v_measure_score', NMI will use average_method='arithmetic' by default.\n",
      "  FutureWarning)\n"
     ]
    },
    {
     "name": "stdout",
     "output_type": "stream",
     "text": [
      "Done.\n",
      "Done.\n",
      "\n",
      "Run 2...\n",
      "Running ZINB-WaVE...\n",
      "Some arguments were ignored by ZINB_WaVE.\n",
      "Running .fit_transform() without keyword arguments.\n"
     ]
    },
    {
     "name": "stderr",
     "output_type": "stream",
     "text": [
      "/home/ubuntu/thesis/venv/lib/python3.6/site-packages/sklearn/metrics/cluster/supervised.py:844: FutureWarning: The behavior of NMI will change in version 0.22. To match the behavior of 'v_measure_score', NMI will use average_method='arithmetic' by default.\n",
      "  FutureWarning)\n"
     ]
    },
    {
     "name": "stdout",
     "output_type": "stream",
     "text": [
      "Done.\n",
      "Done.\n",
      "\n",
      "Run 3...\n",
      "Running ZINB-WaVE...\n",
      "Some arguments were ignored by ZINB_WaVE.\n",
      "Running .fit_transform() without keyword arguments.\n"
     ]
    },
    {
     "name": "stderr",
     "output_type": "stream",
     "text": [
      "/home/ubuntu/thesis/venv/lib/python3.6/site-packages/sklearn/metrics/cluster/supervised.py:844: FutureWarning: The behavior of NMI will change in version 0.22. To match the behavior of 'v_measure_score', NMI will use average_method='arithmetic' by default.\n",
      "  FutureWarning)\n"
     ]
    },
    {
     "name": "stdout",
     "output_type": "stream",
     "text": [
      "Done.\n",
      "Done.\n",
      "\n",
      "Run 4...\n",
      "Running ZINB-WaVE...\n",
      "Some arguments were ignored by ZINB_WaVE.\n",
      "Running .fit_transform() without keyword arguments.\n",
      "Done.\n",
      "Done.\n",
      "\n"
     ]
    },
    {
     "name": "stderr",
     "output_type": "stream",
     "text": [
      "/home/ubuntu/thesis/venv/lib/python3.6/site-packages/sklearn/metrics/cluster/supervised.py:844: FutureWarning: The behavior of NMI will change in version 0.22. To match the behavior of 'v_measure_score', NMI will use average_method='arithmetic' by default.\n",
      "  FutureWarning)\n"
     ]
    }
   ],
   "source": [
    "# 5 repetitions on the full data set\n",
    "zinbwave_full_reps = []\n",
    "\n",
    "for i in range(5):\n",
    "    print('Run {}...'.format(i))\n",
    "    obj = ZINB_WaVE(n_components=K)\n",
    "    zinbwave = ModelWrapper(obj, X, c_train=labels, b_train=b_onehot, name='ZINB-WaVE', log_data=False, do_imp=False)\n",
    "    zinbwave.run(do_silh=True, do_dll=False, do_holl=False, do_tsne=False, do_batch=True, verbose=True)\n",
    "    \n",
    "    zinbwave_full_reps.append(zinbwave)\n",
    "    print('Done.\\n')"
   ]
  },
  {
   "cell_type": "code",
   "execution_count": 81,
   "metadata": {},
   "outputs": [
    {
     "name": "stdout",
     "output_type": "stream",
     "text": [
      "Fold 1...\n",
      "Running ZINB-WaVE...\n",
      "Some arguments were ignored by ZINB_WaVE.\n",
      "Running .fit_transform() without keyword arguments.\n",
      "Evaluating train-data log-likelihood...\n",
      "Evaluating test-data log-likelihood...\n"
     ]
    },
    {
     "ename": "RRuntimeError",
     "evalue": "Error in zinbInitialize(m_val, matrix_val) : Gene 235 has only 0 counts!\n",
     "output_type": "error",
     "traceback": [
      "\u001b[0;31m---------------------------------------------------------------------------\u001b[0m",
      "\u001b[0;31mAttributeError\u001b[0m                            Traceback (most recent call last)",
      "\u001b[0;32m~/thesis/venv/lib/python3.6/site-packages/misc/model_wrapper.py\u001b[0m in \u001b[0;36mrun\u001b[0;34m(self, max_iter, max_time, do_tsne, do_dll, do_holl, do_silh, do_batch, verbose)\u001b[0m\n\u001b[1;32m    181\u001b[0m                                         \u001b[0;32mtry\u001b[0m\u001b[0;34m:\u001b[0m\u001b[0;34m\u001b[0m\u001b[0m\n\u001b[0;32m--> 182\u001b[0;31m                                                 \u001b[0;32mif\u001b[0m \u001b[0mlen\u001b[0m\u001b[0;34m(\u001b[0m\u001b[0mself\u001b[0m\u001b[0;34m.\u001b[0m\u001b[0mmodel_inst\u001b[0m\u001b[0;34m.\u001b[0m\u001b[0mloss_dict\u001b[0m\u001b[0;34m[\u001b[0m\u001b[0;34m'v_loss'\u001b[0m\u001b[0;34m]\u001b[0m\u001b[0;34m)\u001b[0m \u001b[0;34m>\u001b[0m \u001b[0;36m0\u001b[0m\u001b[0;34m:\u001b[0m\u001b[0;34m\u001b[0m\u001b[0m\n\u001b[0m\u001b[1;32m    183\u001b[0m                                                         \u001b[0mself\u001b[0m\u001b[0;34m.\u001b[0m\u001b[0mtest_ll\u001b[0m \u001b[0;34m=\u001b[0m \u001b[0;34m-\u001b[0m\u001b[0mself\u001b[0m\u001b[0;34m.\u001b[0m\u001b[0mmodel_inst\u001b[0m\u001b[0;34m.\u001b[0m\u001b[0mloss_dict\u001b[0m\u001b[0;34m[\u001b[0m\u001b[0;34m'v_loss'\u001b[0m\u001b[0;34m]\u001b[0m\u001b[0;34m[\u001b[0m\u001b[0;34m-\u001b[0m\u001b[0;36m1\u001b[0m\u001b[0;34m]\u001b[0m\u001b[0;34m\u001b[0m\u001b[0m\n",
      "\u001b[0;31mAttributeError\u001b[0m: 'ZINB_WaVE' object has no attribute 'loss_dict'",
      "\nDuring handling of the above exception, another exception occurred:\n",
      "\u001b[0;31mTypeError\u001b[0m                                 Traceback (most recent call last)",
      "\u001b[0;32m~/thesis/venv/lib/python3.6/site-packages/misc/model_wrapper.py\u001b[0m in \u001b[0;36mrun\u001b[0;34m(self, max_iter, max_time, do_tsne, do_dll, do_holl, do_silh, do_batch, verbose)\u001b[0m\n\u001b[1;32m    190\u001b[0m                                                 \u001b[0;32mtry\u001b[0m\u001b[0;34m:\u001b[0m\u001b[0;34m\u001b[0m\u001b[0m\n\u001b[0;32m--> 191\u001b[0;31m                                                         \u001b[0mself\u001b[0m\u001b[0;34m.\u001b[0m\u001b[0mtest_ll\u001b[0m \u001b[0;34m=\u001b[0m \u001b[0mself\u001b[0m\u001b[0;34m.\u001b[0m\u001b[0mmodel_inst\u001b[0m\u001b[0;34m.\u001b[0m\u001b[0mscore\u001b[0m\u001b[0;34m(\u001b[0m\u001b[0mself\u001b[0m\u001b[0;34m.\u001b[0m\u001b[0mX_test\u001b[0m\u001b[0;34m,\u001b[0m \u001b[0mbatch_idx\u001b[0m\u001b[0;34m=\u001b[0m\u001b[0mself\u001b[0m\u001b[0;34m.\u001b[0m\u001b[0mb_test\u001b[0m\u001b[0;34m)\u001b[0m\u001b[0;34m\u001b[0m\u001b[0m\n\u001b[0m\u001b[1;32m    192\u001b[0m                                                 \u001b[0;32mexcept\u001b[0m \u001b[0mTypeError\u001b[0m\u001b[0;34m:\u001b[0m\u001b[0;34m\u001b[0m\u001b[0m\n",
      "\u001b[0;31mTypeError\u001b[0m: score() got an unexpected keyword argument 'batch_idx'",
      "\nDuring handling of the above exception, another exception occurred:\n",
      "\u001b[0;31mRRuntimeError\u001b[0m                             Traceback (most recent call last)",
      "\u001b[0;32m<ipython-input-81-6407d47b38ea>\u001b[0m in \u001b[0;36m<module>\u001b[0;34m\u001b[0m\n\u001b[1;32m     12\u001b[0m     \u001b[0mobj\u001b[0m \u001b[0;34m=\u001b[0m \u001b[0mZINB_WaVE\u001b[0m\u001b[0;34m(\u001b[0m\u001b[0mn_components\u001b[0m\u001b[0;34m=\u001b[0m\u001b[0mK\u001b[0m\u001b[0;34m)\u001b[0m\u001b[0;34m\u001b[0m\u001b[0m\n\u001b[1;32m     13\u001b[0m     \u001b[0mzinbwave\u001b[0m \u001b[0;34m=\u001b[0m \u001b[0mModelWrapper\u001b[0m\u001b[0;34m(\u001b[0m\u001b[0mobj\u001b[0m\u001b[0;34m,\u001b[0m \u001b[0mX_train\u001b[0m\u001b[0;34m,\u001b[0m \u001b[0mX_test\u001b[0m\u001b[0;34m=\u001b[0m\u001b[0mX_test\u001b[0m\u001b[0;34m,\u001b[0m \u001b[0mname\u001b[0m\u001b[0;34m=\u001b[0m\u001b[0;34m'ZINB-WaVE'\u001b[0m\u001b[0;34m,\u001b[0m \u001b[0mlog_data\u001b[0m\u001b[0;34m=\u001b[0m\u001b[0;32mFalse\u001b[0m\u001b[0;34m,\u001b[0m \u001b[0mdo_imp\u001b[0m\u001b[0;34m=\u001b[0m\u001b[0;32mFalse\u001b[0m\u001b[0;34m)\u001b[0m\u001b[0;34m\u001b[0m\u001b[0m\n\u001b[0;32m---> 14\u001b[0;31m     \u001b[0mzinbwave\u001b[0m\u001b[0;34m.\u001b[0m\u001b[0mrun\u001b[0m\u001b[0;34m(\u001b[0m\u001b[0mdo_silh\u001b[0m\u001b[0;34m=\u001b[0m\u001b[0;32mFalse\u001b[0m\u001b[0;34m,\u001b[0m \u001b[0mdo_dll\u001b[0m\u001b[0;34m=\u001b[0m\u001b[0;32mTrue\u001b[0m\u001b[0;34m,\u001b[0m \u001b[0mdo_holl\u001b[0m\u001b[0;34m=\u001b[0m\u001b[0;32mTrue\u001b[0m\u001b[0;34m,\u001b[0m \u001b[0mdo_tsne\u001b[0m\u001b[0;34m=\u001b[0m\u001b[0;32mFalse\u001b[0m\u001b[0;34m,\u001b[0m \u001b[0mverbose\u001b[0m\u001b[0;34m=\u001b[0m\u001b[0;32mTrue\u001b[0m\u001b[0;34m)\u001b[0m\u001b[0;34m\u001b[0m\u001b[0m\n\u001b[0m\u001b[1;32m     15\u001b[0m \u001b[0;34m\u001b[0m\u001b[0m\n\u001b[1;32m     16\u001b[0m     \u001b[0mzinbwave_cv\u001b[0m\u001b[0;34m.\u001b[0m\u001b[0mappend\u001b[0m\u001b[0;34m(\u001b[0m\u001b[0mzinbwave\u001b[0m\u001b[0;34m)\u001b[0m\u001b[0;34m\u001b[0m\u001b[0m\n",
      "\u001b[0;32m~/thesis/venv/lib/python3.6/site-packages/misc/model_wrapper.py\u001b[0m in \u001b[0;36mrun\u001b[0;34m(self, max_iter, max_time, do_tsne, do_dll, do_holl, do_silh, do_batch, verbose)\u001b[0m\n\u001b[1;32m    191\u001b[0m                                                         \u001b[0mself\u001b[0m\u001b[0;34m.\u001b[0m\u001b[0mtest_ll\u001b[0m \u001b[0;34m=\u001b[0m \u001b[0mself\u001b[0m\u001b[0;34m.\u001b[0m\u001b[0mmodel_inst\u001b[0m\u001b[0;34m.\u001b[0m\u001b[0mscore\u001b[0m\u001b[0;34m(\u001b[0m\u001b[0mself\u001b[0m\u001b[0;34m.\u001b[0m\u001b[0mX_test\u001b[0m\u001b[0;34m,\u001b[0m \u001b[0mbatch_idx\u001b[0m\u001b[0;34m=\u001b[0m\u001b[0mself\u001b[0m\u001b[0;34m.\u001b[0m\u001b[0mb_test\u001b[0m\u001b[0;34m)\u001b[0m\u001b[0;34m\u001b[0m\u001b[0m\n\u001b[1;32m    192\u001b[0m                                                 \u001b[0;32mexcept\u001b[0m \u001b[0mTypeError\u001b[0m\u001b[0;34m:\u001b[0m\u001b[0;34m\u001b[0m\u001b[0m\n\u001b[0;32m--> 193\u001b[0;31m                                                         \u001b[0mself\u001b[0m\u001b[0;34m.\u001b[0m\u001b[0mtest_ll\u001b[0m \u001b[0;34m=\u001b[0m \u001b[0mself\u001b[0m\u001b[0;34m.\u001b[0m\u001b[0mmodel_inst\u001b[0m\u001b[0;34m.\u001b[0m\u001b[0mscore\u001b[0m\u001b[0;34m(\u001b[0m\u001b[0mself\u001b[0m\u001b[0;34m.\u001b[0m\u001b[0mX_test\u001b[0m\u001b[0;34m)\u001b[0m\u001b[0;34m\u001b[0m\u001b[0m\n\u001b[0m\u001b[1;32m    194\u001b[0m                                         \u001b[0;32mif\u001b[0m \u001b[0mself\u001b[0m\u001b[0;34m.\u001b[0m\u001b[0mlog_data\u001b[0m\u001b[0;34m:\u001b[0m\u001b[0;34m\u001b[0m\u001b[0m\n\u001b[1;32m    195\u001b[0m                                                 \u001b[0mself\u001b[0m\u001b[0;34m.\u001b[0m\u001b[0mtest_ll\u001b[0m \u001b[0;34m=\u001b[0m \u001b[0mself\u001b[0m\u001b[0;34m.\u001b[0m\u001b[0mtest_ll\u001b[0m \u001b[0;34m-\u001b[0m \u001b[0mnp\u001b[0m\u001b[0;34m.\u001b[0m\u001b[0mmean\u001b[0m\u001b[0;34m(\u001b[0m\u001b[0mnp\u001b[0m\u001b[0;34m.\u001b[0m\u001b[0msum\u001b[0m\u001b[0;34m(\u001b[0m\u001b[0mself\u001b[0m\u001b[0;34m.\u001b[0m\u001b[0mX_test\u001b[0m\u001b[0;34m,\u001b[0m \u001b[0maxis\u001b[0m\u001b[0;34m=\u001b[0m\u001b[0;34m-\u001b[0m\u001b[0;36m1\u001b[0m\u001b[0;34m)\u001b[0m\u001b[0;34m)\u001b[0m\u001b[0;34m\u001b[0m\u001b[0m\n",
      "\u001b[0;32m~/thesis/venv/lib/python3.6/site-packages/state_of_art/ZINB_WaVE/zinb_wave.py\u001b[0m in \u001b[0;36mscore\u001b[0;34m(self, X)\u001b[0m\n\u001b[1;32m     81\u001b[0m         \u001b[0mro\u001b[0m\u001b[0;34m.\u001b[0m\u001b[0mr\u001b[0m\u001b[0;34m.\u001b[0m\u001b[0massign\u001b[0m\u001b[0;34m(\u001b[0m\u001b[0;34m\"matrix_val\"\u001b[0m\u001b[0;34m,\u001b[0m \u001b[0mX_testr\u001b[0m\u001b[0;34m)\u001b[0m\u001b[0;34m\u001b[0m\u001b[0m\n\u001b[1;32m     82\u001b[0m         \u001b[0mro\u001b[0m\u001b[0;34m.\u001b[0m\u001b[0mr\u001b[0m\u001b[0;34m(\u001b[0m\u001b[0;34m\"m_val <- zinbModel(n=NROW(matrix_val), J=NCOL(matrix_val), K=K)\"\u001b[0m\u001b[0;34m)\u001b[0m\u001b[0;34m\u001b[0m\u001b[0m\n\u001b[0;32m---> 83\u001b[0;31m         \u001b[0mro\u001b[0m\u001b[0;34m.\u001b[0m\u001b[0mr\u001b[0m\u001b[0;34m(\u001b[0m\u001b[0;34m\"m_val <- zinbInitialize(m_val, matrix_val)\"\u001b[0m\u001b[0;34m)\u001b[0m\u001b[0;34m\u001b[0m\u001b[0m\n\u001b[0m\u001b[1;32m     84\u001b[0m         \u001b[0;32mif\u001b[0m \u001b[0;32mnot\u001b[0m \u001b[0mself\u001b[0m\u001b[0;34m.\u001b[0m\u001b[0mlearn_V\u001b[0m\u001b[0;34m:\u001b[0m\u001b[0;34m\u001b[0m\u001b[0m\n\u001b[1;32m     85\u001b[0m             \u001b[0mro\u001b[0m\u001b[0;34m.\u001b[0m\u001b[0mr\u001b[0m\u001b[0;34m(\u001b[0m\u001b[0;34m\"m_val <- zinbOptimizeValTrick(m_train, m_val, matrix_val)\"\u001b[0m\u001b[0;34m)\u001b[0m\u001b[0;34m\u001b[0m\u001b[0m\n",
      "\u001b[0;32m~/thesis/venv/lib/python3.6/site-packages/rpy2/robjects/__init__.py\u001b[0m in \u001b[0;36m__call__\u001b[0;34m(self, string)\u001b[0m\n\u001b[1;32m    350\u001b[0m     \u001b[0;32mdef\u001b[0m \u001b[0m__call__\u001b[0m\u001b[0;34m(\u001b[0m\u001b[0mself\u001b[0m\u001b[0;34m,\u001b[0m \u001b[0mstring\u001b[0m\u001b[0;34m)\u001b[0m\u001b[0;34m:\u001b[0m\u001b[0;34m\u001b[0m\u001b[0m\n\u001b[1;32m    351\u001b[0m         \u001b[0mp\u001b[0m \u001b[0;34m=\u001b[0m \u001b[0m_rparse\u001b[0m\u001b[0;34m(\u001b[0m\u001b[0mtext\u001b[0m\u001b[0;34m=\u001b[0m\u001b[0mStrSexpVector\u001b[0m\u001b[0;34m(\u001b[0m\u001b[0;34m(\u001b[0m\u001b[0mstring\u001b[0m\u001b[0;34m,\u001b[0m\u001b[0;34m)\u001b[0m\u001b[0;34m)\u001b[0m\u001b[0;34m)\u001b[0m\u001b[0;34m\u001b[0m\u001b[0m\n\u001b[0;32m--> 352\u001b[0;31m         \u001b[0mres\u001b[0m \u001b[0;34m=\u001b[0m \u001b[0mself\u001b[0m\u001b[0;34m.\u001b[0m\u001b[0meval\u001b[0m\u001b[0;34m(\u001b[0m\u001b[0mp\u001b[0m\u001b[0;34m)\u001b[0m\u001b[0;34m\u001b[0m\u001b[0m\n\u001b[0m\u001b[1;32m    353\u001b[0m         \u001b[0;32mreturn\u001b[0m \u001b[0mconversion\u001b[0m\u001b[0;34m.\u001b[0m\u001b[0mri2py\u001b[0m\u001b[0;34m(\u001b[0m\u001b[0mres\u001b[0m\u001b[0;34m)\u001b[0m\u001b[0;34m\u001b[0m\u001b[0m\n\u001b[1;32m    354\u001b[0m \u001b[0;34m\u001b[0m\u001b[0m\n",
      "\u001b[0;32m~/thesis/venv/lib/python3.6/site-packages/rpy2/robjects/functions.py\u001b[0m in \u001b[0;36m__call__\u001b[0;34m(self, *args, **kwargs)\u001b[0m\n\u001b[1;32m    176\u001b[0m                 \u001b[0mv\u001b[0m \u001b[0;34m=\u001b[0m \u001b[0mkwargs\u001b[0m\u001b[0;34m.\u001b[0m\u001b[0mpop\u001b[0m\u001b[0;34m(\u001b[0m\u001b[0mk\u001b[0m\u001b[0;34m)\u001b[0m\u001b[0;34m\u001b[0m\u001b[0m\n\u001b[1;32m    177\u001b[0m                 \u001b[0mkwargs\u001b[0m\u001b[0;34m[\u001b[0m\u001b[0mr_k\u001b[0m\u001b[0;34m]\u001b[0m \u001b[0;34m=\u001b[0m \u001b[0mv\u001b[0m\u001b[0;34m\u001b[0m\u001b[0m\n\u001b[0;32m--> 178\u001b[0;31m         \u001b[0;32mreturn\u001b[0m \u001b[0msuper\u001b[0m\u001b[0;34m(\u001b[0m\u001b[0mSignatureTranslatedFunction\u001b[0m\u001b[0;34m,\u001b[0m \u001b[0mself\u001b[0m\u001b[0;34m)\u001b[0m\u001b[0;34m.\u001b[0m\u001b[0m__call__\u001b[0m\u001b[0;34m(\u001b[0m\u001b[0;34m*\u001b[0m\u001b[0margs\u001b[0m\u001b[0;34m,\u001b[0m \u001b[0;34m**\u001b[0m\u001b[0mkwargs\u001b[0m\u001b[0;34m)\u001b[0m\u001b[0;34m\u001b[0m\u001b[0m\n\u001b[0m\u001b[1;32m    179\u001b[0m \u001b[0;34m\u001b[0m\u001b[0m\n\u001b[1;32m    180\u001b[0m \u001b[0mpattern_link\u001b[0m \u001b[0;34m=\u001b[0m \u001b[0mre\u001b[0m\u001b[0;34m.\u001b[0m\u001b[0mcompile\u001b[0m\u001b[0;34m(\u001b[0m\u001b[0;34mr'\\\\link\\{(.+?)\\}'\u001b[0m\u001b[0;34m)\u001b[0m\u001b[0;34m\u001b[0m\u001b[0m\n",
      "\u001b[0;32m~/thesis/venv/lib/python3.6/site-packages/rpy2/robjects/functions.py\u001b[0m in \u001b[0;36m__call__\u001b[0;34m(self, *args, **kwargs)\u001b[0m\n\u001b[1;32m    104\u001b[0m         \u001b[0;32mfor\u001b[0m \u001b[0mk\u001b[0m\u001b[0;34m,\u001b[0m \u001b[0mv\u001b[0m \u001b[0;32min\u001b[0m \u001b[0mkwargs\u001b[0m\u001b[0;34m.\u001b[0m\u001b[0mitems\u001b[0m\u001b[0;34m(\u001b[0m\u001b[0;34m)\u001b[0m\u001b[0;34m:\u001b[0m\u001b[0;34m\u001b[0m\u001b[0m\n\u001b[1;32m    105\u001b[0m             \u001b[0mnew_kwargs\u001b[0m\u001b[0;34m[\u001b[0m\u001b[0mk\u001b[0m\u001b[0;34m]\u001b[0m \u001b[0;34m=\u001b[0m \u001b[0mconversion\u001b[0m\u001b[0;34m.\u001b[0m\u001b[0mpy2ri\u001b[0m\u001b[0;34m(\u001b[0m\u001b[0mv\u001b[0m\u001b[0;34m)\u001b[0m\u001b[0;34m\u001b[0m\u001b[0m\n\u001b[0;32m--> 106\u001b[0;31m         \u001b[0mres\u001b[0m \u001b[0;34m=\u001b[0m \u001b[0msuper\u001b[0m\u001b[0;34m(\u001b[0m\u001b[0mFunction\u001b[0m\u001b[0;34m,\u001b[0m \u001b[0mself\u001b[0m\u001b[0;34m)\u001b[0m\u001b[0;34m.\u001b[0m\u001b[0m__call__\u001b[0m\u001b[0;34m(\u001b[0m\u001b[0;34m*\u001b[0m\u001b[0mnew_args\u001b[0m\u001b[0;34m,\u001b[0m \u001b[0;34m**\u001b[0m\u001b[0mnew_kwargs\u001b[0m\u001b[0;34m)\u001b[0m\u001b[0;34m\u001b[0m\u001b[0m\n\u001b[0m\u001b[1;32m    107\u001b[0m         \u001b[0mres\u001b[0m \u001b[0;34m=\u001b[0m \u001b[0mconversion\u001b[0m\u001b[0;34m.\u001b[0m\u001b[0mri2ro\u001b[0m\u001b[0;34m(\u001b[0m\u001b[0mres\u001b[0m\u001b[0;34m)\u001b[0m\u001b[0;34m\u001b[0m\u001b[0m\n\u001b[1;32m    108\u001b[0m         \u001b[0;32mreturn\u001b[0m \u001b[0mres\u001b[0m\u001b[0;34m\u001b[0m\u001b[0m\n",
      "\u001b[0;31mRRuntimeError\u001b[0m: Error in zinbInitialize(m_val, matrix_val) : Gene 235 has only 0 counts!\n"
     ]
    }
   ],
   "source": [
    "# 5-fold cross-validation \n",
    "zinbwave_cv = []\n",
    "\n",
    "kf = KFold(n_splits=5, shuffle=True)\n",
    "fold = 0\n",
    "for train_idx, test_idx in kf.split(X):\n",
    "    fold = fold + 1\n",
    "    print('Fold {}...'.format(fold))\n",
    "    X_train = X[train_idx]\n",
    "    X_test = X[test_idx]\n",
    "\n",
    "    obj = ZINB_WaVE(n_components=K)\n",
    "    zinbwave = ModelWrapper(obj, X_train, X_test=X_test, name='ZINB-WaVE', log_data=False, do_imp=False)\n",
    "    zinbwave.run(do_silh=False, do_dll=True, do_holl=True, do_tsne=False, verbose=True)\n",
    "    \n",
    "    zinbwave_cv.append(zinbwave)\n",
    "    print('Done.\\n')"
   ]
  },
  {
   "cell_type": "code",
   "execution_count": 80,
   "metadata": {},
   "outputs": [
    {
     "data": {
      "text/plain": [
       "array([0.0000e+00, 0.0000e+00, 0.0000e+00, 1.3910e+03, 0.0000e+00,\n",
       "       0.0000e+00, 0.0000e+00, 1.1769e+04, 7.0000e+00, 0.0000e+00,\n",
       "       0.0000e+00, 0.0000e+00, 0.0000e+00, 0.0000e+00, 0.0000e+00,\n",
       "       0.0000e+00, 0.0000e+00, 2.0000e+00, 0.0000e+00, 0.0000e+00,\n",
       "       0.0000e+00, 0.0000e+00, 0.0000e+00, 0.0000e+00, 0.0000e+00,\n",
       "       0.0000e+00, 0.0000e+00, 0.0000e+00, 0.0000e+00, 0.0000e+00,\n",
       "       0.0000e+00, 0.0000e+00, 0.0000e+00, 5.0000e+00, 0.0000e+00,\n",
       "       0.0000e+00, 0.0000e+00, 0.0000e+00, 0.0000e+00, 0.0000e+00,\n",
       "       0.0000e+00, 0.0000e+00, 0.0000e+00, 1.3000e+01, 0.0000e+00,\n",
       "       0.0000e+00, 0.0000e+00, 0.0000e+00, 0.0000e+00, 0.0000e+00,\n",
       "       1.7000e+01, 0.0000e+00, 0.0000e+00, 0.0000e+00, 0.0000e+00,\n",
       "       0.0000e+00, 0.0000e+00, 0.0000e+00, 0.0000e+00, 0.0000e+00,\n",
       "       0.0000e+00, 0.0000e+00, 0.0000e+00, 0.0000e+00, 0.0000e+00,\n",
       "       0.0000e+00, 0.0000e+00, 0.0000e+00, 0.0000e+00, 0.0000e+00,\n",
       "       0.0000e+00, 5.8900e+02, 0.0000e+00, 0.0000e+00, 0.0000e+00,\n",
       "       0.0000e+00, 0.0000e+00, 0.0000e+00, 0.0000e+00, 0.0000e+00,\n",
       "       0.0000e+00, 4.5000e+01, 0.0000e+00, 0.0000e+00, 0.0000e+00,\n",
       "       0.0000e+00, 0.0000e+00, 0.0000e+00, 0.0000e+00, 0.0000e+00,\n",
       "       0.0000e+00, 0.0000e+00, 0.0000e+00, 0.0000e+00, 0.0000e+00,\n",
       "       7.0000e+01, 0.0000e+00, 0.0000e+00, 0.0000e+00, 0.0000e+00,\n",
       "       0.0000e+00, 0.0000e+00, 0.0000e+00, 0.0000e+00], dtype=float32)"
      ]
     },
     "execution_count": 80,
     "metadata": {},
     "output_type": "execute_result"
    }
   ],
   "source": [
    "X_train[:, 22]"
   ]
  },
  {
   "cell_type": "code",
   "execution_count": 32,
   "metadata": {},
   "outputs": [
    {
     "name": "stdout",
     "output_type": "stream",
     "text": [
      "Run 0...\n",
      "Running ZINB-WaVE...\n",
      "Some arguments were ignored by ZINB_WaVE.\n",
      "Running .fit_transform() without keyword arguments.\n",
      "Done.\n",
      "Done.\n",
      "\n",
      "Run 1...\n",
      "Running ZINB-WaVE...\n",
      "Some arguments were ignored by ZINB_WaVE.\n",
      "Running .fit_transform() without keyword arguments.\n",
      "Done.\n",
      "Done.\n",
      "\n",
      "Run 2...\n",
      "Running ZINB-WaVE...\n",
      "Some arguments were ignored by ZINB_WaVE.\n",
      "Running .fit_transform() without keyword arguments.\n",
      "Done.\n",
      "Done.\n",
      "\n",
      "Run 3...\n",
      "Running ZINB-WaVE...\n",
      "Some arguments were ignored by ZINB_WaVE.\n",
      "Running .fit_transform() without keyword arguments.\n",
      "Done.\n",
      "Done.\n",
      "\n",
      "Run 4...\n",
      "Running ZINB-WaVE...\n",
      "Some arguments were ignored by ZINB_WaVE.\n",
      "Running .fit_transform() without keyword arguments.\n",
      "Done.\n",
      "Done.\n",
      "\n"
     ]
    }
   ],
   "source": [
    "# 5 repetitions on the full data set\n",
    "zinbwave_imputation = []\n",
    "\n",
    "for i in range(5):\n",
    "    print('Run {}...'.format(i))\n",
    "    obj = ZINB_WaVE(n_components=K)\n",
    "    zinbwave = ModelWrapper(obj, X, name='ZINB-WaVE', log_data=False, do_imp=True)\n",
    "    zinbwave.run(max_iter=1000, do_silh=False, do_dll=False, do_holl=False, do_tsne=False, verbose=True)\n",
    "    \n",
    "    zinbwave_imputation.append(zinbwave)\n",
    "    print('Done.\\n')"
   ]
  },
  {
   "cell_type": "markdown",
   "metadata": {},
   "source": [
    "## scVI"
   ]
  },
  {
   "cell_type": "code",
   "execution_count": null,
   "metadata": {},
   "outputs": [],
   "source": [
    "obj = scVI(n_components=K, n_hidden=128, n_layers=1, batch_size=128, batches=True)\n",
    "scvi = ModelWrapper(obj, X, c_train=labels, b_train=b_onehot, name='scVI', do_imp=False)\n",
    "scvi.run(max_iter=1000, do_silh=True, max_time=60*5, do_dll=False, do_holl=False, do_batch=True, do_tsne=False, verbose=True)"
   ]
  },
  {
   "cell_type": "code",
   "execution_count": null,
   "metadata": {},
   "outputs": [],
   "source": [
    "scvi.asw, scvi.ari, scvi.nmi, scvi.batch_asw"
   ]
  },
  {
   "cell_type": "code",
   "execution_count": null,
   "metadata": {},
   "outputs": [],
   "source": [
    "plt.plot(scvi.model_inst.result['t_loss'][:])\n",
    "plt.plot(scvi.model_inst.result['v_loss'][:])"
   ]
  },
  {
   "cell_type": "code",
   "execution_count": 23,
   "metadata": {},
   "outputs": [
    {
     "name": "stdout",
     "output_type": "stream",
     "text": [
      "Run 0...\n",
      "Running scVI...\n",
      "Running scVI on 1000 genes\n",
      "Got 2batches in the data\n",
      "Will not apply a MMD penalty\n",
      "Will work on mode numeric for incorporating library size\n",
      "Will work on mode gene for modeling inverse dispersion param\n",
      "Will apply zero inflation\n",
      "Will apply cell-specific scalings\n",
      "1 hidden layers at 128 each for a final 10 latent space\n",
      "Iteration 1000/1000. Train loss: 12875.336. Elapsed: 0h0m13s\r"
     ]
    },
    {
     "name": "stderr",
     "output_type": "stream",
     "text": [
      "/home/ubuntu/thesis/venv/lib/python3.6/site-packages/sklearn/metrics/cluster/supervised.py:844: FutureWarning: The behavior of NMI will change in version 0.22. To match the behavior of 'v_measure_score', NMI will use average_method='arithmetic' by default.\n",
      "  FutureWarning)\n"
     ]
    },
    {
     "name": "stdout",
     "output_type": "stream",
     "text": [
      "Done.\n",
      "Done.\n",
      "\n",
      "Run 1...\n",
      "Running scVI...\n",
      "Running scVI on 1000 genes\n",
      "Got 2batches in the data\n",
      "Will not apply a MMD penalty\n",
      "Will work on mode numeric for incorporating library size\n",
      "Will work on mode gene for modeling inverse dispersion param\n",
      "Will apply zero inflation\n",
      "Will apply cell-specific scalings\n",
      "1 hidden layers at 128 each for a final 10 latent space\n",
      "Iteration 1000/1000. Train loss: 13322.501. Elapsed: 0h0m13s\r"
     ]
    },
    {
     "name": "stderr",
     "output_type": "stream",
     "text": [
      "/home/ubuntu/thesis/venv/lib/python3.6/site-packages/sklearn/metrics/cluster/supervised.py:844: FutureWarning: The behavior of NMI will change in version 0.22. To match the behavior of 'v_measure_score', NMI will use average_method='arithmetic' by default.\n",
      "  FutureWarning)\n"
     ]
    },
    {
     "name": "stdout",
     "output_type": "stream",
     "text": [
      "Done.\n",
      "Done.\n",
      "\n",
      "Run 2...\n",
      "Running scVI...\n",
      "Running scVI on 1000 genes\n",
      "Got 2batches in the data\n",
      "Will not apply a MMD penalty\n",
      "Will work on mode numeric for incorporating library size\n",
      "Will work on mode gene for modeling inverse dispersion param\n",
      "Will apply zero inflation\n",
      "Will apply cell-specific scalings\n",
      "1 hidden layers at 128 each for a final 10 latent space\n",
      "Iteration 1000/1000. Train loss: 25178.156. Elapsed: 0h0m13s\r"
     ]
    },
    {
     "name": "stderr",
     "output_type": "stream",
     "text": [
      "/home/ubuntu/thesis/venv/lib/python3.6/site-packages/sklearn/metrics/cluster/supervised.py:844: FutureWarning: The behavior of NMI will change in version 0.22. To match the behavior of 'v_measure_score', NMI will use average_method='arithmetic' by default.\n",
      "  FutureWarning)\n"
     ]
    },
    {
     "name": "stdout",
     "output_type": "stream",
     "text": [
      "Done.\n",
      "Done.\n",
      "\n",
      "Run 3...\n",
      "Running scVI...\n",
      "Running scVI on 1000 genes\n",
      "Got 2batches in the data\n",
      "Will not apply a MMD penalty\n",
      "Will work on mode numeric for incorporating library size\n",
      "Will work on mode gene for modeling inverse dispersion param\n",
      "Will apply zero inflation\n",
      "Will apply cell-specific scalings\n",
      "1 hidden layers at 128 each for a final 10 latent space\n",
      "Iteration 1000/1000. Train loss: 14016.887. Elapsed: 0h0m13s\r"
     ]
    },
    {
     "name": "stderr",
     "output_type": "stream",
     "text": [
      "/home/ubuntu/thesis/venv/lib/python3.6/site-packages/sklearn/metrics/cluster/supervised.py:844: FutureWarning: The behavior of NMI will change in version 0.22. To match the behavior of 'v_measure_score', NMI will use average_method='arithmetic' by default.\n",
      "  FutureWarning)\n"
     ]
    },
    {
     "name": "stdout",
     "output_type": "stream",
     "text": [
      "Done.\n",
      "Done.\n",
      "\n",
      "Run 4...\n",
      "Running scVI...\n",
      "Running scVI on 1000 genes\n",
      "Got 2batches in the data\n",
      "Will not apply a MMD penalty\n",
      "Will work on mode numeric for incorporating library size\n",
      "Will work on mode gene for modeling inverse dispersion param\n",
      "Will apply zero inflation\n",
      "Will apply cell-specific scalings\n",
      "1 hidden layers at 128 each for a final 10 latent space\n",
      "Done.tion 1000/1000. Train loss: 16096.224. Elapsed: 0h0m13s\n",
      "Done.\n",
      "\n"
     ]
    },
    {
     "name": "stderr",
     "output_type": "stream",
     "text": [
      "/home/ubuntu/thesis/venv/lib/python3.6/site-packages/sklearn/metrics/cluster/supervised.py:844: FutureWarning: The behavior of NMI will change in version 0.22. To match the behavior of 'v_measure_score', NMI will use average_method='arithmetic' by default.\n",
      "  FutureWarning)\n"
     ]
    }
   ],
   "source": [
    "# 5 repetitions on the full data set\n",
    "scvi_full_reps = []\n",
    "\n",
    "for i in range(5):\n",
    "    print('Run {}...'.format(i))\n",
    "    obj = scVI(n_components=K, n_hidden=128, n_layers=1, batch_size=128, batches=True)\n",
    "    scvi = ModelWrapper(obj, X, c_train=labels, b_train=b_onehot, name='scVI', do_imp=False)\n",
    "    scvi.run(max_iter=1000, do_silh=True, max_time=60*5, do_dll=False, do_holl=False, do_batch=True, do_tsne=False, verbose=True)\n",
    "    \n",
    "    scvi_full_reps.append(scvi)\n",
    "    print('Done.\\n')"
   ]
  },
  {
   "cell_type": "code",
   "execution_count": null,
   "metadata": {},
   "outputs": [],
   "source": [
    "# 5-fold cross-validation \n",
    "scvi_cv = []\n",
    "\n",
    "kf = KFold(n_splits=5, shuffle=True, random_state=42)\n",
    "fold = 0\n",
    "for train_idx, test_idx in kf.split(X, y_collapsed_id):\n",
    "    fold = fold + 1\n",
    "    print('Fold {}...'.format(fold))\n",
    "    X_train = X[train_idx]\n",
    "    c_train = y_collapsed_id[train_idx]\n",
    "    X_test = X[test_idx]\n",
    "\n",
    "    obj = scVI(n_components=K, n_hidden=128, batch_size=128)\n",
    "    scvi = ModelWrapper(obj, X_train, c_train=c_train, X_test=X_test, name='scVI')\n",
    "    scvi.run(max_iter=1000, max_time=60*60, do_silh=False, do_dll=True, do_holl=True, do_tsne=False, verbose=True)\n",
    "    \n",
    "    scvi_cv.append(scvi)\n",
    "    print('Done.\\n')"
   ]
  },
  {
   "cell_type": "code",
   "execution_count": 24,
   "metadata": {},
   "outputs": [
    {
     "name": "stdout",
     "output_type": "stream",
     "text": [
      "Run 0...\n",
      "Running scVI...\n",
      "Running scVI on 1000 genes\n",
      "scVI will run without batch correction\n",
      "Will work on mode numeric for incorporating library size\n",
      "Will work on mode gene for modeling inverse dispersion param\n",
      "Will apply zero inflation\n",
      "Will apply cell-specific scalings\n",
      "1 hidden layers at 128 each for a final 10 latent space\n",
      "Done.tion 1000/1000. Train loss: 13005.870. Elapsed: 0h0m13s\n",
      "Done.\n",
      "\n",
      "Run 1...\n",
      "Running scVI...\n",
      "Running scVI on 1000 genes\n",
      "scVI will run without batch correction\n",
      "Will work on mode numeric for incorporating library size\n",
      "Will work on mode gene for modeling inverse dispersion param\n",
      "Will apply zero inflation\n",
      "Will apply cell-specific scalings\n",
      "1 hidden layers at 128 each for a final 10 latent space\n",
      "Done.tion 1000/1000. Train loss: 19366.109. Elapsed: 0h0m13s\n",
      "Done.\n",
      "\n",
      "Run 2...\n",
      "Running scVI...\n",
      "Running scVI on 1000 genes\n",
      "scVI will run without batch correction\n",
      "Will work on mode numeric for incorporating library size\n",
      "Will work on mode gene for modeling inverse dispersion param\n",
      "Will apply zero inflation\n",
      "Will apply cell-specific scalings\n",
      "1 hidden layers at 128 each for a final 10 latent space\n",
      "Done.tion 1000/1000. Train loss: 14416.873. Elapsed: 0h0m13s\n",
      "Done.\n",
      "\n",
      "Run 3...\n",
      "Running scVI...\n",
      "Running scVI on 1000 genes\n",
      "scVI will run without batch correction\n",
      "Will work on mode numeric for incorporating library size\n",
      "Will work on mode gene for modeling inverse dispersion param\n",
      "Will apply zero inflation\n",
      "Will apply cell-specific scalings\n",
      "1 hidden layers at 128 each for a final 10 latent space\n",
      "Done.tion 1000/1000. Train loss: 16523.516. Elapsed: 0h0m13s\n",
      "Done.\n",
      "\n",
      "Run 4...\n",
      "Running scVI...\n",
      "Running scVI on 1000 genes\n",
      "scVI will run without batch correction\n",
      "Will work on mode numeric for incorporating library size\n",
      "Will work on mode gene for modeling inverse dispersion param\n",
      "Will apply zero inflation\n",
      "Will apply cell-specific scalings\n",
      "1 hidden layers at 128 each for a final 10 latent space\n",
      "Done.tion 1000/1000. Train loss: 17416.697. Elapsed: 0h0m13s\n",
      "Done.\n",
      "\n"
     ]
    }
   ],
   "source": [
    "# 5 corrupted data sets\n",
    "scvi_imputation = []\n",
    "\n",
    "for i in range(5):\n",
    "    print('Run {}...'.format(i))\n",
    "    obj = scVI(n_components=K, n_hidden=128, n_layers=1, batch_size=128)\n",
    "    scvi = ModelWrapper(obj, X, name='scVI', do_imp=True)\n",
    "    scvi.run(max_iter=1000, max_time=60*60, do_silh=False, do_dll=False, do_holl=False, do_tsne=False, verbose=True)\n",
    "    \n",
    "    scvi_imputation.append(scvi)\n",
    "    print('Done.\\n')"
   ]
  },
  {
   "cell_type": "markdown",
   "metadata": {},
   "source": [
    "## m-pCMF"
   ]
  },
  {
   "cell_type": "code",
   "execution_count": 131,
   "metadata": {},
   "outputs": [
    {
     "name": "stdout",
     "output_type": "stream",
     "text": [
      "m-pCMF:\n",
      "Considering cell-specific scalings.\n",
      "Considering NB structure.\n",
      "Running m-pCMF...\n",
      "Iteration 200/200. ELBO: -386224.6932175. Improvement: 0.0000060. Elapsed: 0h0m32s\n",
      "Done.\n"
     ]
    },
    {
     "name": "stderr",
     "output_type": "stream",
     "text": [
      "/home/ubuntu/thesis/venv/lib/python3.6/site-packages/sklearn/metrics/cluster/supervised.py:844: FutureWarning: The behavior of NMI will change in version 0.22. To match the behavior of 'v_measure_score', NMI will use average_method='arithmetic' by default.\n",
      "  FutureWarning)\n"
     ]
    }
   ],
   "source": [
    "mpcmf = mpCMF(X, c_train=labels, n_components=K, b_train=b_onehot, scalings=True, sparsity=False, \n",
    "                  zero_inflation=False, batch_correction=False, empirical_bayes=True, do_imp=False, name=\"m-pCMF\", minibatch_size=None, \n",
    "                  nb=True)\n",
    "mpcmf.run(max_iter=200, max_time=60*30, do_silh=True, do_holl=False, do_dll=False, tol=None,\n",
    "          do_tsne=False, do_batch=True, calc_test=False, verbose=True, calc_silh=True)"
   ]
  },
  {
   "cell_type": "code",
   "execution_count": 133,
   "metadata": {},
   "outputs": [
    {
     "data": {
      "text/plain": [
       "0.342107481160718"
      ]
     },
     "execution_count": 133,
     "metadata": {},
     "output_type": "execute_result"
    }
   ],
   "source": [
    "mpcmf.batch_asw"
   ]
  },
  {
   "cell_type": "code",
   "execution_count": null,
   "metadata": {},
   "outputs": [],
   "source": [
    "np.einsum('ij,ijk->i', p_D * X, r)"
   ]
  },
  {
   "cell_type": "code",
   "execution_count": null,
   "metadata": {},
   "outputs": [],
   "source": [
    "mpcmf.inf.nu[1]"
   ]
  },
  {
   "cell_type": "code",
   "execution_count": null,
   "metadata": {},
   "outputs": [],
   "source": [
    "mpcmf.inf.nu"
   ]
  },
  {
   "cell_type": "code",
   "execution_count": null,
   "metadata": {},
   "outputs": [],
   "source": [
    "mpcmf.asw, mpcmf.ari, mpcmf.nmi, mpcmf.batch_asw"
   ]
  },
  {
   "cell_type": "code",
   "execution_count": null,
   "metadata": {},
   "outputs": [],
   "source": [
    "print('hallo')"
   ]
  },
  {
   "cell_type": "code",
   "execution_count": null,
   "metadata": {},
   "outputs": [],
   "source": [
    "plt.plot(mpcmf.inf.silh_it[:])"
   ]
  },
  {
   "cell_type": "code",
   "execution_count": null,
   "metadata": {},
   "outputs": [],
   "source": [
    "non_decreasing(mpcmf.inf.elbo_it)"
   ]
  },
  {
   "cell_type": "code",
   "execution_count": 26,
   "metadata": {},
   "outputs": [
    {
     "name": "stdout",
     "output_type": "stream",
     "text": [
      "Run 0...\n",
      "m-pCMF:\n",
      "Considering cell-specific scalings.\n",
      "Considering NB structure.\n",
      "Considering 2 experimental batches.\n",
      "Running m-pCMF...\n",
      "Iteration 126/1000. ELBO: -371344.8097612. Improvement: 0.0000491. Elapsed: 0h0m17s\n",
      "Convergence criterion reached.\n",
      "\n"
     ]
    },
    {
     "name": "stderr",
     "output_type": "stream",
     "text": [
      "/home/ubuntu/thesis/venv/lib/python3.6/site-packages/sklearn/metrics/cluster/supervised.py:844: FutureWarning: The behavior of NMI will change in version 0.22. To match the behavior of 'v_measure_score', NMI will use average_method='arithmetic' by default.\n",
      "  FutureWarning)\n"
     ]
    },
    {
     "name": "stdout",
     "output_type": "stream",
     "text": [
      "Done.\n",
      "Done.\n",
      "\n",
      "Run 1...\n",
      "m-pCMF:\n",
      "Considering cell-specific scalings.\n",
      "Considering NB structure.\n",
      "Considering 2 experimental batches.\n",
      "Running m-pCMF...\n",
      "Iteration 154/1000. ELBO: -379982.9691692. Improvement: 0.0000499. Elapsed: 0h0m22s\n",
      "Convergence criterion reached.\n",
      "\n"
     ]
    },
    {
     "name": "stderr",
     "output_type": "stream",
     "text": [
      "/home/ubuntu/thesis/venv/lib/python3.6/site-packages/sklearn/metrics/cluster/supervised.py:844: FutureWarning: The behavior of NMI will change in version 0.22. To match the behavior of 'v_measure_score', NMI will use average_method='arithmetic' by default.\n",
      "  FutureWarning)\n"
     ]
    },
    {
     "name": "stdout",
     "output_type": "stream",
     "text": [
      "Done.\n",
      "Done.\n",
      "\n",
      "Run 2...\n",
      "m-pCMF:\n",
      "Considering cell-specific scalings.\n",
      "Considering NB structure.\n",
      "Considering 2 experimental batches.\n",
      "Running m-pCMF...\n",
      "Iteration 142/1000. ELBO: -368850.0547388. Improvement: 0.0000495. Elapsed: 0h0m20s\n",
      "Convergence criterion reached.\n",
      "\n"
     ]
    },
    {
     "name": "stderr",
     "output_type": "stream",
     "text": [
      "/home/ubuntu/thesis/venv/lib/python3.6/site-packages/sklearn/metrics/cluster/supervised.py:844: FutureWarning: The behavior of NMI will change in version 0.22. To match the behavior of 'v_measure_score', NMI will use average_method='arithmetic' by default.\n",
      "  FutureWarning)\n"
     ]
    },
    {
     "name": "stdout",
     "output_type": "stream",
     "text": [
      "Done.\n",
      "Done.\n",
      "\n",
      "Run 3...\n",
      "m-pCMF:\n",
      "Considering cell-specific scalings.\n",
      "Considering NB structure.\n",
      "Considering 2 experimental batches.\n",
      "Running m-pCMF...\n",
      "Iteration 123/1000. ELBO: -372328.8730716. Improvement: 0.0000495. Elapsed: 0h0m18s\n",
      "Convergence criterion reached.\n",
      "\n"
     ]
    },
    {
     "name": "stderr",
     "output_type": "stream",
     "text": [
      "/home/ubuntu/thesis/venv/lib/python3.6/site-packages/sklearn/metrics/cluster/supervised.py:844: FutureWarning: The behavior of NMI will change in version 0.22. To match the behavior of 'v_measure_score', NMI will use average_method='arithmetic' by default.\n",
      "  FutureWarning)\n"
     ]
    },
    {
     "name": "stdout",
     "output_type": "stream",
     "text": [
      "Done.\n",
      "Done.\n",
      "\n",
      "Run 4...\n",
      "m-pCMF:\n",
      "Considering cell-specific scalings.\n",
      "Considering NB structure.\n",
      "Considering 2 experimental batches.\n",
      "Running m-pCMF...\n",
      "Iteration 131/1000. ELBO: -367864.0709258. Improvement: 0.0000497. Elapsed: 0h0m19s\n",
      "Convergence criterion reached.\n",
      "\n",
      "Done.\n",
      "Done.\n",
      "\n"
     ]
    },
    {
     "name": "stderr",
     "output_type": "stream",
     "text": [
      "/home/ubuntu/thesis/venv/lib/python3.6/site-packages/sklearn/metrics/cluster/supervised.py:844: FutureWarning: The behavior of NMI will change in version 0.22. To match the behavior of 'v_measure_score', NMI will use average_method='arithmetic' by default.\n",
      "  FutureWarning)\n"
     ]
    }
   ],
   "source": [
    "# 5 repetitions on the full data set\n",
    "mpcmf_full_reps = []\n",
    "\n",
    "for i in range(5):\n",
    "    print('Run {}...'.format(i))\n",
    "    mpcmf = mpCMF(X, c_train=labels, n_components=K, b_train=b_onehot, scalings=True, sparsity=False, \n",
    "                  zero_inflation=False, batch_correction=True, empirical_bayes=True, do_imp=False, name=\"m-pCMF\", minibatch_size=None, \n",
    "                  nb=True)\n",
    "    mpcmf.run(max_iter=1000, max_time=60*30, do_silh=True, do_holl=False, do_dll=False, tol=0.00005,\n",
    "              do_tsne=False, do_batch=True, calc_test=False, verbose=True, calc_silh=True)\n",
    "    \n",
    "    mpcmf_full_reps.append(mpcmf)\n",
    "    print('Done.\\n')"
   ]
  },
  {
   "cell_type": "code",
   "execution_count": 27,
   "metadata": {},
   "outputs": [
    {
     "name": "stdout",
     "output_type": "stream",
     "text": [
      "Run 0...\n",
      "m-pCMF:\n",
      "Considering cell-specific scalings.\n",
      "Considering NB structure.\n",
      "Running m-pCMF...\n",
      "Iteration 137/1000. ELBO: -372119.3846080. Improvement: 0.0000480. Elapsed: 0h0m15s\n",
      "Convergence criterion reached.\n",
      "\n",
      "Done.\n",
      "Done.\n",
      "\n"
     ]
    },
    {
     "name": "stderr",
     "output_type": "stream",
     "text": [
      "/home/ubuntu/thesis/venv/lib/python3.6/site-packages/sklearn/metrics/cluster/supervised.py:844: FutureWarning: The behavior of NMI will change in version 0.22. To match the behavior of 'v_measure_score', NMI will use average_method='arithmetic' by default.\n",
      "  FutureWarning)\n"
     ]
    }
   ],
   "source": [
    "# 5 repetitions on the full data set\n",
    "mpcmf_nobatch_full_reps = []\n",
    "\n",
    "for i in range(1):\n",
    "    print('Run {}...'.format(i))\n",
    "    mpcmf = mpCMF(X, c_train=labels, n_components=K, b_train=b_onehot, scalings=True, sparsity=False, \n",
    "                  zero_inflation=False, batch_correction=False, empirical_bayes=True, do_imp=False, name=\"m-pCMF\", minibatch_size=None, \n",
    "                  nb=True)\n",
    "    mpcmf.run(max_iter=1000, max_time=60*30, do_silh=True, do_holl=False, do_dll=False, tol=0.00005,\n",
    "              do_tsne=False, do_batch=True, calc_test=False, verbose=True, calc_silh=True)\n",
    "    \n",
    "    mpcmf_nobatch_full_reps.append(mpcmf)\n",
    "    print('Done.\\n')"
   ]
  },
  {
   "cell_type": "code",
   "execution_count": null,
   "metadata": {},
   "outputs": [],
   "source": [
    "# 5-fold cross-validation \n",
    "mpcmf_cv = []\n",
    "\n",
    "kf = KFold(n_splits=5, shuffle=True, random_state=42)\n",
    "fold = 0\n",
    "for train_idx, test_idx in kf.split(X, labels):\n",
    "    fold = fold + 1\n",
    "    print('Fold {}...'.format(fold))\n",
    "    X_train = X[train_idx]\n",
    "    c_train = labels[train_idx]\n",
    "    X_test = X[test_idx]\n",
    "\n",
    "    mpcmf = mpCMF(X_train, Y_test=X_test, n_components=K, scalings=True, sparsity=False, \n",
    "                  zero_inflation=True, empirical_bayes=False, do_imp=False, name=\"m-pCMF\", minibatch_size=None, \n",
    "                  nb=True, batch_correction=False)\n",
    "    mpcmf.run(max_iter=1000, max_time=60*30, do_silh=False, do_holl=True, do_dll=True, tol=0.00005,\n",
    "              do_tsne=False, calc_test=False, verbose=True, calc_silh=False)\n",
    "    \n",
    "    mpcmf_cv.append(mpcmf)\n",
    "    print('Done.\\n')"
   ]
  },
  {
   "cell_type": "code",
   "execution_count": 28,
   "metadata": {},
   "outputs": [
    {
     "name": "stdout",
     "output_type": "stream",
     "text": [
      "Run 0...\n",
      "m-pCMF:\n",
      "Considering cell-specific scalings.\n",
      "Considering NB structure.\n",
      "Considering zero-inflated counts.\n",
      "Running m-pCMF...\n",
      "Iteration 148/1000. ELBO: -287693.4497517. Improvement: 0.0000495. Elapsed: 0h0m17s\n",
      "Convergence criterion reached.\n",
      "\n",
      "Done.\n",
      "Done.\n",
      "\n",
      "Run 1...\n",
      "m-pCMF:\n",
      "Considering cell-specific scalings.\n",
      "Considering NB structure.\n",
      "Considering zero-inflated counts.\n",
      "Running m-pCMF...\n",
      "Iteration 162/1000. ELBO: -290600.7311006. Improvement: 0.0000499. Elapsed: 0h0m19s\n",
      "Convergence criterion reached.\n",
      "\n",
      "Done.\n",
      "Done.\n",
      "\n",
      "Run 2...\n",
      "m-pCMF:\n",
      "Considering cell-specific scalings.\n",
      "Considering NB structure.\n",
      "Considering zero-inflated counts.\n",
      "Running m-pCMF...\n",
      "Iteration 168/1000. ELBO: -287481.8455172. Improvement: 0.0000498. Elapsed: 0h0m20s\n",
      "Convergence criterion reached.\n",
      "\n",
      "Done.\n",
      "Done.\n",
      "\n",
      "Run 3...\n",
      "m-pCMF:\n",
      "Considering cell-specific scalings.\n",
      "Considering NB structure.\n",
      "Considering zero-inflated counts.\n",
      "Running m-pCMF...\n",
      "Iteration 155/1000. ELBO: -292891.7240437. Improvement: 0.0000493. Elapsed: 0h0m18s\n",
      "Convergence criterion reached.\n",
      "\n",
      "Done.\n",
      "Done.\n",
      "\n",
      "Run 4...\n",
      "m-pCMF:\n",
      "Considering cell-specific scalings.\n",
      "Considering NB structure.\n",
      "Considering zero-inflated counts.\n",
      "Running m-pCMF...\n",
      "Iteration 177/1000. ELBO: -289414.3345267. Improvement: 0.0000493. Elapsed: 0h0m21s\n",
      "Convergence criterion reached.\n",
      "\n",
      "Done.\n",
      "Done.\n",
      "\n"
     ]
    }
   ],
   "source": [
    "# 5 corrupted data sets\n",
    "mpcmf_imputation = []\n",
    "\n",
    "for i in range(5):\n",
    "    print('Run {}...'.format(i))\n",
    "    mpcmf = mpCMF(X, n_components=K, scalings=True, sparsity=False, \n",
    "                  zero_inflation=True, empirical_bayes=False, do_imp=True, name=\"m-pCMF\", minibatch_size=None, \n",
    "                  nb=True, batch_correction=False)\n",
    "    mpcmf.run(max_iter=1000, max_time=60*30, do_silh=False, do_holl=False, do_dll=False, tol=0.00005,\n",
    "              do_tsne=False, calc_test=False, verbose=True, calc_silh=False)\n",
    "    \n",
    "    mpcmf_imputation.append(mpcmf)\n",
    "    print('Done.\\n')"
   ]
  },
  {
   "cell_type": "code",
   "execution_count": 207,
   "metadata": {},
   "outputs": [
    {
     "name": "stdout",
     "output_type": "stream",
     "text": [
      "m-pCMF:\n",
      "Considering cell-specific scalings.\n",
      "Considering NB structure.\n",
      "Considering zero-inflated counts.\n",
      "Considering 2 experimental batches.\n",
      "Running m-pCMF...\n",
      "Iteration 403/1000. ELBO: -282276.8997999. Improvement: 0.0000100. Elapsed: 0h1m20s\n",
      "Convergence criterion reached.\n",
      "\n",
      "Done.\n"
     ]
    }
   ],
   "source": [
    "mpcmf = mpCMF(X, c_train=labels, b_train=b_onehot, n_components=K, scalings=True, sparsity=False, \n",
    "                  zero_inflation=True, empirical_bayes=False, do_imp=False, name=\"m-pCMF\", minibatch_size=None, \n",
    "                  nb=True, batch_correction=True)\n",
    "mpcmf.run(max_iter=1000, max_time=60*30, do_silh=True, do_holl=False, do_dll=False, tol=0.00005,\n",
    "          do_tsne=False, calc_test=False, verbose=True, calc_silh=False, do_batch=True)"
   ]
  },
  {
   "cell_type": "code",
   "execution_count": 208,
   "metadata": {},
   "outputs": [
    {
     "data": {
      "text/plain": [
       "88.69590564218399"
      ]
     },
     "execution_count": 208,
     "metadata": {},
     "output_type": "execute_result"
    }
   ],
   "source": [
    "mpcmf.dropimp_err"
   ]
  },
  {
   "cell_type": "markdown",
   "metadata": {},
   "source": [
    "## ZINBayes"
   ]
  },
  {
   "cell_type": "code",
   "execution_count": null,
   "metadata": {},
   "outputs": [],
   "source": [
    "zinbayes.X_train.shape"
   ]
  },
  {
   "cell_type": "code",
   "execution_count": null,
   "metadata": {},
   "outputs": [],
   "source": [
    "X.shape"
   ]
  },
  {
   "cell_type": "code",
   "execution_count": null,
   "metadata": {
    "scrolled": true
   },
   "outputs": [],
   "source": [
    "obj = ZINBayes(n_components=K, zero_inflation=True, scalings=True, n_mc_samples=5, test_iterations=500, \n",
    "               optimizer=None, batch_correction=True)\n",
    "zinbayes = ModelWrapper(obj, X, c_train=labels, X_test=None, b_train=b_onehot, name='ZINBayes', do_imp=False)\n",
    "zinbayes.run(max_iter=1000, do_silh=True, do_tsne=False, do_dll=False, do_holl=False, do_batch=True, verbose=True)"
   ]
  },
  {
   "cell_type": "code",
   "execution_count": null,
   "metadata": {},
   "outputs": [],
   "source": [
    "zinbayes.asw, zinbayes.ari, zinbayes.nmi, zinbayes.batch_asw"
   ]
  },
  {
   "cell_type": "code",
   "execution_count": null,
   "metadata": {},
   "outputs": [],
   "source": [
    "np.exp(zinbayes.model_inst.qr.distribution.eval())"
   ]
  },
  {
   "cell_type": "code",
   "execution_count": null,
   "metadata": {
    "scrolled": true
   },
   "outputs": [],
   "source": [
    "print('Without batch correction:')\n",
    "zinbayes.asw, zinbayes.ari, zinbayes.nmi, zinbayes.batch_asw"
   ]
  },
  {
   "cell_type": "code",
   "execution_count": null,
   "metadata": {},
   "outputs": [],
   "source": [
    "obj = ZINBayes(n_components=K, zero_inflation=False, n_mc_samples=5, test_iterations=500, \n",
    "               optimizer=None, batch_correction=False)\n",
    "zinbayes = ModelWrapper(obj, X, c_train=labels, X_test=None, b_train=b_onehot, name='ZINBayes', do_imp=False)\n",
    "zinbayes.run(max_iter=1000, do_silh=True, do_tsne=False, do_dll=False, do_holl=False, do_batch=True, verbose=True)"
   ]
  },
  {
   "cell_type": "code",
   "execution_count": null,
   "metadata": {},
   "outputs": [],
   "source": [
    "zinbayes.asw, zinbayes.ari, zinbayes.nmi, zinbayes.batch_asw"
   ]
  },
  {
   "cell_type": "code",
   "execution_count": null,
   "metadata": {},
   "outputs": [],
   "source": [
    "np.exp(zinbayes.model_inst.ql.distribution.mean().eval())"
   ]
  },
  {
   "cell_type": "code",
   "execution_count": null,
   "metadata": {},
   "outputs": [],
   "source": [
    "np.exp(zinbayes.model_inst.qa.distribution.mean().eval())"
   ]
  },
  {
   "cell_type": "code",
   "execution_count": null,
   "metadata": {
    "scrolled": true
   },
   "outputs": [],
   "source": [
    "print('With batch correction:')\n",
    "zinbayes.asw, zinbayes.ari, zinbayes.nmi, zinbayes.batch_asw"
   ]
  },
  {
   "cell_type": "code",
   "execution_count": null,
   "metadata": {},
   "outputs": [],
   "source": [
    "fa.asw, fa.ari, fa.nmi, fa.batch_asw"
   ]
  },
  {
   "cell_type": "code",
   "execution_count": null,
   "metadata": {},
   "outputs": [],
   "source": [
    "np.mean(X)"
   ]
  },
  {
   "cell_type": "code",
   "execution_count": null,
   "metadata": {},
   "outputs": [],
   "source": [
    "X[b_onehot[:, 0]==0.][:10,:5]"
   ]
  },
  {
   "cell_type": "code",
   "execution_count": null,
   "metadata": {},
   "outputs": [],
   "source": [
    "X[b_onehot[:, 0]==1.][:10,:5]"
   ]
  },
  {
   "cell_type": "code",
   "execution_count": null,
   "metadata": {},
   "outputs": [],
   "source": [
    "n_cells = X.shape[0]\n",
    "n_genes = X.shape[1]\n",
    "\n",
    "genecounts_mean = np.mean(X, axis=0)\n",
    "genecounts_var = np.var(X, axis=0)\n",
    "est_nb_var = genecounts_mean + 1./np.exp(zinbayes.model_inst.qr.distribution.mean().eval()) * genecounts_mean**2\n",
    "x = np.linspace(genecounts_mean.min(), genecounts_mean.max(), num=100000)\n",
    "r_ = .1\n",
    "\n",
    "s = 30\n",
    "alpha = 0.5\n",
    "\n",
    "fig = plt.figure(figsize=(14, 4))\n",
    "ax = plt.subplot(1, 2, 1)\n",
    "plt.xscale('log')\n",
    "plt.yscale('log')\n",
    "plt.scatter(genecounts_mean, genecounts_var, s=s, alpha=alpha)\n",
    "plt.scatter(genecounts_mean, est_nb_var, s=s, alpha=alpha)\n",
    "plt.plot(x, x, color='red')\n",
    "# plt.plot(x, x + 1/r_ * x**2, color='red')\n",
    "plt.xlabel('mean of gene expression')\n",
    "plt.ylabel('variance of gene expression')\n",
    "plt.ylim(min(genecounts_mean.min(), genecounts_var.min()), max(genecounts_mean.max(), genecounts_var.max()))\n",
    "\n",
    "# Dropout probability of each gene: number of cells with zero count of that gene / total number of cells\n",
    "dropout_prob = np.sum(X==0, axis=0) / n_cells\n",
    "\n",
    "x = np.linspace(genecounts_mean.min(), genecounts_mean.max(), num=100000)\n",
    "poi_zeros = np.exp(-x)\n",
    "nb_zeros = (r_/(x + r_))**r_\n",
    "\n",
    "ax = plt.subplot(1, 2, 2)\n",
    "plt.xscale('log')\n",
    "plt.scatter(genecounts_mean, dropout_prob, label='genes', s=s, alpha=alpha)\n",
    "plt.plot(x, poi_zeros, color='red', label='Poisson')\n",
    "# plt.plot(x, nb_zeros, color='red', label='NB (r={})'.format(r_))\n",
    "plt.xlabel('mean of gene expression')\n",
    "plt.ylabel('probability of zero')\n",
    "plt.legend(scatterpoints=2, frameon=True, bbox_to_anchor=[1.25, 1.0])\n",
    "\n",
    "plt.suptitle('POLLEN data', fontsize=14)\n",
    "# plt.savefig('PBMC_Poisson.pdf', dpi=300, bbox_inches='tight')\n",
    "plt.show()"
   ]
  },
  {
   "cell_type": "code",
   "execution_count": null,
   "metadata": {},
   "outputs": [],
   "source": [
    "l = 50\n",
    "g = 1000\n",
    "dif = 1000\n",
    "a = np.random.poisson(1., size=(l, g))\n",
    "b = a + dif #np.random.poisson(10., size=(10, 3))\n",
    "c = np.concatenate((a, b), axis=0)\n",
    "batch = np.zeros((2*l,2))\n",
    "batch[:l, 0] = 1.\n",
    "batch[l:, 1] = 1."
   ]
  },
  {
   "cell_type": "code",
   "execution_count": null,
   "metadata": {},
   "outputs": [],
   "source": [
    "proj = FactorAnalysis(n_components=2).fit_transform(c)"
   ]
  },
  {
   "cell_type": "code",
   "execution_count": null,
   "metadata": {},
   "outputs": [],
   "source": [
    "plt.scatter(proj[:l, 0], proj[:l, 1])\n",
    "plt.scatter(proj[l:, 0], proj[l:, 1])"
   ]
  },
  {
   "cell_type": "code",
   "execution_count": null,
   "metadata": {},
   "outputs": [],
   "source": [
    "obj = ZINBayes(n_components=2, zero_inflation=False, scalings=False, n_mc_samples=1, test_iterations=500, \n",
    "               optimizer=None, batch_correction=True)\n",
    "zinbayes = ModelWrapper(obj, c, X_test=None, b_train=batch, name='ZINBayes', do_imp=False)\n",
    "zinbayes.run(max_iter=1000, do_silh=False, do_tsne=False, do_dll=False, do_holl=False, do_batch=True, verbose=True)"
   ]
  },
  {
   "cell_type": "code",
   "execution_count": null,
   "metadata": {},
   "outputs": [],
   "source": [
    "est_z = zinbayes.est_z"
   ]
  },
  {
   "cell_type": "code",
   "execution_count": null,
   "metadata": {},
   "outputs": [],
   "source": [
    "est_z.shape"
   ]
  },
  {
   "cell_type": "code",
   "execution_count": null,
   "metadata": {},
   "outputs": [],
   "source": [
    "plot_utils.plot_tsne(est_z, batch[:, 0])"
   ]
  },
  {
   "cell_type": "code",
   "execution_count": null,
   "metadata": {},
   "outputs": [],
   "source": [
    "mpcmf = mpCMF(c, n_components=2, b_train=batch, scalings=False, sparsity=False, \n",
    "                  zero_inflation=False, batch_correction=False, empirical_bayes=False, do_imp=False, name=\"m-pCMF\", minibatch_size=None, \n",
    "                  nb=True)\n",
    "mpcmf.run(max_iter=200, max_time=60*30, do_silh=False, do_holl=False, do_dll=False, tol=None,\n",
    "          do_tsne=False, calc_test=False, verbose=True, calc_silh=True, calc_elbo=True)"
   ]
  },
  {
   "cell_type": "code",
   "execution_count": null,
   "metadata": {},
   "outputs": [],
   "source": [
    "non_decreasing(mpcmf.inf.elbo_it[:])"
   ]
  },
  {
   "cell_type": "code",
   "execution_count": null,
   "metadata": {},
   "outputs": [],
   "source": [
    "plt.plot(mpcmf.inf.elbo_it[:])"
   ]
  },
  {
   "cell_type": "code",
   "execution_count": null,
   "metadata": {},
   "outputs": [],
   "source": [
    "plot_utils.plot_tsne(mpcmf.inf.estimate_U(), batch[:, 0])"
   ]
  },
  {
   "cell_type": "code",
   "execution_count": null,
   "metadata": {},
   "outputs": [],
   "source": [
    "def non_decreasing(L):\n",
    "    return all(x<=y for x, y in zip(L, L[1:]))"
   ]
  },
  {
   "cell_type": "code",
   "execution_count": 108,
   "metadata": {},
   "outputs": [
    {
     "name": "stdout",
     "output_type": "stream",
     "text": [
      "Run 0...\n",
      "Considering zero-inflation.\n",
      "Performing batch correction.\n",
      "Considering cell-specific scalings.\n",
      "Running ZINBayes...\n",
      "1000/1000 [100%] ██████████████████████████████ Elapsed: 128s | Loss: 5147.365\n"
     ]
    },
    {
     "name": "stderr",
     "output_type": "stream",
     "text": [
      "/home/ubuntu/thesis/venv/lib/python3.6/site-packages/sklearn/metrics/cluster/supervised.py:844: FutureWarning: The behavior of NMI will change in version 0.22. To match the behavior of 'v_measure_score', NMI will use average_method='arithmetic' by default.\n",
      "  FutureWarning)\n"
     ]
    },
    {
     "name": "stdout",
     "output_type": "stream",
     "text": [
      "Done.\n",
      "Done.\n",
      "\n",
      "Run 1...\n",
      "Considering zero-inflation.\n",
      "Performing batch correction.\n",
      "Considering cell-specific scalings.\n",
      "Running ZINBayes...\n",
      "1000/1000 [100%] ██████████████████████████████ Elapsed: 127s | Loss: 5146.803\n"
     ]
    },
    {
     "name": "stderr",
     "output_type": "stream",
     "text": [
      "/home/ubuntu/thesis/venv/lib/python3.6/site-packages/sklearn/metrics/cluster/supervised.py:844: FutureWarning: The behavior of NMI will change in version 0.22. To match the behavior of 'v_measure_score', NMI will use average_method='arithmetic' by default.\n",
      "  FutureWarning)\n"
     ]
    },
    {
     "name": "stdout",
     "output_type": "stream",
     "text": [
      "Done.\n",
      "Done.\n",
      "\n",
      "Run 2...\n",
      "Considering zero-inflation.\n",
      "Performing batch correction.\n",
      "Considering cell-specific scalings.\n",
      "Running ZINBayes...\n",
      "1000/1000 [100%] ██████████████████████████████ Elapsed: 128s | Loss: 5139.609\n"
     ]
    },
    {
     "name": "stderr",
     "output_type": "stream",
     "text": [
      "/home/ubuntu/thesis/venv/lib/python3.6/site-packages/sklearn/metrics/cluster/supervised.py:844: FutureWarning: The behavior of NMI will change in version 0.22. To match the behavior of 'v_measure_score', NMI will use average_method='arithmetic' by default.\n",
      "  FutureWarning)\n"
     ]
    },
    {
     "name": "stdout",
     "output_type": "stream",
     "text": [
      "Done.\n",
      "Done.\n",
      "\n",
      "Run 3...\n",
      "Considering zero-inflation.\n",
      "Performing batch correction.\n",
      "Considering cell-specific scalings.\n",
      "Running ZINBayes...\n",
      "1000/1000 [100%] ██████████████████████████████ Elapsed: 131s | Loss: 5136.673\n"
     ]
    },
    {
     "name": "stderr",
     "output_type": "stream",
     "text": [
      "/home/ubuntu/thesis/venv/lib/python3.6/site-packages/sklearn/metrics/cluster/supervised.py:844: FutureWarning: The behavior of NMI will change in version 0.22. To match the behavior of 'v_measure_score', NMI will use average_method='arithmetic' by default.\n",
      "  FutureWarning)\n"
     ]
    },
    {
     "name": "stdout",
     "output_type": "stream",
     "text": [
      "Done.\n",
      "Done.\n",
      "\n",
      "Run 4...\n",
      "Considering zero-inflation.\n",
      "Performing batch correction.\n",
      "Considering cell-specific scalings.\n",
      "Running ZINBayes...\n",
      "1000/1000 [100%] ██████████████████████████████ Elapsed: 127s | Loss: 5144.117\n",
      "Done.\n",
      "Done.\n",
      "\n"
     ]
    },
    {
     "name": "stderr",
     "output_type": "stream",
     "text": [
      "/home/ubuntu/thesis/venv/lib/python3.6/site-packages/sklearn/metrics/cluster/supervised.py:844: FutureWarning: The behavior of NMI will change in version 0.22. To match the behavior of 'v_measure_score', NMI will use average_method='arithmetic' by default.\n",
      "  FutureWarning)\n"
     ]
    }
   ],
   "source": [
    "# 5 repetitions on the full data set\n",
    "zinbayes_full_reps = []\n",
    "\n",
    "for i in range(5):\n",
    "    print('Run {}...'.format(i))\n",
    "    obj = ZINBayes(n_components=K, batch_correction=True, n_mc_samples=5)\n",
    "    zinbayes = ModelWrapper(obj, X, c_train=labels, b_train=b_onehot, name='ZINBayes', do_imp=False)\n",
    "    zinbayes.run(max_iter=1000, do_silh=True, do_dll=False, do_holl=False, do_tsne=False, verbose=True, do_batch=True)\n",
    "    \n",
    "    zinbayes_full_reps.append(zinbayes)\n",
    "    print('Done.\\n')"
   ]
  },
  {
   "cell_type": "code",
   "execution_count": 109,
   "metadata": {},
   "outputs": [
    {
     "name": "stdout",
     "output_type": "stream",
     "text": [
      "Run 0...\n",
      "Considering zero-inflation.\n",
      "Considering cell-specific scalings.\n",
      "Running ZINBayes...\n",
      "1000/1000 [100%] ██████████████████████████████ Elapsed: 128s | Loss: 5124.426\n",
      "Done.\n",
      "Done.\n",
      "\n"
     ]
    },
    {
     "name": "stderr",
     "output_type": "stream",
     "text": [
      "/home/ubuntu/thesis/venv/lib/python3.6/site-packages/sklearn/metrics/cluster/supervised.py:844: FutureWarning: The behavior of NMI will change in version 0.22. To match the behavior of 'v_measure_score', NMI will use average_method='arithmetic' by default.\n",
      "  FutureWarning)\n"
     ]
    }
   ],
   "source": [
    "# 5 repetitions on the full data set\n",
    "zinbayes_nobatch_full_reps = []\n",
    "\n",
    "for i in range(1):\n",
    "    print('Run {}...'.format(i))\n",
    "    obj = ZINBayes(n_components=K, batch_correction=False, n_mc_samples=5)\n",
    "    zinbayes = ModelWrapper(obj, X, c_train=labels, b_train=b_onehot, name='ZINBayes', do_imp=False)\n",
    "    zinbayes.run(max_iter=1000, do_silh=True, do_dll=False, do_holl=False, do_tsne=False, verbose=True, do_batch=True)\n",
    "    \n",
    "    zinbayes_nobatch_full_reps.append(zinbayes)\n",
    "    print('Done.\\n')"
   ]
  },
  {
   "cell_type": "code",
   "execution_count": null,
   "metadata": {},
   "outputs": [],
   "source": [
    "# 5-fold cross-validation \n",
    "zinbayes_cv = []\n",
    "\n",
    "kf = KFold(n_splits=5, shuffle=True, random_state=42)\n",
    "fold = 0\n",
    "for train_idx, test_idx in kf.split(X):\n",
    "    fold = fold + 1\n",
    "    print('Fold {}...'.format(fold))\n",
    "    X_train = X[train_idx]\n",
    "    X_test = X[test_idx]\n",
    "\n",
    "    obj = ZINBayes(n_components=K)\n",
    "    zinbayes = ModelWrapper(obj, X_train, X_test=X_test, name='ZINBayes', do_imp=False)\n",
    "    zinbayes.run(max_iter=1000, do_silh=False, do_dll=True, do_holl=True, do_tsne=False, verbose=True)\n",
    "    \n",
    "    zinbayes_cv.append(zinbayes)\n",
    "    print('Done.\\n')"
   ]
  },
  {
   "cell_type": "code",
   "execution_count": 111,
   "metadata": {
    "scrolled": false
   },
   "outputs": [
    {
     "name": "stdout",
     "output_type": "stream",
     "text": [
      "Run 0...\n",
      "Considering zero-inflation.\n",
      "Considering cell-specific scalings.\n",
      "Running ZINBayes...\n",
      "1000/1000 [100%] ██████████████████████████████ Elapsed: 125s | Loss: 4840.562\n",
      "Done.\n",
      "Done.\n",
      "\n",
      "Run 1...\n",
      "Considering zero-inflation.\n",
      "Considering cell-specific scalings.\n",
      "Running ZINBayes...\n",
      "1000/1000 [100%] ██████████████████████████████ Elapsed: 126s | Loss: 5120.177\n",
      "Done.\n",
      "Done.\n",
      "\n",
      "Run 2...\n",
      "Considering zero-inflation.\n",
      "Considering cell-specific scalings.\n",
      "Running ZINBayes...\n",
      "1000/1000 [100%] ██████████████████████████████ Elapsed: 131s | Loss: 4824.311\n",
      "Done.\n",
      "Done.\n",
      "\n",
      "Run 3...\n",
      "Considering zero-inflation.\n",
      "Considering cell-specific scalings.\n",
      "Running ZINBayes...\n",
      "1000/1000 [100%] ██████████████████████████████ Elapsed: 126s | Loss: 5122.336\n",
      "Done.\n",
      "Done.\n",
      "\n",
      "Run 4...\n",
      "Considering zero-inflation.\n",
      "Considering cell-specific scalings.\n",
      "Running ZINBayes...\n",
      "1000/1000 [100%] ██████████████████████████████ Elapsed: 127s | Loss: 4840.424\n",
      "Done.\n",
      "Done.\n",
      "\n"
     ]
    }
   ],
   "source": [
    "# 5 repetitions on the full data set\n",
    "zinbayes_imputation = []\n",
    "\n",
    "for i in range(5):\n",
    "    print('Run {}...'.format(i))\n",
    "    obj = ZINBayes(n_components=K, n_mc_samples=5)\n",
    "    zinbayes = ModelWrapper(obj, X, name='ZINBayes', do_imp=True)\n",
    "    zinbayes.run(max_iter=1000, do_silh=False, do_dll=False, do_holl=False, do_tsne=False, verbose=True)\n",
    "    \n",
    "    zinbayes_imputation.append(zinbayes)\n",
    "    print('Done.\\n')"
   ]
  },
  {
   "cell_type": "code",
   "execution_count": 112,
   "metadata": {},
   "outputs": [
    {
     "data": {
      "text/plain": [
       "304049.03"
      ]
     },
     "execution_count": 112,
     "metadata": {},
     "output_type": "execute_result"
    }
   ],
   "source": [
    "np.mean(np.exp(scvi.model_inst.est_L))"
   ]
  },
  {
   "cell_type": "code",
   "execution_count": 113,
   "metadata": {},
   "outputs": [
    {
     "data": {
      "text/plain": [
       "1335855.5"
      ]
     },
     "execution_count": 113,
     "metadata": {},
     "output_type": "execute_result"
    }
   ],
   "source": [
    "np.mean(zinbayes.model_inst.ql.eval())"
   ]
  },
  {
   "cell_type": "code",
   "execution_count": 114,
   "metadata": {},
   "outputs": [
    {
     "data": {
      "text/plain": [
       "791921.75"
      ]
     },
     "execution_count": 114,
     "metadata": {},
     "output_type": "execute_result"
    }
   ],
   "source": [
    "np.mean(np.sum(X, axis=1))"
   ]
  },
  {
   "cell_type": "code",
   "execution_count": 144,
   "metadata": {},
   "outputs": [
    {
     "data": {
      "text/plain": [
       "[<matplotlib.lines.Line2D at 0x7f847b633be0>]"
      ]
     },
     "execution_count": 144,
     "metadata": {},
     "output_type": "execute_result"
    },
    {
     "data": {
      "image/png": "[encoded data removed]",
      "text/plain": [
       "<Figure size 432x288 with 1 Axes>"
      ]
     },
     "metadata": {
      "needs_background": "light"
     },
     "output_type": "display_data"
    }
   ],
   "source": [
    "plt.plot(zinbayes.model_inst.loss_dict['t_loss'][200:])"
   ]
  },
  {
   "cell_type": "code",
   "execution_count": 202,
   "metadata": {
    "scrolled": false
   },
   "outputs": [
    {
     "name": "stdout",
     "output_type": "stream",
     "text": [
      "Considering zero-inflation.\n",
      "Considering cell-specific scalings.\n",
      "Running ZINBayes...\n",
      "1000/1000 [100%] ██████████████████████████████ Elapsed: 252s | Loss: 4727.962\n",
      "Done.\n"
     ]
    }
   ],
   "source": [
    "obj = ZINBayes(n_components=K, n_mc_samples=10)\n",
    "zinbayes = ModelWrapper(obj, X, name='ZINBayes', do_imp=True)\n",
    "zinbayes.run(max_iter=1000, do_silh=True, do_dll=True, do_holl=True, do_tsne=False, verbose=True)"
   ]
  },
  {
   "cell_type": "code",
   "execution_count": 203,
   "metadata": {},
   "outputs": [
    {
     "data": {
      "text/plain": [
       "181.6969"
      ]
     },
     "execution_count": 203,
     "metadata": {},
     "output_type": "execute_result"
    }
   ],
   "source": [
    "zinbayes.dropimp_err"
   ]
  },
  {
   "cell_type": "code",
   "execution_count": null,
   "metadata": {
    "scrolled": true
   },
   "outputs": [],
   "source": [
    "print_utils.print_full_report([zinbayes, mpcmf, scvi], cluster=True, test_ll=False)"
   ]
  },
  {
   "cell_type": "markdown",
   "metadata": {},
   "source": [
    "# Plot results"
   ]
  },
  {
   "cell_type": "code",
   "execution_count": 116,
   "metadata": {},
   "outputs": [],
   "source": [
    "colors = sns.color_palette(\"Set1\", 10, desat=.7) # this is a list of 10 colors\n",
    "\n",
    "# We must choose what color to assign to each model\n",
    "model_list_clustering = [mpcmf_full_reps, zinbayes_full_reps, zinbwave_full_reps, scvi_full_reps, pcmf_full_reps, zifa_full_reps, fa_full_reps]\n",
    "# model_list_ll = [mpcmf_cv, zinbayes_cv, zinbwave_cv, scvi_cv, zifa_cv, fa_cv]\n",
    "model_list_imp = [mpcmf_imputation, zinbayes_imputation, zinbwave_imputation, scvi_imputation, pcmf_imputation, zifa_imputation]\n",
    "\n",
    "# Colors\n",
    "color_list_clustering = [colors[0], colors[1], colors[2], colors[4], colors[3], colors[5], colors[6]]\n",
    "hatch_list_clustering = ['//', '//', None, None, None, None, None]\n",
    "color_list_ll = [colors[0], colors[1], colors[2], colors[4], colors[5], colors[6]]\n",
    "hatch_list_ll = ['//', '//', None, None, None, None]\n",
    "color_list_imp = [colors[0], colors[1], colors[2], colors[4], colors[3], colors[5]]\n",
    "hatch_list_imp = ['//', '//', None, None, None, None, None]"
   ]
  },
  {
   "cell_type": "markdown",
   "metadata": {},
   "source": [
    "## Latent space clustering"
   ]
  },
  {
   "cell_type": "code",
   "execution_count": 125,
   "metadata": {},
   "outputs": [
    {
     "data": {
      "image/png": "[encoded data removed]",
      "text/plain": [
       "<Figure size 720x432 with 1 Axes>"
      ]
     },
     "metadata": {
      "needs_background": "light"
     },
     "output_type": "display_data"
    }
   ],
   "source": [
    "fig = plt.figure(figsize=(10, 6))\n",
    "ax = plt.axes()\n",
    "ax, _, _ = plot_utils.clustering_cv(model_list_clustering, colors=color_list_clustering, show_legend=False, ylim=[-.2, 1],\n",
    "                            title=None, ax=ax, box=False, hatches=None);\n",
    "ax.figure.savefig('POLLEN_clustering_bars.png', dpi=300, bbox_inches='tight')"
   ]
  },
  {
   "cell_type": "code",
   "execution_count": 165,
   "metadata": {},
   "outputs": [],
   "source": [
    "model_list_2d = [mpcmf_full_reps[0], zinbayes_full_reps[0], fa_full_reps[0]]"
   ]
  },
  {
   "cell_type": "code",
   "execution_count": 166,
   "metadata": {},
   "outputs": [],
   "source": [
    "for model in model_list_2d:\n",
    "    model.do_tsne()"
   ]
  },
  {
   "cell_type": "code",
   "execution_count": 210,
   "metadata": {},
   "outputs": [
    {
     "data": {
      "image/png": "[encoded data removed]",
      "text/plain": [
       "<Figure size 1224x648 with 6 Axes>"
      ]
     },
     "metadata": {
      "needs_background": "light"
     },
     "output_type": "display_data"
    }
   ],
   "source": [
    "fig = plt.figure(figsize=(17, 9))\n",
    "ax = plt.subplot(2, 3, 1)\n",
    "plot_utils.plot_tsne(model_list_2d[0].proj_2d, labels, ax=ax, title=model_list_2d[0].name)\n",
    "\n",
    "ax = plt.subplot(2, 3, 2)\n",
    "plot_utils.plot_tsne(model_list_2d[1].proj_2d, labels, ax=ax, title=model_list_2d[1].name)\n",
    "\n",
    "ax = plt.subplot(2, 3, 3)\n",
    "plot_utils.plot_tsne(model_list_2d[2].proj_2d, labels, ax=ax, title=model_list_2d[2].name)\n",
    "\n",
    "ax = plt.subplot(2, 3, 4)\n",
    "plot_utils.plot_tsne(model_list_2d[0].proj_2d, b_onehot[:, 0], ax=ax)\n",
    "\n",
    "ax = plt.subplot(2, 3, 5)\n",
    "plot_utils.plot_tsne(model_list_2d[1].proj_2d, b_onehot[:, 0], ax=ax)\n",
    "\n",
    "ax = plt.subplot(2, 3, 6)\n",
    "plot_utils.plot_tsne(model_list_2d[2].proj_2d, b_onehot[:, 0], ax=ax)\n",
    "\n",
    "plt.savefig('POLLEN_2d_clustering_batch.png', dpi=300, bbox_inches='tight')"
   ]
  },
  {
   "cell_type": "code",
   "execution_count": 191,
   "metadata": {},
   "outputs": [
    {
     "data": {
      "text/plain": [
       "(-0.2147437402476633, 0.21011488397366976)"
      ]
     },
     "execution_count": 191,
     "metadata": {},
     "output_type": "execute_result"
    }
   ],
   "source": [
    "mpcmf_full_reps[0].asw, mpcmf_full_reps[0].batch_asw"
   ]
  },
  {
   "cell_type": "code",
   "execution_count": 192,
   "metadata": {},
   "outputs": [
    {
     "data": {
      "text/plain": [
       "(0.23045523, -0.00674609)"
      ]
     },
     "execution_count": 192,
     "metadata": {},
     "output_type": "execute_result"
    }
   ],
   "source": [
    "zinbayes_full_reps[0].asw, zinbayes_full_reps[0].batch_asw"
   ]
  },
  {
   "cell_type": "code",
   "execution_count": 193,
   "metadata": {},
   "outputs": [
    {
     "data": {
      "text/plain": [
       "(0.12577307792643763, 0.14871482170551875)"
      ]
     },
     "execution_count": 193,
     "metadata": {},
     "output_type": "execute_result"
    }
   ],
   "source": [
    "fa_full_reps[0].asw, fa_full_reps[0].batch_asw"
   ]
  },
  {
   "cell_type": "code",
   "execution_count": 172,
   "metadata": {},
   "outputs": [
    {
     "data": {
      "image/png": "[encoded data removed]",
      "text/plain": [
       "<Figure size 1224x360 with 3 Axes>"
      ]
     },
     "metadata": {
      "needs_background": "light"
     },
     "output_type": "display_data"
    }
   ],
   "source": [
    "fig = plt.figure(figsize=(17, 5))\n",
    "ax = plt.axes()\n",
    "plot_utils.plot_2d(model_list_2d, b_onehot[:, 0], nrows=1, ncols=3, ax=ax, \n",
    "                          labels=None, legend=True, bbox_to_anchor=[1.2, 1.], titles=True)"
   ]
  },
  {
   "cell_type": "code",
   "execution_count": 196,
   "metadata": {},
   "outputs": [
    {
     "data": {
      "text/plain": [
       "153.7583843415353"
      ]
     },
     "execution_count": 196,
     "metadata": {},
     "output_type": "execute_result"
    }
   ],
   "source": [
    "mpcmf_imputation[0].dropimp_err"
   ]
  },
  {
   "cell_type": "markdown",
   "metadata": {},
   "source": [
    "### Correlation with quality metrics"
   ]
  },
  {
   "cell_type": "code",
   "execution_count": null,
   "metadata": {},
   "outputs": [],
   "source": [
    "fa_full_reps[0].asw, fa_full_reps[0].ari, fa_full_reps[0].nmi"
   ]
  },
  {
   "cell_type": "code",
   "execution_count": null,
   "metadata": {},
   "outputs": [],
   "source": [
    "fa_full_reps[0].do_tsne()"
   ]
  },
  {
   "cell_type": "code",
   "execution_count": null,
   "metadata": {},
   "outputs": [],
   "source": [
    "plot_utils.plot_tsne(fa_full_reps[0].proj_2d, y_collapsed_id)"
   ]
  },
  {
   "cell_type": "markdown",
   "metadata": {},
   "source": [
    "## Held-out data log-likelihood"
   ]
  },
  {
   "cell_type": "code",
   "execution_count": null,
   "metadata": {},
   "outputs": [],
   "source": [
    "plt.figure(figsize=(10, 6))\n",
    "ax = plt.axes()\n",
    "ax, _, _= plot_utils.loglikelihood_cv(model_list_ll, colors=color_list_ll, show_legend=False, hatches=hatch_list_ll,\n",
    "                            title=None, ax=ax, box=False);\n",
    "ax.figure.savefig('ZEISEL_ll.png', dpi=300, bbox_inches='tight')"
   ]
  },
  {
   "cell_type": "code",
   "execution_count": 47,
   "metadata": {},
   "outputs": [
    {
     "data": {
      "text/plain": [
       "156.1713274444511"
      ]
     },
     "execution_count": 47,
     "metadata": {},
     "output_type": "execute_result"
    }
   ],
   "source": []
  },
  {
   "cell_type": "markdown",
   "metadata": {},
   "source": [
    "## Imputation error"
   ]
  },
  {
   "cell_type": "code",
   "execution_count": 213,
   "metadata": {},
   "outputs": [
    {
     "data": {
      "image/png": "[encoded data removed]",
      "text/plain": [
       "<Figure size 360x432 with 1 Axes>"
      ]
     },
     "metadata": {
      "needs_background": "light"
     },
     "output_type": "display_data"
    }
   ],
   "source": [
    "plt.figure(figsize=(5, 6))\n",
    "ax = plt.axes()\n",
    "ax, _, _ = plot_utils.imputationerr_boxplot(model_list_imp, colors=color_list_imp, \n",
    "                                 show_legend=False, ax=ax, box=False, hatches=None);\n",
    "ax.figure.savefig('POLLEN_imp.png', dpi=300, bbox_inches='tight')"
   ]
  },
  {
   "cell_type": "code",
   "execution_count": 135,
   "metadata": {},
   "outputs": [
    {
     "data": {
      "text/plain": [
       "array([[1.01370019e+03, 1.25844982e+01],\n",
       "       [4.27195280e+00, 1.02801232e+01],\n",
       "       [1.34633647e+02, 5.17413321e+01],\n",
       "       [3.15266932e+02, 4.49446326e+02],\n",
       "       [4.18715890e+02, 1.39578878e+01],\n",
       "       [4.75852911e+02, 1.36452713e+03],\n",
       "       [7.98676014e+02, 3.49379306e+02],\n",
       "       [2.03888802e-01, 1.98229595e+02],\n",
       "       [7.16036230e+01, 3.64811969e+03],\n",
       "       [2.83419386e+02, 1.05447664e+02]])"
      ]
     },
     "execution_count": 135,
     "metadata": {},
     "output_type": "execute_result"
    }
   ],
   "source": [
    "mpcmf.est_R[:10, :2]"
   ]
  },
  {
   "cell_type": "code",
   "execution_count": 137,
   "metadata": {},
   "outputs": [
    {
     "data": {
      "text/plain": [
       "array([[9.31602483e+02, 1.15653029e+01],\n",
       "       [4.20007325e+00, 1.01071506e+01],\n",
       "       [1.22135888e+02, 4.69382929e+01],\n",
       "       [2.99619575e+02, 4.27139365e+02],\n",
       "       [3.88645753e+02, 1.29555003e+01],\n",
       "       [4.59170421e+02, 1.31668943e+03],\n",
       "       [7.65310683e+02, 3.34783705e+02],\n",
       "       [1.92102477e-01, 1.86770415e+02],\n",
       "       [6.73444261e+01, 3.43111866e+03],\n",
       "       [2.67676268e+02, 9.95903543e+01]])"
      ]
     },
     "execution_count": 137,
     "metadata": {},
     "output_type": "execute_result"
    }
   ],
   "source": [
    "mpcmf.est_norm_R[:10, :2]"
   ]
  },
  {
   "cell_type": "code",
   "execution_count": 140,
   "metadata": {},
   "outputs": [
    {
     "data": {
      "text/plain": [
       "{'X_corr': array([[0.00000e+00, 0.00000e+00, 1.28700e+03, ..., 3.18810e+04,\n",
       "         2.99190e+04, 5.89550e+04],\n",
       "        [0.00000e+00, 9.00000e+00, 0.00000e+00, ..., 8.40000e+01,\n",
       "         2.42000e+02, 9.57000e+02],\n",
       "        [0.00000e+00, 0.00000e+00, 0.00000e+00, ..., 8.14040e+04,\n",
       "         1.69370e+05, 7.20000e+01],\n",
       "        ...,\n",
       "        [9.00000e+00, 0.00000e+00, 0.00000e+00, ..., 2.69400e+04,\n",
       "         3.07230e+04, 4.99800e+04],\n",
       "        [0.00000e+00, 0.00000e+00, 9.00000e+01, ..., 1.01949e+05,\n",
       "         2.66070e+04, 3.62440e+04],\n",
       "        [1.00000e+00, 0.00000e+00, 0.00000e+00, ..., 6.13000e+03,\n",
       "         8.68990e+04, 1.19330e+04]], dtype=float32),\n",
       " 'i': array([  0,   0,   0, ..., 129, 129, 129]),\n",
       " 'j': array([  1,   2,   3, ..., 997, 998, 999]),\n",
       " 'ix': array([20161,  7173,  6908, ..., 61896, 62097, 55335])}"
      ]
     },
     "execution_count": 140,
     "metadata": {},
     "output_type": "execute_result"
    }
   ],
   "source": [
    "mpcmf_imputation[0].corruption_info"
   ]
  },
  {
   "cell_type": "markdown",
   "metadata": {},
   "source": [
    "## Technical variability"
   ]
  },
  {
   "cell_type": "code",
   "execution_count": null,
   "metadata": {},
   "outputs": [],
   "source": [
    "log_library_size = np.log(np.sum(X, axis=1))"
   ]
  },
  {
   "cell_type": "code",
   "execution_count": null,
   "metadata": {},
   "outputs": [],
   "source": [
    "from scipy.stats import pearsonr"
   ]
  },
  {
   "cell_type": "code",
   "execution_count": null,
   "metadata": {},
   "outputs": [],
   "source": [
    "fig = plt.figure(figsize=(15,4))\n",
    "\n",
    "ax = plt.subplot(1, 3, 1)\n",
    "est_l = zinbayes_full_reps[1].model_inst.est_L\n",
    "plt.scatter(np.log(est_l.ravel()), log_library_size, alpha=0.5, s=30)\n",
    "plt.ylabel('log library size', fontsize=14)\n",
    "plt.xlabel('log cell scaling', fontsize=14)\n",
    "plt.title('ZINBayes (corr={:.4f})'.format(pearsonr(np.log(est_l).ravel(), log_library_size.ravel())[0]), fontsize=14)\n",
    "# plt.xlim(log_library_size.min(), log_library_size.max())\n",
    "\n",
    "ax = plt.subplot(1, 3, 2, sharey=ax)\n",
    "est_l = mpcmf_full_reps[1].est_L\n",
    "plt.scatter(np.log(est_l.ravel()), log_library_size, alpha=0.5, s=30)\n",
    "# plt.ylabel('log-library size')\n",
    "plt.xlabel('log cell scaling', fontsize=14)\n",
    "plt.title('m-pCMF (corr={:.4f})'.format(pearsonr(np.log(est_l).ravel(), log_library_size.ravel())[0]), fontsize=14)\n",
    "# plt.xlim(log_library_size.min(), log_library_size.max())\n",
    "\n",
    "ax = plt.subplot(1, 3, 3, sharey=ax)\n",
    "est_l = scvi_full_reps[1].model_inst.est_L\n",
    "plt.scatter(est_l.ravel(), log_library_size, alpha=0.5, s=30)\n",
    "# plt.ylabel('log-library size')\n",
    "plt.xlabel('log cell scaling', fontsize=14)\n",
    "plt.title('scVI (corr={:.4f})'.format(pearsonr(np.log(est_l).ravel(), log_library_size.ravel())[0]), fontsize=14)\n",
    "# plt.xlim(log_library_size.min(), log_library_size.max())\n",
    "fig.savefig('ZEISEL_scalings.png', dpi=300, bbox_inches='tight')\n",
    "plt.show()"
   ]
  },
  {
   "cell_type": "markdown",
   "metadata": {},
   "source": [
    "## Gene groups"
   ]
  },
  {
   "cell_type": "code",
   "execution_count": null,
   "metadata": {},
   "outputs": [],
   "source": []
  },
  {
   "cell_type": "markdown",
   "metadata": {},
   "source": [
    "## Differential Expression"
   ]
  },
  {
   "cell_type": "code",
   "execution_count": null,
   "metadata": {},
   "outputs": [],
   "source": []
  },
  {
   "cell_type": "code",
   "execution_count": null,
   "metadata": {},
   "outputs": [],
   "source": [
    "\"\"\"\n",
    "Poisson matrix factorization with Batch inference and Stochastic inference\n",
    "CREATED: 2014-03-25 02:06:52 by Dawen Liang <dliang@ee.columbia.edu>\n",
    "\"\"\"\n",
    "\n",
    "import sys\n",
    "import numpy as np\n",
    "from scipy import special\n",
    "\n",
    "from sklearn.base import BaseEstimator, TransformerMixin\n",
    "\n",
    "\n",
    "class PoissonMF(BaseEstimator, TransformerMixin):\n",
    "    ''' Poisson matrix factorization with batch inference '''\n",
    "    def __init__(self, n_components=100, max_iter=100, tol=0.0005,\n",
    "                 smoothness=100, random_state=None, verbose=False,\n",
    "                 **kwargs):\n",
    "        ''' Poisson matrix factorization\n",
    "        Arguments\n",
    "        ---------\n",
    "        n_components : int\n",
    "            Number of latent components\n",
    "        max_iter : int\n",
    "            Maximal number of iterations to perform\n",
    "        tol : float\n",
    "            The threshold on the increase of the objective to stop the\n",
    "            iteration\n",
    "        smoothness : int\n",
    "            Smoothness on the initialization variational parameters\n",
    "        random_state : int or RandomState\n",
    "            Pseudo random number generator used for sampling\n",
    "        verbose : bool\n",
    "            Whether to show progress during model fitting\n",
    "        **kwargs: dict\n",
    "            Model hyperparameters\n",
    "        '''\n",
    "\n",
    "        self.n_components = n_components\n",
    "        self.max_iter = max_iter\n",
    "        self.tol = tol\n",
    "        self.smoothness = smoothness\n",
    "        self.random_state = random_state\n",
    "        self.verbose = verbose\n",
    "\n",
    "        if type(self.random_state) is int:\n",
    "            np.random.seed(self.random_state)\n",
    "        elif self.random_state is not None:\n",
    "            np.random.setstate(self.random_state)\n",
    "\n",
    "        self._parse_args(**kwargs)\n",
    "\n",
    "    def _parse_args(self, **kwargs):\n",
    "        self.a = float(kwargs.get('a', 16.))\n",
    "        self.b = float(kwargs.get('b', 4.))\n",
    "\n",
    "    def _init_components(self, n_feats):\n",
    "        # variational parameters for beta\n",
    "        self.gamma_b = self.smoothness \\\n",
    "            * np.random.gamma(self.smoothness, 1. / self.smoothness,\n",
    "                              size=(self.n_components, n_feats))\n",
    "        self.rho_b = self.smoothness \\\n",
    "            * np.random.gamma(self.smoothness, 1. / self.smoothness,\n",
    "                              size=(self.n_components, n_feats))\n",
    "        self.Eb, self.Elogb = _compute_expectations(self.gamma_b, self.rho_b)\n",
    "\n",
    "    def set_components(self, shape, rate):\n",
    "        '''Set the latent components from variational parameters.\n",
    "        Parameters\n",
    "        ----------\n",
    "        shape : numpy-array, shape (n_components, n_feats)\n",
    "            Shape parameters for the variational distribution\n",
    "        rate : numpy-array, shape (n_components, n_feats)\n",
    "            Rate parameters for the variational distribution\n",
    "        Returns\n",
    "        -------\n",
    "        self : object\n",
    "            Return the instance itself.\n",
    "        '''\n",
    "\n",
    "        self.gamma_b, self.rho_b = shape, rate\n",
    "        self.Eb, self.Elogb = _compute_expectations(self.gamma_b, self.rho_b)\n",
    "        return self\n",
    "\n",
    "    def _init_weights(self, n_samples):\n",
    "        # variational parameters for theta\n",
    "        self.gamma_t = self.smoothness \\\n",
    "            * np.random.gamma(self.smoothness, 1. / self.smoothness,\n",
    "                              size=(n_samples, self.n_components))\n",
    "        self.rho_t = self.smoothness \\\n",
    "            * np.random.gamma(self.smoothness, 1. / self.smoothness,\n",
    "                              size=(n_samples, self.n_components))\n",
    "        self.Et, self.Elogt = _compute_expectations(self.gamma_t, self.rho_t)\n",
    "        self.c = 1. / np.mean(self.Et)\n",
    "\n",
    "    def fit(self, X):\n",
    "        '''Fit the model to the data in X.\n",
    "        Parameters\n",
    "        ----------\n",
    "        X : array-like, shape (n_samples, n_feats)\n",
    "            Training data.\n",
    "        Returns\n",
    "        -------\n",
    "        self: object\n",
    "            Returns the instance itself.\n",
    "        '''\n",
    "        n_samples, n_feats = X.shape\n",
    "        self._init_components(n_feats)\n",
    "        self._init_weights(n_samples)\n",
    "        self._update(X)\n",
    "        return self\n",
    "\n",
    "    def transform(self, X, attr=None):\n",
    "        '''Encode the data as a linear combination of the latent components.\n",
    "        Parameters\n",
    "        ----------\n",
    "        X : array-like, shape (n_samples, n_feats)\n",
    "        attr: string\n",
    "            The name of attribute, default 'Eb'. Can be changed to Elogb to\n",
    "            obtain E_q[log beta] as transformed data.\n",
    "        Returns\n",
    "        -------\n",
    "        X_new : array-like, shape(n_samples, n_filters)\n",
    "            Transformed data, as specified by attr.\n",
    "        '''\n",
    "\n",
    "        if not hasattr(self, 'Eb'):\n",
    "            raise ValueError('There are no pre-trained components.')\n",
    "        n_samples, n_feats = X.shape\n",
    "        if n_feats != self.Eb.shape[1]:\n",
    "            raise ValueError('The dimension of the transformed data '\n",
    "                             'does not match with the existing components.')\n",
    "        if attr is None:\n",
    "            attr = 'Et'\n",
    "        self._init_weights(n_samples)\n",
    "        self._update(X, update_beta=False)\n",
    "        return getattr(self, attr)\n",
    "\n",
    "    def _update(self, X, update_beta=True):\n",
    "        # alternating between update latent components and weights\n",
    "        old_bd = -np.inf\n",
    "        for i in range(self.max_iter):\n",
    "            self._update_theta(X)\n",
    "            if update_beta:\n",
    "                self._update_beta(X)\n",
    "            bound = self._bound(X)\n",
    "            improvement = (bound - old_bd) / abs(old_bd)\n",
    "            if self.verbose:\n",
    "                sys.stdout.write('\\r\\tAfter ITERATION: %d\\tObjective: %.2f\\t'\n",
    "                                 'Old objective: %.2f\\t'\n",
    "                                 'Improvement: %.5f' % (i, bound, old_bd,\n",
    "                                                        improvement))\n",
    "                sys.stdout.flush()\n",
    "            if improvement < self.tol:\n",
    "                break\n",
    "            old_bd = bound\n",
    "        if self.verbose:\n",
    "            sys.stdout.write('\\n')\n",
    "        pass\n",
    "\n",
    "    def _update_theta(self, X):\n",
    "        ratio = X / self._xexplog()\n",
    "        self.gamma_t = self.a + np.exp(self.Elogt) * np.dot(\n",
    "            ratio, np.exp(self.Elogb).T)\n",
    "        self.rho_t = self.a * self.c + np.sum(self.Eb, axis=1)\n",
    "        self.Et, self.Elogt = _compute_expectations(self.gamma_t, self.rho_t)\n",
    "        self.c = 1. / np.mean(self.Et)\n",
    "\n",
    "    def _update_beta(self, X):\n",
    "        ratio = X / self._xexplog()\n",
    "        self.gamma_b = self.b + np.exp(self.Elogb) * np.dot(\n",
    "            np.exp(self.Elogt).T, ratio)\n",
    "        self.rho_b = self.b + np.sum(self.Et, axis=0, keepdims=True).T\n",
    "        self.Eb, self.Elogb = _compute_expectations(self.gamma_b, self.rho_b)\n",
    "\n",
    "    def _xexplog(self):\n",
    "        '''\n",
    "        sum_k exp(E[log theta_{ik} * beta_{kd}])\n",
    "        '''\n",
    "        return np.dot(np.exp(self.Elogt), np.exp(self.Elogb))\n",
    "\n",
    "    def _bound(self, X):\n",
    "        bound = np.sum(X * np.log(self._xexplog()) - self.Et.dot(self.Eb))\n",
    "        bound += _gamma_term(self.a, self.a * self.c,\n",
    "                             self.gamma_t, self.rho_t,\n",
    "                             self.Et, self.Elogt)\n",
    "        bound += self.n_components * X.shape[0] * self.a * np.log(self.c)\n",
    "        bound += _gamma_term(self.b, self.b, self.gamma_b, self.rho_b,\n",
    "                             self.Eb, self.Elogb)\n",
    "        return bound\n",
    "    \n",
    "def _compute_expectations(alpha, beta):\n",
    "    '''\n",
    "    Given x ~ Gam(alpha, beta), compute E[x] and E[log x]\n",
    "    '''\n",
    "    return (alpha / beta, special.psi(alpha) - np.log(beta))\n",
    "\n",
    "\n",
    "def _gamma_term(a, b, shape, rate, Ex, Elogx):\n",
    "    return np.sum((a - shape) * Elogx - (b - rate) * Ex +\n",
    "                  (special.gammaln(shape) - shape * np.log(rate)))"
   ]
  }
 ],
 "metadata": {
  "kernelspec": {
   "display_name": "Thesis",
   "language": "python",
   "name": "venv"
  },
  "language_info": {
   "codemirror_mode": {
    "name": "ipython",
    "version": 3
   },
   "file_extension": ".py",
   "mimetype": "text/x-python",
   "name": "python",
   "nbconvert_exporter": "python",
   "pygments_lexer": "ipython3",
   "version": "3.6.5"
  },
  "toc": {
   "base_numbering": 1,
   "nav_menu": {},
   "number_sections": true,
   "sideBar": true,
   "skip_h1_title": false,
   "title_cell": "Table of Contents",
   "title_sidebar": "Contents",
   "toc_cell": true,
   "toc_position": {},
   "toc_section_display": true,
   "toc_window_display": false
  }
 },
 "nbformat": 4,
 "nbformat_minor": 2
}
