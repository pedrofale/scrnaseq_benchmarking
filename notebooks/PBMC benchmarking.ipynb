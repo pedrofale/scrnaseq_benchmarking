{
 "cells": [
  {
   "cell_type": "markdown",
   "metadata": {
    "toc": true
   },
   "source": [
    "<h1>Table of Contents<span class=\"tocSkip\"></span></h1>\n",
    "<div class=\"toc\"><ul class=\"toc-item\"><li><span><a href=\"#Initialization\" data-toc-modified-id=\"Initialization-1\"><span class=\"toc-item-num\">1&nbsp;&nbsp;</span>Initialization</a></span><ul class=\"toc-item\"><li><span><a href=\"#Imports-and-configurations\" data-toc-modified-id=\"Imports-and-configurations-1.1\"><span class=\"toc-item-num\">1.1&nbsp;&nbsp;</span>Imports and configurations</a></span></li><li><span><a href=\"#Data-set-preparation:-PBMC\" data-toc-modified-id=\"Data-set-preparation:-PBMC-1.2\"><span class=\"toc-item-num\">1.2&nbsp;&nbsp;</span>Data set preparation: PBMC</a></span></li></ul></li><li><span><a href=\"#Run-models\" data-toc-modified-id=\"Run-models-2\"><span class=\"toc-item-num\">2&nbsp;&nbsp;</span>Run models</a></span><ul class=\"toc-item\"><li><span><a href=\"#Factor-Analysis\" data-toc-modified-id=\"Factor-Analysis-2.1\"><span class=\"toc-item-num\">2.1&nbsp;&nbsp;</span>Factor Analysis</a></span></li><li><span><a href=\"#ZIFA\" data-toc-modified-id=\"ZIFA-2.2\"><span class=\"toc-item-num\">2.2&nbsp;&nbsp;</span>ZIFA</a></span></li><li><span><a href=\"#pCMF\" data-toc-modified-id=\"pCMF-2.3\"><span class=\"toc-item-num\">2.3&nbsp;&nbsp;</span>pCMF</a></span></li><li><span><a href=\"#ZINB-WaVE\" data-toc-modified-id=\"ZINB-WaVE-2.4\"><span class=\"toc-item-num\">2.4&nbsp;&nbsp;</span>ZINB-WaVE</a></span></li><li><span><a href=\"#scVI\" data-toc-modified-id=\"scVI-2.5\"><span class=\"toc-item-num\">2.5&nbsp;&nbsp;</span>scVI</a></span></li><li><span><a href=\"#m-pCMF\" data-toc-modified-id=\"m-pCMF-2.6\"><span class=\"toc-item-num\">2.6&nbsp;&nbsp;</span>m-pCMF</a></span></li><li><span><a href=\"#ZINBayes\" data-toc-modified-id=\"ZINBayes-2.7\"><span class=\"toc-item-num\">2.7&nbsp;&nbsp;</span>ZINBayes</a></span></li></ul></li><li><span><a href=\"#Plot-results\" data-toc-modified-id=\"Plot-results-3\"><span class=\"toc-item-num\">3&nbsp;&nbsp;</span>Plot results</a></span><ul class=\"toc-item\"><li><span><a href=\"#Latent-space-clustering\" data-toc-modified-id=\"Latent-space-clustering-3.1\"><span class=\"toc-item-num\">3.1&nbsp;&nbsp;</span>Latent space clustering</a></span></li><li><span><a href=\"#Held-out-data-log-likelihood\" data-toc-modified-id=\"Held-out-data-log-likelihood-3.2\"><span class=\"toc-item-num\">3.2&nbsp;&nbsp;</span>Held-out data log-likelihood</a></span></li><li><span><a href=\"#Imputation-error\" data-toc-modified-id=\"Imputation-error-3.3\"><span class=\"toc-item-num\">3.3&nbsp;&nbsp;</span>Imputation error</a></span></li><li><span><a href=\"#Technical-variability\" data-toc-modified-id=\"Technical-variability-3.4\"><span class=\"toc-item-num\">3.4&nbsp;&nbsp;</span>Technical variability</a></span></li></ul></li></ul></div>"
   ]
  },
  {
   "cell_type": "markdown",
   "metadata": {},
   "source": [
    "# Initialization"
   ]
  },
  {
   "cell_type": "markdown",
   "metadata": {},
   "source": [
    "## Imports and configurations"
   ]
  },
  {
   "cell_type": "code",
   "execution_count": null,
   "metadata": {},
   "outputs": [],
   "source": [
    "%load_ext autoreload\n",
    "%autoreload 2"
   ]
  },
  {
   "cell_type": "code",
   "execution_count": null,
   "metadata": {},
   "outputs": [],
   "source": [
    "# %matplotlib inline\n",
    "\n",
    "from zinbayes.zinbayes import ZINBayes\n",
    "\n",
    "from pCMF import mpCMF\n",
    "\n",
    "from state_of_art.scVI.scvi import scVI\n",
    "from state_of_art.ZIFA.zifa import ZIFA\n",
    "from state_of_art.ZINB_WaVE.zinb_wave import ZINB_WaVE\n",
    "from state_of_art.pCMF.pcmf import pCMF\n",
    "\n",
    "from misc.model_wrapper import ModelWrapper\n",
    "from misc import print_utils, plot_utils\n",
    "\n",
    "import edward as ed\n",
    "import matplotlib.pyplot as plt\n",
    "import seaborn as sns\n",
    "import numpy as np\n",
    "import tensorflow as tf\n",
    "from scipy.stats import gaussian_kde, pearsonr\n",
    "import pandas as pd\n",
    "from sklearn.decomposition import FactorAnalysis\n",
    "from sklearn.manifold import TSNE\n",
    "from sklearn.metrics import silhouette_score\n",
    "from sklearn.model_selection import train_test_split, KFold\n",
    "from sklearn.metrics import confusion_matrix\n",
    "from sklearn.metrics import classification_report\n",
    "from sklearn.cluster import KMeans\n",
    "from sklearn.metrics import normalized_mutual_info_score, adjusted_rand_score\n",
    "\n",
    "from edward.models import Beta, RelaxedBernoulli, Gamma, Poisson, Dirichlet, Mixture, Categorical, TransformedDistribution, Normal, PointMass\n",
    "\n",
    "plt.style.use('seaborn-whitegrid')"
   ]
  },
  {
   "cell_type": "code",
   "execution_count": null,
   "metadata": {},
   "outputs": [],
   "source": [
    "# scatter plots style\n",
    "s = 30\n",
    "alpha = 0.5"
   ]
  },
  {
   "cell_type": "markdown",
   "metadata": {},
   "source": [
    "## Data set preparation: PBMC"
   ]
  },
  {
   "cell_type": "code",
   "execution_count": null,
   "metadata": {
    "scrolled": true
   },
   "outputs": [],
   "source": [
    "X = pd.read_csv('../../data/PBMC/counts.csv')\n",
    "y = pd.read_csv('../../data/PBMC/bio.csv')\n",
    "\n",
    "X = X.T\n",
    "X = np.array(X)\n",
    "X = X[1:, :]\n",
    "X = X.astype(int)\n",
    "\n",
    "y = np.array(y)[:, 1]\n",
    "y_names, y_id = np.unique(y, return_inverse=True)\n",
    "\n",
    "var_genes = np.var(X, axis=0)\n",
    "X = X[:, np.argsort(var_genes)[-1000:]]\n",
    "\n",
    "n_cells = X.shape[0]\n",
    "n_genes = X.shape[1]\n",
    "n_types = np.unique(y).size\n",
    "\n",
    "print('Data shape:')\n",
    "print('{} cells, {} genes\\n'.format(X.shape[0], X.shape[1]))\n",
    "print('{} cell types: {}\\n'.format(y_names.size, y_names))\n",
    "print('Percentage of zeros in the data set:')\n",
    "print('{:.2f}%'.format(np.count_nonzero(X==0) / X.size * 100))"
   ]
  },
  {
   "cell_type": "code",
   "execution_count": null,
   "metadata": {},
   "outputs": [],
   "source": [
    "labels = y_id"
   ]
  },
  {
   "cell_type": "code",
   "execution_count": null,
   "metadata": {},
   "outputs": [],
   "source": [
    "clusters = y"
   ]
  },
  {
   "cell_type": "code",
   "execution_count": null,
   "metadata": {},
   "outputs": [],
   "source": [
    "library_size = np.sum(X, axis=1)"
   ]
  },
  {
   "cell_type": "code",
   "execution_count": null,
   "metadata": {},
   "outputs": [],
   "source": [
    "detection_rate = np.sum(X != 0, axis=1)"
   ]
  },
  {
   "cell_type": "code",
   "execution_count": null,
   "metadata": {},
   "outputs": [],
   "source": [
    "X_train, X_test, c_train, c_test = train_test_split(X, labels, test_size=0.3)"
   ]
  },
  {
   "cell_type": "code",
   "execution_count": null,
   "metadata": {},
   "outputs": [],
   "source": [
    "N = X_train.shape[0]\n",
    "N_test = X_test.shape[0]\n",
    "P = n_genes\n",
    "C = n_types"
   ]
  },
  {
   "cell_type": "markdown",
   "metadata": {},
   "source": [
    "# Run models\n",
    "For each model, we need:\n",
    "* 5 repetitions on the full data set, for clustering benchmarking. \n",
    "    - Keep the best run and:\n",
    "         - perform t-SNE;\n",
    "         - get m-pCMF and ZINBayes' cell scalings.\n",
    "* 5-fold cross-validation to compute the held-out data log-likelihood.\n",
    "* Run on 5 different corrupted full data sets for imputation benchmarking.\n",
    "\n",
    "(ensure scVI does not separate the data more than we want it to.)"
   ]
  },
  {
   "cell_type": "code",
   "execution_count": null,
   "metadata": {},
   "outputs": [],
   "source": [
    "K = 10"
   ]
  },
  {
   "cell_type": "markdown",
   "metadata": {},
   "source": [
    "## Factor Analysis"
   ]
  },
  {
   "cell_type": "code",
   "execution_count": null,
   "metadata": {},
   "outputs": [],
   "source": [
    "obj = FactorAnalysis(n_components=K)\n",
    "fa = ModelWrapper(obj, X, c_train=labels, name='FA', do_imp=False, log_data=True)\n",
    "fa.run(do_silh=True, do_dll=True, do_holl=True, do_tsne=False, verbose=True)"
   ]
  },
  {
   "cell_type": "code",
   "execution_count": null,
   "metadata": {},
   "outputs": [],
   "source": [
    "# 5 repetitions on the full data set\n",
    "fa_full_reps = []\n",
    "\n",
    "for i in range(5):\n",
    "    print('Run {}...'.format(i))\n",
    "    obj = FactorAnalysis(n_components=K)\n",
    "    fa = ModelWrapper(obj, X, c_train=labels, name='FA', do_imp=False, log_data=True)\n",
    "    fa.run(do_silh=True, do_dll=False, do_holl=False, do_tsne=False, verbose=True)\n",
    "    \n",
    "    fa_full_reps.append(fa)\n",
    "    print('Done.\\n')"
   ]
  },
  {
   "cell_type": "code",
   "execution_count": null,
   "metadata": {},
   "outputs": [],
   "source": [
    "# 5-fold cross-validation \n",
    "fa_cv = []\n",
    "\n",
    "kf = KFold(n_splits=5, shuffle=True, random_state=42)\n",
    "fold = 0\n",
    "for train_idx, test_idx in kf.split(X, labels):\n",
    "    fold = fold + 1\n",
    "    print('Fold {}...'.format(fold))\n",
    "    Y_train = X[train_idx]\n",
    "    c_train = labels[train_idx]\n",
    "    Y_test = X[test_idx]\n",
    "\n",
    "    obj = FactorAnalysis(n_components=K)\n",
    "    fa = ModelWrapper(obj, Y_train, c_train=c_train, X_test=Y_test, name='FA', log_data=True, do_imp=False)\n",
    "    fa.run(do_silh=False, do_dll=True, do_holl=True, do_tsne=False, verbose=True)\n",
    "    \n",
    "    fa_cv.append(fa)\n",
    "    print('Done.\\n')"
   ]
  },
  {
   "cell_type": "code",
   "execution_count": null,
   "metadata": {},
   "outputs": [],
   "source": [
    "fa.train_ll, fa.test_ll"
   ]
  },
  {
   "cell_type": "markdown",
   "metadata": {},
   "source": [
    "## ZIFA"
   ]
  },
  {
   "cell_type": "code",
   "execution_count": null,
   "metadata": {},
   "outputs": [],
   "source": [
    "# 5 repetitions on the full data set\n",
    "zifa_full_reps = []\n",
    "\n",
    "for i in range(1):\n",
    "    print('Run {}...'.format(i))\n",
    "    obj = ZIFA(n_components=K)\n",
    "    zifa = ModelWrapper(obj, X, c_train=labels, name='ZIFA', log_data=True, do_imp=False)\n",
    "    zifa.run(max_iter=1000, do_silh=True, max_time=60*60, do_dll=False, do_holl=False, do_tsne=False, verbose=True)\n",
    "    \n",
    "    zifa_full_reps.append(zifa)\n",
    "    print('Done.\\n')"
   ]
  },
  {
   "cell_type": "code",
   "execution_count": null,
   "metadata": {},
   "outputs": [],
   "source": [
    "# 5-fold cross-validation \n",
    "zifa_cv = []\n",
    "\n",
    "kf = KFold(n_splits=5, shuffle=True, random_state=42)\n",
    "fold = 0\n",
    "for train_idx, test_idx in kf.split(X, labels):\n",
    "    fold = fold + 1\n",
    "    print('Fold {}...'.format(fold))\n",
    "    X_train = X[train_idx]\n",
    "    c_train = labels[train_idx]\n",
    "    X_test = X[test_idx]\n",
    "\n",
    "    obj = ZIFA(n_components=K)\n",
    "    zifa = ModelWrapper(obj, X_train, c_train=c_train, X_test=X_test, log_data=True, name='ZIFA')\n",
    "    zifa.run(max_time=60*60, max_iter=100, do_silh=False, do_dll=True, do_holl=True, do_tsne=False, verbose=True)\n",
    "    \n",
    "    zifa_cv.append(zifa)\n",
    "    print('Done.\\n')"
   ]
  },
  {
   "cell_type": "code",
   "execution_count": null,
   "metadata": {},
   "outputs": [],
   "source": [
    "# 5 corrupted data sets\n",
    "zifa_imputation = []\n",
    "\n",
    "for i in range(1):\n",
    "    print('Run {}...'.format(i))\n",
    "    obj = ZIFA(n_components=K)\n",
    "    zifa = ModelWrapper(obj, X, c_train=labels, X_test=None, log_data=True, name='ZIFA', do_imp=True)\n",
    "    zifa.run(max_time=60*60, max_iter=100, do_silh=False, do_dll=False, do_holl=False, do_tsne=False, verbose=True)\n",
    "    \n",
    "    zifa_imputation.append(zifa)\n",
    "    print('Done.\\n')"
   ]
  },
  {
   "cell_type": "markdown",
   "metadata": {},
   "source": [
    "## pCMF"
   ]
  },
  {
   "cell_type": "code",
   "execution_count": null,
   "metadata": {
    "scrolled": true
   },
   "outputs": [],
   "source": [
    "# 5 repetitions on the full data set\n",
    "pcmf_full_reps = []\n",
    "\n",
    "for i in range(1):\n",
    "    print('Run {}...'.format(i))\n",
    "    obj = pCMF(n_components=K)\n",
    "    pcmf = ModelWrapper(obj, X, c_train=labels, name='pCMF', log_data=False, do_imp=False)\n",
    "    pcmf.run(max_iter=300, do_silh=True, do_dll=False, do_holl=False, do_tsne=False, verbose=True)\n",
    "    \n",
    "    pcmf_full_reps.append(pcmf)\n",
    "    print('Done.\\n')"
   ]
  },
  {
   "cell_type": "code",
   "execution_count": null,
   "metadata": {},
   "outputs": [],
   "source": [
    "# 5 repetitions on the full data set\n",
    "pcmf_imputation = []\n",
    "\n",
    "for i in range(1):\n",
    "    print('Run {}...'.format(i))\n",
    "    obj = pCMF(n_components=K)\n",
    "    pcmf = ModelWrapper(obj, X, c_train=labels, name='pCMF', log_data=False, do_imp=True)\n",
    "    pcmf.run(max_iter=300, do_silh=False, do_dll=False, do_holl=False, do_tsne=False, verbose=True)\n",
    "    \n",
    "    pcmf_imputation.append(pcmf)\n",
    "    print('Done.\\n')"
   ]
  },
  {
   "cell_type": "markdown",
   "metadata": {},
   "source": [
    "## ZINB-WaVE"
   ]
  },
  {
   "cell_type": "code",
   "execution_count": null,
   "metadata": {},
   "outputs": [],
   "source": [
    "# 5 repetitions on the full data set\n",
    "zinbwave_full_reps = []\n",
    "\n",
    "for i in range(1):\n",
    "    print('Run {}...'.format(i))\n",
    "    obj = ZINB_WaVE(n_components=K)\n",
    "    zinbwave = ModelWrapper(obj, X, c_train=labels, name='ZINB-WaVE', log_data=False, do_imp=False)\n",
    "    zinbwave.run(do_silh=True, do_dll=False, do_holl=False, do_tsne=False, verbose=True)\n",
    "    \n",
    "    zinbwave_full_reps.append(zinbwave)\n",
    "    print('Done.\\n')"
   ]
  },
  {
   "cell_type": "code",
   "execution_count": null,
   "metadata": {},
   "outputs": [],
   "source": [
    "# 5-fold cross-validation \n",
    "zinbwave_cv = []\n",
    "\n",
    "kf = KFold(n_splits=5, shuffle=True, random_state=42)\n",
    "fold = 0\n",
    "for train_idx, test_idx in kf.split(X, labels):\n",
    "    fold = fold + 1\n",
    "    print('Fold {}...'.format(fold))\n",
    "    X_train = X[train_idx]\n",
    "    c_train = labels[train_idx]\n",
    "    X_test = X[test_idx]\n",
    "\n",
    "    obj = ZINB_WaVE(n_components=K)\n",
    "    zinbwave = ModelWrapper(obj, X_train, c_train=c_train, X_test=X_test, name='ZINB-WaVE', log_data=False, do_imp=False)\n",
    "    zinbwave.run(do_silh=False, do_dll=True, do_holl=True, do_tsne=False, verbose=True)\n",
    "    \n",
    "    zinbwave_cv.append(zinbwave)\n",
    "    print('Done.\\n')"
   ]
  },
  {
   "cell_type": "code",
   "execution_count": null,
   "metadata": {},
   "outputs": [],
   "source": [
    "# 5 repetitions on the full data set\n",
    "zinbwave_imputation = []\n",
    "\n",
    "for i in range(1):\n",
    "    print('Run {}...'.format(i))\n",
    "    obj = ZINB_WaVE(n_components=K)\n",
    "    zinbwave = ModelWrapper(obj, X, c_train=labels, X_test=None, name='ZINB-WaVE', log_data=False, do_imp=True)\n",
    "    zinbwave.run(max_iter=1000, do_silh=False, do_dll=False, do_holl=False, do_tsne=False, verbose=True)\n",
    "    \n",
    "    zinbwave_imputation.append(zinbwave)\n",
    "    print('Done.\\n')"
   ]
  },
  {
   "cell_type": "markdown",
   "metadata": {},
   "source": [
    "## scVI"
   ]
  },
  {
   "cell_type": "code",
   "execution_count": null,
   "metadata": {},
   "outputs": [],
   "source": [
    "# 5 repetitions on the full data set\n",
    "scvi_full_reps = []\n",
    "\n",
    "for i in range(5):\n",
    "    print('Run {}...'.format(i))\n",
    "    obj = scVI(n_components=K, n_hidden=128, n_layers=1, batch_size=128)\n",
    "    scvi = ModelWrapper(obj, X, c_train=labels, name='scVI', do_imp=False)\n",
    "    scvi.run(max_iter=120, max_time=60*60, do_silh=True, do_dll=False, do_holl=False, do_tsne=False, verbose=True)\n",
    "    \n",
    "    scvi_full_reps.append(scvi)\n",
    "    print('Done.\\n')"
   ]
  },
  {
   "cell_type": "code",
   "execution_count": null,
   "metadata": {},
   "outputs": [],
   "source": [
    "# 5-fold cross-validation \n",
    "scvi_cv = []\n",
    "\n",
    "kf = KFold(n_splits=5, shuffle=True, random_state=42)\n",
    "fold = 0\n",
    "for train_idx, test_idx in kf.split(X, labels):\n",
    "    fold = fold + 1\n",
    "    print('Fold {}...'.format(fold))\n",
    "    X_train = X[train_idx]\n",
    "    c_train = labels[train_idx]\n",
    "    X_test = X[test_idx]\n",
    "\n",
    "    obj = scVI(n_components=K, n_hidden=128, batch_size=128)\n",
    "    scvi = ModelWrapper(obj, X_train, c_train=c_train, X_test=X_test, name='scVI')\n",
    "    scvi.run(max_iter=120, max_time=60*60, do_silh=False, do_dll=True, do_holl=True, do_tsne=False, verbose=True)\n",
    "    \n",
    "    scvi_cv.append(scvi)\n",
    "    print('Done.\\n')"
   ]
  },
  {
   "cell_type": "code",
   "execution_count": null,
   "metadata": {},
   "outputs": [],
   "source": [
    "# 5 corrupted data sets\n",
    "scvi_imputation = []\n",
    "\n",
    "for i in range(5):\n",
    "    print('Run {}...'.format(i))\n",
    "    obj = scVI(n_components=K, n_hidden=128, n_layers=1, batch_size=128)\n",
    "    scvi = ModelWrapper(obj, X, c_train=labels, X_test=None, name='scVI', do_imp=True)\n",
    "    scvi.run(max_iter=120, max_time=60*60, do_silh=False, do_dll=False, do_holl=False, do_tsne=False, verbose=True)\n",
    "    \n",
    "    scvi_imputation.append(scvi)\n",
    "    print('Done.\\n')"
   ]
  },
  {
   "cell_type": "code",
   "execution_count": null,
   "metadata": {},
   "outputs": [],
   "source": [
    "mpcmf_full_reps[4].asw"
   ]
  },
  {
   "cell_type": "markdown",
   "metadata": {},
   "source": [
    "## m-pCMF"
   ]
  },
  {
   "cell_type": "code",
   "execution_count": null,
   "metadata": {},
   "outputs": [],
   "source": [
    "# 5 repetitions on the full data set\n",
    "mpcmf_full_reps = []\n",
    "\n",
    "for i in range(5):\n",
    "    print('Run {}...'.format(i))\n",
    "    mpcmf = mpCMF(X, c_train=labels, n_components=K, scalings=True, sparsity=False, \n",
    "                  zero_inflation=True, empirical_bayes=False, do_imp=False, name=\"m-pCMF\", minibatch_size=None, \n",
    "                  nb=True)\n",
    "    mpcmf.run(max_iter=1000, max_time=60*30, do_silh=True, do_holl=False, do_dll=False, tol=0.00005,\n",
    "              do_tsne=False, calc_test=False, verbose=True, calc_silh=False)\n",
    "    \n",
    "    mpcmf_full_reps.append(mpcmf)\n",
    "    print('Done.\\n')"
   ]
  },
  {
   "cell_type": "code",
   "execution_count": null,
   "metadata": {},
   "outputs": [],
   "source": [
    "# 5-fold cross-validation \n",
    "mpcmf_cv = []\n",
    "\n",
    "kf = KFold(n_splits=5, shuffle=True, random_state=42)\n",
    "fold = 0\n",
    "for train_idx, test_idx in kf.split(X, labels):\n",
    "    fold = fold + 1\n",
    "    print('Fold {}...'.format(fold))\n",
    "    X_train = X[train_idx]\n",
    "    c_train = labels[train_idx]\n",
    "    X_test = X[test_idx]\n",
    "\n",
    "    mpcmf = mpCMF(X_train, Y_test=X_test, n_components=K, scalings=True, sparsity=False, \n",
    "                  zero_inflation=True, empirical_bayes=False, do_imp=False, name=\"m-pCMF\", minibatch_size=None, \n",
    "                  nb=True)\n",
    "    mpcmf.run(max_iter=1000, max_time=60*30, do_silh=False, do_holl=True, do_dll=True, tol=0.00005,\n",
    "              do_tsne=False, calc_test=False, verbose=True, calc_silh=False)\n",
    "    \n",
    "    mpcmf_cv.append(mpcmf)\n",
    "    print('Done.\\n')"
   ]
  },
  {
   "cell_type": "code",
   "execution_count": null,
   "metadata": {},
   "outputs": [],
   "source": [
    "# 5 corrupted data sets\n",
    "mpcmf_imputation = []\n",
    "\n",
    "for i in range(5):\n",
    "    print('Run {}...'.format(i))\n",
    "    mpcmf = mpCMF(X, n_components=K, scalings=True, sparsity=False, \n",
    "                  zero_inflation=True, empirical_bayes=False, do_imp=True, name=\"m-pCMF\", minibatch_size=None, \n",
    "                  nb=True)\n",
    "    mpcmf.run(max_iter=1000, max_time=60*30, do_silh=False, do_holl=False, do_dll=False, tol=0.00005,\n",
    "              do_tsne=False, calc_test=False, verbose=True, calc_silh=False)\n",
    "    \n",
    "    mpcmf_imputation.append(mpcmf)\n",
    "    print('Done.\\n')"
   ]
  },
  {
   "cell_type": "code",
   "execution_count": null,
   "metadata": {},
   "outputs": [],
   "source": [
    "len(mpcmf_imputation)"
   ]
  },
  {
   "cell_type": "code",
   "execution_count": null,
   "metadata": {},
   "outputs": [],
   "source": [
    "# 5 corrupted data sets\n",
    "# mpcmf_imputation = []\n",
    "\n",
    "for i in range(2):\n",
    "    print('Run {}...'.format(i))\n",
    "    mpcmf = mpCMF(X, n_components=K, scalings=True, sparsity=False, \n",
    "                  zero_inflation=True, empirical_bayes=False, do_imp=True, name=\"m-pCMF\", minibatch_size=None, \n",
    "                  nb=True)\n",
    "    mpcmf.run(max_iter=1000, max_time=60*30, do_silh=False, do_holl=False, do_dll=False, tol=0.00005,\n",
    "              do_tsne=False, calc_test=False, verbose=True, calc_silh=False)\n",
    "    \n",
    "    mpcmf_imputation.append(mpcmf)\n",
    "    print('Done.\\n')"
   ]
  },
  {
   "cell_type": "markdown",
   "metadata": {},
   "source": [
    "## ZINBayes"
   ]
  },
  {
   "cell_type": "code",
   "execution_count": null,
   "metadata": {
    "scrolled": false
   },
   "outputs": [],
   "source": [
    "# 5 repetitions on the full data set\n",
    "zinbayes_full_reps = []\n",
    "\n",
    "for i in range(5):\n",
    "    print('Run {}...'.format(i))\n",
    "    obj = ZINBayes(n_components=K, n_mc_samples=5, test_iterations=300)\n",
    "    zinbayes = ModelWrapper(obj, X, c_train=labels, name='ZINBayes', do_imp=False)\n",
    "    zinbayes.run(max_iter=300, do_silh=True, do_dll=False, do_holl=False, do_tsne=False, verbose=True)\n",
    "    \n",
    "    zinbayes_full_reps.append(zinbayes)\n",
    "    print('Done.\\n')"
   ]
  },
  {
   "cell_type": "code",
   "execution_count": null,
   "metadata": {},
   "outputs": [],
   "source": [
    "# 5-fold cross-validation \n",
    "zinbayes_cv = []\n",
    "\n",
    "kf = KFold(n_splits=5, shuffle=True, random_state=42)\n",
    "fold = 0\n",
    "for train_idx, test_idx in kf.split(X, labels):\n",
    "    fold = fold + 1\n",
    "    print('Fold {}...'.format(fold))\n",
    "    X_train = X[train_idx]\n",
    "    c_train = labels[train_idx]\n",
    "    X_test = X[test_idx]\n",
    "\n",
    "    obj = ZINBayes(n_components=K, n_mc_samples=5, test_iterations=500)\n",
    "    zinbayes = ModelWrapper(obj, X_train, c_train=c_train, X_test=X_test, name='ZINBayes', do_imp=False)\n",
    "    zinbayes.run(max_iter=1000, do_silh=False, do_dll=True, do_holl=True, do_tsne=False, verbose=True)\n",
    "    \n",
    "    zinbayes_cv.append(zinbayes)\n",
    "    print('Done.\\n')"
   ]
  },
  {
   "cell_type": "code",
   "execution_count": null,
   "metadata": {
    "scrolled": false
   },
   "outputs": [],
   "source": [
    "# 5 repetitions on the full data set\n",
    "zinbayes_imputation = []\n",
    "\n",
    "for i in range(5):\n",
    "    print('Run {}...'.format(i))\n",
    "    obj = ZINBayes(n_components=K, n_mc_samples=5, test_iterations=500)\n",
    "    zinbayes = ModelWrapper(obj, X, c_train=c_train, X_test=X_test, name='ZINBayes', do_imp=True)\n",
    "    zinbayes.run(max_iter=300, do_silh=False, do_dll=False, do_holl=False, do_tsne=False, verbose=True)\n",
    "    \n",
    "    zinbayes_imputation.append(zinbayes)\n",
    "    print('Done.\\n')"
   ]
  },
  {
   "cell_type": "markdown",
   "metadata": {},
   "source": [
    "# Plot results"
   ]
  },
  {
   "cell_type": "code",
   "execution_count": null,
   "metadata": {},
   "outputs": [],
   "source": [
    "colors = sns.color_palette(\"Set1\", 10, desat=.7) # this is a list of 10 colors\n",
    "\n",
    "# We must choose what color to assign to each model\n",
    "model_list_clustering = [mpcmf_full_reps, zinbayes_full_reps, zinbwave_full_reps, scvi_full_reps, pcmf_full_reps, zifa_full_reps, fa_full_reps]\n",
    "# model_list_ll = [mpcmf_cv, zinbayes_cv, zinbwave_cv, scvi_cv, zifa_cv, fa_cv]\n",
    "model_list_imp = [mpcmf_imputation, zinbayes_imputation, zinbwave_imputation, scvi_imputation, pcmf_imputation, zifa_imputation]\n",
    "\n",
    "# Colors\n",
    "color_list_clustering = [colors[0], colors[1], colors[2], colors[4], colors[3], colors[5], colors[6]]\n",
    "hatch_list_clustering = ['//', '//', None, None, None, None, None]\n",
    "color_list_ll = [colors[0], colors[1], colors[2], colors[4], colors[5], colors[6]]\n",
    "hatch_list_ll = ['//', '//', None, None, None, None]\n",
    "color_list_imp = [colors[0], colors[1], colors[2], colors[4], colors[3], colors[5]]\n",
    "hatch_list_imp = ['//', '//', None, None, None, None, None]"
   ]
  },
  {
   "cell_type": "code",
   "execution_count": null,
   "metadata": {},
   "outputs": [],
   "source": [
    "model_list_clustering"
   ]
  },
  {
   "cell_type": "code",
   "execution_count": null,
   "metadata": {},
   "outputs": [],
   "source": [
    "pcmf.dropimp_err"
   ]
  },
  {
   "cell_type": "markdown",
   "metadata": {},
   "source": [
    "## Latent space clustering"
   ]
  },
  {
   "cell_type": "code",
   "execution_count": null,
   "metadata": {},
   "outputs": [],
   "source": [
    "fig = plt.figure(figsize=(10, 6))\n",
    "ax = plt.axes()\n",
    "ax,_,_  = plot_utils.clustering_cv(model_list_clustering, colors=color_list_clustering, show_legend=False, ylim=[0, 1],\n",
    "                            title=None, ax=ax, box=False, hatches=None);\n",
    "ax.figure.savefig('PBMC_clustering_bars.png', dpi=300, bbox_inches='tight')"
   ]
  },
  {
   "cell_type": "code",
   "execution_count": null,
   "metadata": {},
   "outputs": [],
   "source": [
    "model_list_2d = [mpcmf_full_reps[0], zinbayes_full_reps[0], zinbwave_full_reps[0], scvi_full_reps[0], \n",
    "                 pcmf_full_reps[0], zifa_full_reps[0], fa_full_reps[0]]"
   ]
  },
  {
   "cell_type": "code",
   "execution_count": null,
   "metadata": {},
   "outputs": [],
   "source": [
    "for model in model_list_2d:\n",
    "    model.do_tsne()"
   ]
  },
  {
   "cell_type": "code",
   "execution_count": null,
   "metadata": {},
   "outputs": [],
   "source": [
    "fig = plt.figure(figsize=(17, 8))\n",
    "ax = plt.axes()\n",
    "plot_utils.plot_2d(model_list_2d, labels, nrows=2, ncols=4, ax=ax, \n",
    "                          labels=clusters, legend=True, bbox_to_anchor=[1.2, 1.], titles=True, filename='PBMC_2d_all.png')"
   ]
  },
  {
   "cell_type": "code",
   "execution_count": null,
   "metadata": {},
   "outputs": [],
   "source": [
    "fig = plt.figure(figsize=(8, 6))\n",
    "ax = plt.axes()\n",
    "plot_utils.plot_2d([model_list_2d[1]], labels, nrows=1, ncols=1, ax=ax, \n",
    "                          labels=clusters, legend=True, bbox_to_anchor=[1., 1.], titles=True, filename='PBMC_2d_ZINBayes.png')"
   ]
  },
  {
   "cell_type": "markdown",
   "metadata": {},
   "source": [
    "## Held-out data log-likelihood"
   ]
  },
  {
   "cell_type": "code",
   "execution_count": null,
   "metadata": {},
   "outputs": [],
   "source": [
    "plt.figure(figsize=(10, 6))\n",
    "ax = plt.axes()\n",
    "ax = plot_utils.loglikelihood_cv(model_list_ll, colors=color_list_ll, show_legend=True, hatches=None,\n",
    "                            title=None, ax=ax, box=False);\n",
    "ax.figure.savefig('ZEISEL_ll_legend.png', dpi=300, bbox_inches='tight')"
   ]
  },
  {
   "cell_type": "markdown",
   "metadata": {},
   "source": [
    "## Imputation error"
   ]
  },
  {
   "cell_type": "code",
   "execution_count": null,
   "metadata": {},
   "outputs": [],
   "source": [
    "plt.figure(figsize=(5, 6))\n",
    "ax = plt.axes()\n",
    "ax = plot_utils.imputationerr_boxplot(model_list_imp, colors=color_list_imp, \n",
    "                                 show_legend=True, ax=ax, box=False, hatches=None);\n",
    "plt.ylim(0, 1.5);\n",
    "ax.figure.savefig('PBMC_imp_legend.png', dpi=300, bbox_inches='tight')"
   ]
  },
  {
   "cell_type": "markdown",
   "metadata": {},
   "source": [
    "## Technical variability"
   ]
  },
  {
   "cell_type": "code",
   "execution_count": null,
   "metadata": {},
   "outputs": [],
   "source": [
    "log_library_size = np.log(np.sum(X, axis=1))"
   ]
  },
  {
   "cell_type": "code",
   "execution_count": null,
   "metadata": {},
   "outputs": [],
   "source": [
    "from scipy.stats import pearsonr"
   ]
  },
  {
   "cell_type": "code",
   "execution_count": null,
   "metadata": {},
   "outputs": [],
   "source": [
    "fig = plt.figure(figsize=(10,4))\n",
    "\n",
    "ax = plt.subplot(1, 2, 1)\n",
    "est_l = mpcmf_full_reps[1].est_L\n",
    "plt.scatter(np.log(est_l.ravel()), log_library_size, alpha=0.5, s=30)\n",
    "plt.ylabel('log library size', fontsize=14)\n",
    "plt.xlabel('log cell scaling', fontsize=14)\n",
    "plt.title('m-pCMF (corr={:.4f})'.format(pearsonr(np.log(est_l).ravel(), log_library_size.ravel())[0]), fontsize=14)\n",
    "# plt.xlim(log_library_size.min(), log_library_size.max())\n",
    "\n",
    "ax = plt.subplot(1, 2, 2, sharey=ax)\n",
    "est_l = zinbayes_full_reps[1].model_inst.est_L\n",
    "plt.scatter(np.log(est_l.ravel()), log_library_size, alpha=0.5, s=30)\n",
    "# plt.ylabel('log-library size')\n",
    "plt.xlabel('log cell scaling', fontsize=14)\n",
    "plt.title('ZINBayes (corr={:.4f})'.format(pearsonr(np.log(est_l).ravel(), log_library_size.ravel())[0]), fontsize=14)\n",
    "# plt.xlim(log_library_size.min(), log_library_size.max())\n",
    "\n",
    "# ax = plt.subplot(1, 3, 3, sharey=ax)\n",
    "# est_l = scvi_full_reps[1].model_inst.est_L\n",
    "# plt.scatter(est_l.ravel(), log_library_size, alpha=0.5, s=30)\n",
    "# # plt.ylabel('log-library size')\n",
    "# plt.xlabel('log cell scaling', fontsize=14)\n",
    "# plt.title('scVI (corr={:.4f})'.format(pearsonr(np.log(est_l).ravel(), log_library_size.ravel())[0]), fontsize=14)\n",
    "# plt.xlim(log_library_size.min(), log_library_size.max())\n",
    "fig.savefig('PBMC_scalings.png', dpi=300, bbox_inches='tight')\n",
    "plt.show()"
   ]
  }
 ],
 "metadata": {
  "kernelspec": {
   "display_name": "scRNA-seq models",
   "language": "python",
   "name": "scrnaseq_models"
  },
  "language_info": {
   "codemirror_mode": {
    "name": "ipython",
    "version": 3
   },
   "file_extension": ".py",
   "mimetype": "text/x-python",
   "name": "python",
   "nbconvert_exporter": "python",
   "pygments_lexer": "ipython3",
   "version": "3.6.5"
  },
  "toc": {
   "base_numbering": 1,
   "nav_menu": {},
   "number_sections": true,
   "sideBar": true,
   "skip_h1_title": false,
   "title_cell": "Table of Contents",
   "title_sidebar": "Contents",
   "toc_cell": true,
   "toc_position": {},
   "toc_section_display": true,
   "toc_window_display": false
  }
 },
 "nbformat": 4,
 "nbformat_minor": 2
}
